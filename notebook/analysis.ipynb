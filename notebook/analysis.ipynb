{
 "cells": [
  {
   "cell_type": "code",
   "execution_count": 261,
   "metadata": {},
   "outputs": [],
   "source": [
    "import pandas as pd\n",
    "pd.set_option('display.width', 200)\n",
    "pd.set_option('display.max_columns', None)\n",
    "pd.set_option('display.max_colwidth', None)"
   ]
  },
  {
   "cell_type": "code",
   "execution_count": 262,
   "metadata": {},
   "outputs": [
    {
     "name": "stdout",
     "output_type": "stream",
     "text": [
      "       InvoiceNo StockCode                          Description  Quantity      InvoiceDate  UnitPrice  CustomerID         Country\n",
      "0         536365    85123A   WHITE HANGING HEART T-LIGHT HOLDER         6   12/1/2010 8:26       2.55     17850.0  United Kingdom\n",
      "1         536365     71053                  WHITE METAL LANTERN         6   12/1/2010 8:26       3.39     17850.0  United Kingdom\n",
      "2         536365    84406B       CREAM CUPID HEARTS COAT HANGER         8   12/1/2010 8:26       2.75     17850.0  United Kingdom\n",
      "3         536365    84029G  KNITTED UNION FLAG HOT WATER BOTTLE         6   12/1/2010 8:26       3.39     17850.0  United Kingdom\n",
      "4         536365    84029E       RED WOOLLY HOTTIE WHITE HEART.         6   12/1/2010 8:26       3.39     17850.0  United Kingdom\n",
      "...          ...       ...                                  ...       ...              ...        ...         ...             ...\n",
      "541904    581587     22613          PACK OF 20 SPACEBOY NAPKINS        12  12/9/2011 12:50       0.85     12680.0          France\n",
      "541905    581587     22899         CHILDREN'S APRON DOLLY GIRL          6  12/9/2011 12:50       2.10     12680.0          France\n",
      "541906    581587     23254        CHILDRENS CUTLERY DOLLY GIRL          4  12/9/2011 12:50       4.15     12680.0          France\n",
      "541907    581587     23255      CHILDRENS CUTLERY CIRCUS PARADE         4  12/9/2011 12:50       4.15     12680.0          France\n",
      "541908    581587     22138        BAKING SET 9 PIECE RETROSPOT          3  12/9/2011 12:50       4.95     12680.0          France\n",
      "\n",
      "[541909 rows x 8 columns]\n"
     ]
    }
   ],
   "source": [
    "data = pd.read_csv('/home/pomoreq/eCommerceCustomerBehaviorAnalysis/data/data.csv', encoding='unicode_escape')\n",
    "print(data)"
   ]
  },
  {
   "cell_type": "markdown",
   "metadata": {},
   "source": [
    "1.Preprocessing kolumn oraz stukturalna EDA\n",
    "1A. kolumna invoiceNo"
   ]
  },
  {
   "cell_type": "markdown",
   "metadata": {},
   "source": [
    "Sprawdzam czy są nany.\n",
    "0 nanow"
   ]
  },
  {
   "cell_type": "code",
   "execution_count": 263,
   "metadata": {},
   "outputs": [],
   "source": [
    "data['InvoiceNo'] = data['InvoiceNo'].astype('string')\n",
    "isNansInvoiceNo = data['InvoiceNo'].isna().sum()"
   ]
  },
  {
   "cell_type": "markdown",
   "metadata": {},
   "source": [
    "typ danych poprawny?\n",
    "Nie, zmieniam z typu danych obiekt na string ponieważ indetyfikatory zawieraja znaki nienumeryczne"
   ]
  },
  {
   "cell_type": "code",
   "execution_count": 264,
   "metadata": {},
   "outputs": [
    {
     "data": {
      "text/plain": [
       "InvoiceNo      string[python]\n",
       "StockCode              object\n",
       "Description            object\n",
       "Quantity                int64\n",
       "InvoiceDate            object\n",
       "UnitPrice             float64\n",
       "CustomerID            float64\n",
       "Country                object\n",
       "dtype: object"
      ]
     },
     "execution_count": 264,
     "metadata": {},
     "output_type": "execute_result"
    }
   ],
   "source": [
    "data['InvoiceNo'] = data['InvoiceNo'].astype('string')\n",
    "data.dtypes"
   ]
  },
  {
   "cell_type": "markdown",
   "metadata": {},
   "source": [
    "Czy są powtorzenia indeytfikatora?\n",
    "Tak są np faktura 573835 wystepuje 1114 razy. oznacza to ze jedna faktura to wiele pozycji"
   ]
  },
  {
   "cell_type": "code",
   "execution_count": 265,
   "metadata": {},
   "outputs": [],
   "source": [
    "valueCountsInvoiceNo = data['InvoiceNo'].value_counts().sort_values(ascending=False)"
   ]
  },
  {
   "cell_type": "markdown",
   "metadata": {},
   "source": [
    " Czy długości InvoiceNo są spójne?\n",
    " Tak dla zamowienia jest dlugosc 6 a dla zwrotu 7"
   ]
  },
  {
   "cell_type": "code",
   "execution_count": 266,
   "metadata": {},
   "outputs": [
    {
     "data": {
      "text/plain": [
       "InvoiceNo\n",
       "6    532618\n",
       "7      9291\n",
       "Name: count, dtype: int64"
      ]
     },
     "execution_count": 266,
     "metadata": {},
     "output_type": "execute_result"
    }
   ],
   "source": [
    "lengthOfValuesInInvoiceNo = data['InvoiceNo'].apply(len).value_counts()\n",
    "lengthOfValuesInInvoiceNo"
   ]
  },
  {
   "cell_type": "markdown",
   "metadata": {},
   "source": [
    " Czy są dziwne znaki/spacje?\n",
    " Nie ma, wnioskuje po dlugosci wartosci"
   ]
  },
  {
   "cell_type": "markdown",
   "metadata": {},
   "source": [
    "Dodaje kolumne isRefund która oznacza czy zamowienie jest zwrotem"
   ]
  },
  {
   "cell_type": "code",
   "execution_count": 267,
   "metadata": {},
   "outputs": [],
   "source": [
    "data['isRefund'] = data['InvoiceNo'].str[0] == 'C'\n"
   ]
  },
  {
   "cell_type": "markdown",
   "metadata": {},
   "source": [
    "Czy invoiceNo jest alfaNumeryczny\n",
    "Tak invoice no jest alfa numeryczny"
   ]
  },
  {
   "cell_type": "code",
   "execution_count": 268,
   "metadata": {},
   "outputs": [
    {
     "data": {
      "text/plain": [
       "np.True_"
      ]
     },
     "execution_count": 268,
     "metadata": {},
     "output_type": "execute_result"
    }
   ],
   "source": [
    "isInvoiceNoAlnum = data['InvoiceNo'].apply(lambda s: s.isalnum()).all()\n",
    "isInvoiceNoAlnum"
   ]
  },
  {
   "cell_type": "markdown",
   "metadata": {},
   "source": [
    "Ile pozycji zawiera przeciętny InvoiceNo?\n",
    "(średnia liczba rekordów przypadających na jeden numer faktury)\n",
    "srednia liczba rekordow to18,3"
   ]
  },
  {
   "cell_type": "code",
   "execution_count": 269,
   "metadata": {},
   "outputs": [
    {
     "data": {
      "text/plain": [
       "np.float64(20.923127413127414)"
      ]
     },
     "execution_count": 269,
     "metadata": {},
     "output_type": "execute_result"
    }
   ],
   "source": [
    "meanPositionsForInvoiceNo = data.groupby('InvoiceNo')['StockCode'].count().mean()\n",
    "meanPositionsForInvoiceNo"
   ]
  },
  {
   "cell_type": "markdown",
   "metadata": {},
   "source": [
    "Czy są InvoiceNo, które mają tylko jedną pozycję?\n",
    "Czy są faktury jednoitemowe?\n",
    "tak istnieja takie faktury"
   ]
  },
  {
   "cell_type": "code",
   "execution_count": 270,
   "metadata": {},
   "outputs": [
    {
     "data": {
      "text/plain": [
       "np.True_"
      ]
     },
     "execution_count": 270,
     "metadata": {},
     "output_type": "execute_result"
    }
   ],
   "source": [
    "isOneItemInvoiceNo = (data.groupby('InvoiceNo')['StockCode'].count() == 1).any()\n",
    "isOneItemInvoiceNo"
   ]
  },
  {
   "cell_type": "markdown",
   "metadata": {},
   "source": [
    "Czy InvoiceNo są uporządkowane rosnąco względem daty?\n",
    "tak bo pierwszy wiersz pokrywa sie z invoiceDateMin a ostatni z max"
   ]
  },
  {
   "cell_type": "code",
   "execution_count": 271,
   "metadata": {},
   "outputs": [
    {
     "data": {
      "text/html": [
       "<div>\n",
       "<style scoped>\n",
       "    .dataframe tbody tr th:only-of-type {\n",
       "        vertical-align: middle;\n",
       "    }\n",
       "\n",
       "    .dataframe tbody tr th {\n",
       "        vertical-align: top;\n",
       "    }\n",
       "\n",
       "    .dataframe thead th {\n",
       "        text-align: right;\n",
       "    }\n",
       "</style>\n",
       "<table border=\"1\" class=\"dataframe\">\n",
       "  <thead>\n",
       "    <tr style=\"text-align: right;\">\n",
       "      <th></th>\n",
       "      <th>InvoiceNo</th>\n",
       "      <th>StockCode</th>\n",
       "      <th>Description</th>\n",
       "      <th>Quantity</th>\n",
       "      <th>InvoiceDate</th>\n",
       "      <th>UnitPrice</th>\n",
       "      <th>CustomerID</th>\n",
       "      <th>Country</th>\n",
       "      <th>isRefund</th>\n",
       "    </tr>\n",
       "  </thead>\n",
       "  <tbody>\n",
       "    <tr>\n",
       "      <th>0</th>\n",
       "      <td>536365</td>\n",
       "      <td>85123A</td>\n",
       "      <td>WHITE HANGING HEART T-LIGHT HOLDER</td>\n",
       "      <td>6</td>\n",
       "      <td>12/1/2010 8:26</td>\n",
       "      <td>2.55</td>\n",
       "      <td>17850.0</td>\n",
       "      <td>United Kingdom</td>\n",
       "      <td>False</td>\n",
       "    </tr>\n",
       "    <tr>\n",
       "      <th>1</th>\n",
       "      <td>536365</td>\n",
       "      <td>71053</td>\n",
       "      <td>WHITE METAL LANTERN</td>\n",
       "      <td>6</td>\n",
       "      <td>12/1/2010 8:26</td>\n",
       "      <td>3.39</td>\n",
       "      <td>17850.0</td>\n",
       "      <td>United Kingdom</td>\n",
       "      <td>False</td>\n",
       "    </tr>\n",
       "    <tr>\n",
       "      <th>2</th>\n",
       "      <td>536365</td>\n",
       "      <td>84406B</td>\n",
       "      <td>CREAM CUPID HEARTS COAT HANGER</td>\n",
       "      <td>8</td>\n",
       "      <td>12/1/2010 8:26</td>\n",
       "      <td>2.75</td>\n",
       "      <td>17850.0</td>\n",
       "      <td>United Kingdom</td>\n",
       "      <td>False</td>\n",
       "    </tr>\n",
       "    <tr>\n",
       "      <th>3</th>\n",
       "      <td>536365</td>\n",
       "      <td>84029G</td>\n",
       "      <td>KNITTED UNION FLAG HOT WATER BOTTLE</td>\n",
       "      <td>6</td>\n",
       "      <td>12/1/2010 8:26</td>\n",
       "      <td>3.39</td>\n",
       "      <td>17850.0</td>\n",
       "      <td>United Kingdom</td>\n",
       "      <td>False</td>\n",
       "    </tr>\n",
       "    <tr>\n",
       "      <th>4</th>\n",
       "      <td>536365</td>\n",
       "      <td>84029E</td>\n",
       "      <td>RED WOOLLY HOTTIE WHITE HEART.</td>\n",
       "      <td>6</td>\n",
       "      <td>12/1/2010 8:26</td>\n",
       "      <td>3.39</td>\n",
       "      <td>17850.0</td>\n",
       "      <td>United Kingdom</td>\n",
       "      <td>False</td>\n",
       "    </tr>\n",
       "    <tr>\n",
       "      <th>...</th>\n",
       "      <td>...</td>\n",
       "      <td>...</td>\n",
       "      <td>...</td>\n",
       "      <td>...</td>\n",
       "      <td>...</td>\n",
       "      <td>...</td>\n",
       "      <td>...</td>\n",
       "      <td>...</td>\n",
       "      <td>...</td>\n",
       "    </tr>\n",
       "    <tr>\n",
       "      <th>541904</th>\n",
       "      <td>581587</td>\n",
       "      <td>22613</td>\n",
       "      <td>PACK OF 20 SPACEBOY NAPKINS</td>\n",
       "      <td>12</td>\n",
       "      <td>12/9/2011 12:50</td>\n",
       "      <td>0.85</td>\n",
       "      <td>12680.0</td>\n",
       "      <td>France</td>\n",
       "      <td>False</td>\n",
       "    </tr>\n",
       "    <tr>\n",
       "      <th>541905</th>\n",
       "      <td>581587</td>\n",
       "      <td>22899</td>\n",
       "      <td>CHILDREN'S APRON DOLLY GIRL</td>\n",
       "      <td>6</td>\n",
       "      <td>12/9/2011 12:50</td>\n",
       "      <td>2.10</td>\n",
       "      <td>12680.0</td>\n",
       "      <td>France</td>\n",
       "      <td>False</td>\n",
       "    </tr>\n",
       "    <tr>\n",
       "      <th>541906</th>\n",
       "      <td>581587</td>\n",
       "      <td>23254</td>\n",
       "      <td>CHILDRENS CUTLERY DOLLY GIRL</td>\n",
       "      <td>4</td>\n",
       "      <td>12/9/2011 12:50</td>\n",
       "      <td>4.15</td>\n",
       "      <td>12680.0</td>\n",
       "      <td>France</td>\n",
       "      <td>False</td>\n",
       "    </tr>\n",
       "    <tr>\n",
       "      <th>541907</th>\n",
       "      <td>581587</td>\n",
       "      <td>23255</td>\n",
       "      <td>CHILDRENS CUTLERY CIRCUS PARADE</td>\n",
       "      <td>4</td>\n",
       "      <td>12/9/2011 12:50</td>\n",
       "      <td>4.15</td>\n",
       "      <td>12680.0</td>\n",
       "      <td>France</td>\n",
       "      <td>False</td>\n",
       "    </tr>\n",
       "    <tr>\n",
       "      <th>541908</th>\n",
       "      <td>581587</td>\n",
       "      <td>22138</td>\n",
       "      <td>BAKING SET 9 PIECE RETROSPOT</td>\n",
       "      <td>3</td>\n",
       "      <td>12/9/2011 12:50</td>\n",
       "      <td>4.95</td>\n",
       "      <td>12680.0</td>\n",
       "      <td>France</td>\n",
       "      <td>False</td>\n",
       "    </tr>\n",
       "  </tbody>\n",
       "</table>\n",
       "<p>541909 rows × 9 columns</p>\n",
       "</div>"
      ],
      "text/plain": [
       "       InvoiceNo StockCode                          Description  Quantity      InvoiceDate  UnitPrice  CustomerID         Country  isRefund\n",
       "0         536365    85123A   WHITE HANGING HEART T-LIGHT HOLDER         6   12/1/2010 8:26       2.55     17850.0  United Kingdom     False\n",
       "1         536365     71053                  WHITE METAL LANTERN         6   12/1/2010 8:26       3.39     17850.0  United Kingdom     False\n",
       "2         536365    84406B       CREAM CUPID HEARTS COAT HANGER         8   12/1/2010 8:26       2.75     17850.0  United Kingdom     False\n",
       "3         536365    84029G  KNITTED UNION FLAG HOT WATER BOTTLE         6   12/1/2010 8:26       3.39     17850.0  United Kingdom     False\n",
       "4         536365    84029E       RED WOOLLY HOTTIE WHITE HEART.         6   12/1/2010 8:26       3.39     17850.0  United Kingdom     False\n",
       "...          ...       ...                                  ...       ...              ...        ...         ...             ...       ...\n",
       "541904    581587     22613          PACK OF 20 SPACEBOY NAPKINS        12  12/9/2011 12:50       0.85     12680.0          France     False\n",
       "541905    581587     22899         CHILDREN'S APRON DOLLY GIRL          6  12/9/2011 12:50       2.10     12680.0          France     False\n",
       "541906    581587     23254        CHILDRENS CUTLERY DOLLY GIRL          4  12/9/2011 12:50       4.15     12680.0          France     False\n",
       "541907    581587     23255      CHILDRENS CUTLERY CIRCUS PARADE         4  12/9/2011 12:50       4.15     12680.0          France     False\n",
       "541908    581587     22138        BAKING SET 9 PIECE RETROSPOT          3  12/9/2011 12:50       4.95     12680.0          France     False\n",
       "\n",
       "[541909 rows x 9 columns]"
      ]
     },
     "execution_count": 271,
     "metadata": {},
     "output_type": "execute_result"
    }
   ],
   "source": [
    "data"
   ]
  },
  {
   "cell_type": "markdown",
   "metadata": {},
   "source": [
    "Czy są duże grupy duplikatów InvoiceNo z różnymi CustomerID?\n",
    "czy są przypadki, że ten sam InvoiceNo ma przypisanych różnych klientów?\n",
    "jeden invoice no ma jesten customerid"
   ]
  },
  {
   "cell_type": "code",
   "execution_count": 308,
   "metadata": {},
   "outputs": [
    {
     "data": {
      "text/plain": [
       "InvoiceNo\n",
       "536365     1\n",
       "536366     1\n",
       "536367     1\n",
       "536368     1\n",
       "536369     1\n",
       "          ..\n",
       "C581484    1\n",
       "C581490    1\n",
       "C581499    1\n",
       "C581568    1\n",
       "C581569    1\n",
       "Name: CustomerID, Length: 22190, dtype: int64"
      ]
     },
     "execution_count": 308,
     "metadata": {},
     "output_type": "execute_result"
    }
   ],
   "source": [
    "isInvoiceNoWithMultipleClients = data.groupby('InvoiceNo')['CustomerID'].nunique()\n",
    "isInvoiceNoWithMultipleClients"
   ]
  },
  {
   "cell_type": "markdown",
   "metadata": {},
   "source": [
    "Duplikaty w danych?\n",
    "tak wystepuja duplikaty czyli invoiceNo z tym samym stocCodem np. invoice no 536409 ma dwa razy 90199C. do dalszej analizy czy jeden stockcode moze miec wiele opisow tzn np rozniace sie koolory"
   ]
  },
  {
   "cell_type": "code",
   "execution_count": null,
   "metadata": {},
   "outputs": [
    {
     "data": {
      "text/plain": [
       "125       True\n",
       "498       True\n",
       "502       True\n",
       "517       True\n",
       "525       True\n",
       "          ... \n",
       "541692    True\n",
       "541697    True\n",
       "541698    True\n",
       "541699    True\n",
       "541701    True\n",
       "Length: 10148, dtype: bool"
      ]
     },
     "execution_count": 321,
     "metadata": {},
     "output_type": "execute_result"
    }
   ],
   "source": [
    "isDuplicatedInvoiceNoAndStockCode = data.duplicated(subset=['InvoiceNo','StockCode']) == True\n",
    "onlyTrues = isDuplicatedInvoiceNoAndStockCode[isDuplicatedInvoiceNoAndStockCode == True]\n",
    "onlyTruesIndexes = onlyTrues.index\n",
    "duplicates = data.loc[onlyTruesIndexes,['InvoiceNo','StockCode']]\n",
    "duplicates\n",
    "onlyTrues"
   ]
  },
  {
   "cell_type": "markdown",
   "metadata": {},
   "source": [
    "1B. Kolumna StockCode"
   ]
  },
  {
   "cell_type": "markdown",
   "metadata": {},
   "source": [
    "Czy są nany?\n",
    "0 nanów"
   ]
  },
  {
   "cell_type": "code",
   "execution_count": 273,
   "metadata": {},
   "outputs": [
    {
     "data": {
      "text/plain": [
       "np.int64(0)"
      ]
     },
     "execution_count": 273,
     "metadata": {},
     "output_type": "execute_result"
    }
   ],
   "source": [
    "isNansStockCode = data['StockCode'].isna().sum()\n",
    "isNansStockCode"
   ]
  },
  {
   "cell_type": "markdown",
   "metadata": {},
   "source": [
    "Czy jest prawidlowy typ danych?\n",
    "Nie, jest object a mozna zmienic na String. poniewaz StockCode zawiera litery oraz cyfry"
   ]
  },
  {
   "cell_type": "code",
   "execution_count": 274,
   "metadata": {},
   "outputs": [],
   "source": [
    "data['StockCode'] = data['StockCode'].astype('string')"
   ]
  },
  {
   "cell_type": "markdown",
   "metadata": {},
   "source": [
    "Czy są podejrzane kody (np. bardzo krótkie, bardzo długie)\n",
    "Tak jest przestrzal dlugosci kodow od 1 do 12."
   ]
  },
  {
   "cell_type": "code",
   "execution_count": 275,
   "metadata": {},
   "outputs": [
    {
     "data": {
      "text/plain": [
       "StockCode\n",
       "5     487036\n",
       "6      51488\n",
       "4       1276\n",
       "1        715\n",
       "3        710\n",
       "7        390\n",
       "2        144\n",
       "12        71\n",
       "9         48\n",
       "8         31\n",
       "Name: count, dtype: int64"
      ]
     },
     "execution_count": 275,
     "metadata": {},
     "output_type": "execute_result"
    }
   ],
   "source": [
    "lenOfValuesStockCode = data['StockCode'].apply(len).value_counts()\n",
    "lenOfValuesStockCode\n"
   ]
  },
  {
   "cell_type": "markdown",
   "metadata": {},
   "source": [
    "Czy występują znaki nietypowe, spacje, znaki specjalne?\n",
    "tak,wystepuja znaki specjalne, zostawiam je ze wzgledu na to ze to sa np indetyfikatory giftow. kody zwieraja cyfry,litery i znaki specjalne"
   ]
  },
  {
   "cell_type": "code",
   "execution_count": 276,
   "metadata": {},
   "outputs": [
    {
     "data": {
      "text/html": [
       "<div>\n",
       "<style scoped>\n",
       "    .dataframe tbody tr th:only-of-type {\n",
       "        vertical-align: middle;\n",
       "    }\n",
       "\n",
       "    .dataframe tbody tr th {\n",
       "        vertical-align: top;\n",
       "    }\n",
       "\n",
       "    .dataframe thead th {\n",
       "        text-align: right;\n",
       "    }\n",
       "</style>\n",
       "<table border=\"1\" class=\"dataframe\">\n",
       "  <thead>\n",
       "    <tr style=\"text-align: right;\">\n",
       "      <th></th>\n",
       "      <th>InvoiceNo</th>\n",
       "      <th>StockCode</th>\n",
       "      <th>Description</th>\n",
       "      <th>Quantity</th>\n",
       "      <th>InvoiceDate</th>\n",
       "      <th>UnitPrice</th>\n",
       "      <th>CustomerID</th>\n",
       "      <th>Country</th>\n",
       "      <th>isRefund</th>\n",
       "    </tr>\n",
       "  </thead>\n",
       "  <tbody>\n",
       "    <tr>\n",
       "      <th>4406</th>\n",
       "      <td>536779</td>\n",
       "      <td>BANK CHARGES</td>\n",
       "      <td>Bank Charges</td>\n",
       "      <td>1</td>\n",
       "      <td>12/2/2010 15:08</td>\n",
       "      <td>15.00</td>\n",
       "      <td>15823.0</td>\n",
       "      <td>United Kingdom</td>\n",
       "      <td>False</td>\n",
       "    </tr>\n",
       "    <tr>\n",
       "      <th>14435</th>\n",
       "      <td>C537572</td>\n",
       "      <td>BANK CHARGES</td>\n",
       "      <td>Bank Charges</td>\n",
       "      <td>-1</td>\n",
       "      <td>12/7/2010 12:00</td>\n",
       "      <td>95.38</td>\n",
       "      <td>NaN</td>\n",
       "      <td>United Kingdom</td>\n",
       "      <td>True</td>\n",
       "    </tr>\n",
       "    <tr>\n",
       "      <th>28992</th>\n",
       "      <td>C538680</td>\n",
       "      <td>BANK CHARGES</td>\n",
       "      <td>Bank Charges</td>\n",
       "      <td>-1</td>\n",
       "      <td>12/13/2010 17:10</td>\n",
       "      <td>966.92</td>\n",
       "      <td>NaN</td>\n",
       "      <td>United Kingdom</td>\n",
       "      <td>True</td>\n",
       "    </tr>\n",
       "    <tr>\n",
       "      <th>38248</th>\n",
       "      <td>539492</td>\n",
       "      <td>gift_0001_40</td>\n",
       "      <td>Dotcomgiftshop Gift Voucher £40.00</td>\n",
       "      <td>1</td>\n",
       "      <td>12/20/2010 10:14</td>\n",
       "      <td>34.04</td>\n",
       "      <td>NaN</td>\n",
       "      <td>United Kingdom</td>\n",
       "      <td>False</td>\n",
       "    </tr>\n",
       "    <tr>\n",
       "      <th>42057</th>\n",
       "      <td>539958</td>\n",
       "      <td>gift_0001_50</td>\n",
       "      <td>Dotcomgiftshop Gift Voucher £50.00</td>\n",
       "      <td>1</td>\n",
       "      <td>12/23/2010 13:26</td>\n",
       "      <td>42.55</td>\n",
       "      <td>NaN</td>\n",
       "      <td>United Kingdom</td>\n",
       "      <td>False</td>\n",
       "    </tr>\n",
       "    <tr>\n",
       "      <th>...</th>\n",
       "      <td>...</td>\n",
       "      <td>...</td>\n",
       "      <td>...</td>\n",
       "      <td>...</td>\n",
       "      <td>...</td>\n",
       "      <td>...</td>\n",
       "      <td>...</td>\n",
       "      <td>...</td>\n",
       "      <td>...</td>\n",
       "    </tr>\n",
       "    <tr>\n",
       "      <th>481152</th>\n",
       "      <td>C577342</td>\n",
       "      <td>BANK CHARGES</td>\n",
       "      <td>Bank Charges</td>\n",
       "      <td>-1</td>\n",
       "      <td>11/18/2011 15:11</td>\n",
       "      <td>490.06</td>\n",
       "      <td>NaN</td>\n",
       "      <td>United Kingdom</td>\n",
       "      <td>True</td>\n",
       "    </tr>\n",
       "    <tr>\n",
       "      <th>481153</th>\n",
       "      <td>C577343</td>\n",
       "      <td>BANK CHARGES</td>\n",
       "      <td>Bank Charges</td>\n",
       "      <td>-1</td>\n",
       "      <td>11/18/2011 15:13</td>\n",
       "      <td>27.21</td>\n",
       "      <td>NaN</td>\n",
       "      <td>United Kingdom</td>\n",
       "      <td>True</td>\n",
       "    </tr>\n",
       "    <tr>\n",
       "      <th>506357</th>\n",
       "      <td>579137</td>\n",
       "      <td>BANK CHARGES</td>\n",
       "      <td>Bank Charges</td>\n",
       "      <td>1</td>\n",
       "      <td>11/28/2011 12:51</td>\n",
       "      <td>15.00</td>\n",
       "      <td>14704.0</td>\n",
       "      <td>United Kingdom</td>\n",
       "      <td>False</td>\n",
       "    </tr>\n",
       "    <tr>\n",
       "      <th>534008</th>\n",
       "      <td>581127</td>\n",
       "      <td>BANK CHARGES</td>\n",
       "      <td>Bank Charges</td>\n",
       "      <td>1</td>\n",
       "      <td>12/7/2011 12:45</td>\n",
       "      <td>15.00</td>\n",
       "      <td>16271.0</td>\n",
       "      <td>United Kingdom</td>\n",
       "      <td>False</td>\n",
       "    </tr>\n",
       "    <tr>\n",
       "      <th>536047</th>\n",
       "      <td>581217</td>\n",
       "      <td>gift_0001_10</td>\n",
       "      <td>Dotcomgiftshop Gift Voucher £10.00</td>\n",
       "      <td>1</td>\n",
       "      <td>12/8/2011 9:20</td>\n",
       "      <td>8.33</td>\n",
       "      <td>NaN</td>\n",
       "      <td>United Kingdom</td>\n",
       "      <td>False</td>\n",
       "    </tr>\n",
       "  </tbody>\n",
       "</table>\n",
       "<p>71 rows × 9 columns</p>\n",
       "</div>"
      ],
      "text/plain": [
       "       InvoiceNo     StockCode                         Description  Quantity       InvoiceDate  UnitPrice  CustomerID         Country  isRefund\n",
       "4406      536779  BANK CHARGES                        Bank Charges         1   12/2/2010 15:08      15.00     15823.0  United Kingdom     False\n",
       "14435    C537572  BANK CHARGES                        Bank Charges        -1   12/7/2010 12:00      95.38         NaN  United Kingdom      True\n",
       "28992    C538680  BANK CHARGES                        Bank Charges        -1  12/13/2010 17:10     966.92         NaN  United Kingdom      True\n",
       "38248     539492  gift_0001_40  Dotcomgiftshop Gift Voucher £40.00         1  12/20/2010 10:14      34.04         NaN  United Kingdom     False\n",
       "42057     539958  gift_0001_50  Dotcomgiftshop Gift Voucher £50.00         1  12/23/2010 13:26      42.55         NaN  United Kingdom     False\n",
       "...          ...           ...                                 ...       ...               ...        ...         ...             ...       ...\n",
       "481152   C577342  BANK CHARGES                        Bank Charges        -1  11/18/2011 15:11     490.06         NaN  United Kingdom      True\n",
       "481153   C577343  BANK CHARGES                        Bank Charges        -1  11/18/2011 15:13      27.21         NaN  United Kingdom      True\n",
       "506357    579137  BANK CHARGES                        Bank Charges         1  11/28/2011 12:51      15.00     14704.0  United Kingdom     False\n",
       "534008    581127  BANK CHARGES                        Bank Charges         1   12/7/2011 12:45      15.00     16271.0  United Kingdom     False\n",
       "536047    581217  gift_0001_10  Dotcomgiftshop Gift Voucher £10.00         1    12/8/2011 9:20       8.33         NaN  United Kingdom     False\n",
       "\n",
       "[71 rows x 9 columns]"
      ]
     },
     "execution_count": 276,
     "metadata": {},
     "output_type": "execute_result"
    }
   ],
   "source": [
    "isAlnumStockCode = data['StockCode'].apply(lambda s: s.isalnum()).all()\n",
    "nonAlnum = data[~data['StockCode'].apply(str.isalnum)]\n",
    "nonAlnum"
   ]
  },
  {
   "cell_type": "markdown",
   "metadata": {},
   "source": [
    "Czy są kody zawierające tylko litery / liczby / znaki specjalne?\n",
    "Są kody zwierajace tylko liczby, sa kody zwierajace tylko tez literyi, nie ma stock code zlozonych tylkoze znakow specjalnych\n",
    "Czy są StockCode o nietypowych nazwach?\n",
    "Tak są, typu post,dot"
   ]
  },
  {
   "cell_type": "code",
   "execution_count": 322,
   "metadata": {},
   "outputs": [
    {
     "data": {
      "text/plain": [
       "np.True_"
      ]
     },
     "execution_count": 322,
     "metadata": {},
     "output_type": "execute_result"
    }
   ],
   "source": [
    "isOnlyLetters = data['StockCode'].apply(lambda s: s.isalpha()).any()\n",
    "isOnlyLetters"
   ]
  },
  {
   "cell_type": "code",
   "execution_count": 323,
   "metadata": {},
   "outputs": [
    {
     "data": {
      "text/plain": [
       "45        POST\n",
       "141          D\n",
       "386       POST\n",
       "1123      POST\n",
       "2239         M\n",
       "          ... \n",
       "541216    POST\n",
       "541541       M\n",
       "541730    POST\n",
       "541767    POST\n",
       "541768    POST\n",
       "Name: StockCode, Length: 1774, dtype: string"
      ]
     },
     "execution_count": 323,
     "metadata": {},
     "output_type": "execute_result"
    }
   ],
   "source": [
    "isOnlyLettersCheck = data['StockCode'].apply(lambda s: s.isalpha())\n",
    "isOnlyLettersCheckTrueIndices = isOnlyLettersCheck[isOnlyLettersCheck == True].index\n",
    "isOnlyLettersCheckRows = data.loc[isOnlyLettersCheckTrueIndices,'StockCode']\n",
    "isOnlyLettersCheckRows"
   ]
  },
  {
   "cell_type": "code",
   "execution_count": 341,
   "metadata": {},
   "outputs": [
    {
     "data": {
      "text/plain": [
       "0         False\n",
       "1         False\n",
       "2         False\n",
       "3         False\n",
       "4         False\n",
       "          ...  \n",
       "541904    False\n",
       "541905    False\n",
       "541906    False\n",
       "541907    False\n",
       "541908    False\n",
       "Name: StockCode, Length: 406829, dtype: bool"
      ]
     },
     "execution_count": 341,
     "metadata": {},
     "output_type": "execute_result"
    }
   ],
   "source": [
    "isOnlySpecial = data['StockCode'].apply(lambda s: all((not c.isalnum() for c in str(s))))\n",
    "isOnlySpecial"
   ]
  },
  {
   "cell_type": "code",
   "execution_count": 342,
   "metadata": {},
   "outputs": [
    {
     "data": {
      "text/plain": [
       "Series([], Name: StockCode, dtype: string)"
      ]
     },
     "execution_count": 342,
     "metadata": {},
     "output_type": "execute_result"
    }
   ],
   "source": [
    "isOnlySpecial = data['StockCode'].apply(lambda s:  all((not c.isalnum() for c in str(s))))\n",
    "isOnlySpecialTrueIndices = isOnlySpecial[isOnlySpecial == True].index\n",
    "isOnlySpecialCheckRows = data.loc[isOnlySpecialTrueIndices,'StockCode']\n",
    "isOnlySpecialCheckRows"
   ]
  },
  {
   "cell_type": "markdown",
   "metadata": {},
   "source": [
    "sprawdzam ilość unikalnych kodów\n",
    "4070 unikalnych kodów"
   ]
  },
  {
   "cell_type": "code",
   "execution_count": 277,
   "metadata": {},
   "outputs": [
    {
     "data": {
      "text/plain": [
       "4070"
      ]
     },
     "execution_count": 277,
     "metadata": {},
     "output_type": "execute_result"
    }
   ],
   "source": [
    "nUniqueStockCode = data['StockCode'].nunique()\n",
    "nUniqueStockCode"
   ]
  },
  {
   "cell_type": "markdown",
   "metadata": {},
   "source": [
    "Czy niektóre kody występują wyjątkowo często?\n",
    "są co wyczestupa czesto, ale nie wyjatkowo czesto\n",
    "Czy są StockCode, które występują tylko raz w całym zbiorze?Czy sa podejrzane\n",
    "tak są, ne sa podejrzane."
   ]
  },
  {
   "cell_type": "code",
   "execution_count": 310,
   "metadata": {},
   "outputs": [
    {
     "data": {
      "text/plain": [
       "StockCode\n",
       "85123A    2077\n",
       "22423     1905\n",
       "85099B    1662\n",
       "84879     1418\n",
       "47566     1416\n",
       "          ... \n",
       "90027A       1\n",
       "90027D       1\n",
       "90214Z       1\n",
       "84206B       1\n",
       "23449        1\n",
       "Name: count, Length: 3684, dtype: Int64"
      ]
     },
     "execution_count": 310,
     "metadata": {},
     "output_type": "execute_result"
    }
   ],
   "source": [
    "stockCodeValueCounts = data['StockCode'].value_counts().sort_values(ascending=False)\n",
    "stockCodeValueCounts"
   ]
  },
  {
   "cell_type": "markdown",
   "metadata": {},
   "source": [
    "Czy jeden StockCode może mieć więcej niż jeden Description?\n",
    "Tak kod moze miec wiecej desciprtion, opisy roznia sie kolorem lub szykiem zdania opisu"
   ]
  },
  {
   "cell_type": "code",
   "execution_count": 347,
   "metadata": {},
   "outputs": [
    {
     "data": {
      "text/plain": [
       "StockCode\n",
       "23236    4\n",
       "23196    4\n",
       "23231    3\n",
       "22937    3\n",
       "23413    3\n",
       "        ..\n",
       "22358    1\n",
       "22359    1\n",
       "22360    1\n",
       "22361    1\n",
       "22346    1\n",
       "Name: Description, Length: 3684, dtype: int64"
      ]
     },
     "execution_count": 347,
     "metadata": {},
     "output_type": "execute_result"
    }
   ],
   "source": [
    "stockCodeAndDescription = data.groupby('StockCode')['Description'].nunique().sort_values(ascending=False)\n",
    "stockCodeAndDescription"
   ]
  },
  {
   "cell_type": "code",
   "execution_count": 353,
   "metadata": {},
   "outputs": [
    {
     "data": {
      "text/html": [
       "<div>\n",
       "<style scoped>\n",
       "    .dataframe tbody tr th:only-of-type {\n",
       "        vertical-align: middle;\n",
       "    }\n",
       "\n",
       "    .dataframe tbody tr th {\n",
       "        vertical-align: top;\n",
       "    }\n",
       "\n",
       "    .dataframe thead th {\n",
       "        text-align: right;\n",
       "    }\n",
       "</style>\n",
       "<table border=\"1\" class=\"dataframe\">\n",
       "  <thead>\n",
       "    <tr style=\"text-align: right;\">\n",
       "      <th></th>\n",
       "      <th>InvoiceNo</th>\n",
       "      <th>StockCode</th>\n",
       "      <th>Description</th>\n",
       "      <th>Quantity</th>\n",
       "      <th>InvoiceDate</th>\n",
       "      <th>UnitPrice</th>\n",
       "      <th>CustomerID</th>\n",
       "      <th>Country</th>\n",
       "      <th>isRefund</th>\n",
       "      <th>InvoiceYear</th>\n",
       "      <th>InvoiceMonth</th>\n",
       "      <th>InvoiceWeekday</th>\n",
       "      <th>IsWeekend</th>\n",
       "      <th>IsUK</th>\n",
       "    </tr>\n",
       "  </thead>\n",
       "  <tbody>\n",
       "    <tr>\n",
       "      <th>371806</th>\n",
       "      <td>569227</td>\n",
       "      <td>23535</td>\n",
       "      <td>BICYCLE SAFTEY WALL ART</td>\n",
       "      <td>4</td>\n",
       "      <td>2011-10-02 14:37:00</td>\n",
       "      <td>5.95</td>\n",
       "      <td>14051</td>\n",
       "      <td>United Kingdom</td>\n",
       "      <td>False</td>\n",
       "      <td>2011</td>\n",
       "      <td>10</td>\n",
       "      <td>Sunday</td>\n",
       "      <td>False</td>\n",
       "      <td>True</td>\n",
       "    </tr>\n",
       "    <tr>\n",
       "      <th>373008</th>\n",
       "      <td>569255</td>\n",
       "      <td>23535</td>\n",
       "      <td>BICYCLE SAFTEY WALL ART</td>\n",
       "      <td>72</td>\n",
       "      <td>2011-10-03 11:01:00</td>\n",
       "      <td>3.88</td>\n",
       "      <td>18102</td>\n",
       "      <td>United Kingdom</td>\n",
       "      <td>False</td>\n",
       "      <td>2011</td>\n",
       "      <td>10</td>\n",
       "      <td>Monday</td>\n",
       "      <td>False</td>\n",
       "      <td>True</td>\n",
       "    </tr>\n",
       "    <tr>\n",
       "      <th>373020</th>\n",
       "      <td>569257</td>\n",
       "      <td>23535</td>\n",
       "      <td>BICYCLE SAFTEY WALL ART</td>\n",
       "      <td>36</td>\n",
       "      <td>2011-10-03 11:24:00</td>\n",
       "      <td>3.88</td>\n",
       "      <td>18102</td>\n",
       "      <td>United Kingdom</td>\n",
       "      <td>False</td>\n",
       "      <td>2011</td>\n",
       "      <td>10</td>\n",
       "      <td>Monday</td>\n",
       "      <td>False</td>\n",
       "      <td>True</td>\n",
       "    </tr>\n",
       "    <tr>\n",
       "      <th>373102</th>\n",
       "      <td>569261</td>\n",
       "      <td>23535</td>\n",
       "      <td>BICYCLE SAFTEY WALL ART</td>\n",
       "      <td>2</td>\n",
       "      <td>2011-10-03 11:34:00</td>\n",
       "      <td>5.95</td>\n",
       "      <td>17321</td>\n",
       "      <td>United Kingdom</td>\n",
       "      <td>False</td>\n",
       "      <td>2011</td>\n",
       "      <td>10</td>\n",
       "      <td>Monday</td>\n",
       "      <td>False</td>\n",
       "      <td>True</td>\n",
       "    </tr>\n",
       "    <tr>\n",
       "      <th>373582</th>\n",
       "      <td>569333</td>\n",
       "      <td>23535</td>\n",
       "      <td>BICYCLE SAFTEY WALL ART</td>\n",
       "      <td>4</td>\n",
       "      <td>2011-10-03 13:49:00</td>\n",
       "      <td>5.95</td>\n",
       "      <td>13431</td>\n",
       "      <td>United Kingdom</td>\n",
       "      <td>False</td>\n",
       "      <td>2011</td>\n",
       "      <td>10</td>\n",
       "      <td>Monday</td>\n",
       "      <td>False</td>\n",
       "      <td>True</td>\n",
       "    </tr>\n",
       "    <tr>\n",
       "      <th>...</th>\n",
       "      <td>...</td>\n",
       "      <td>...</td>\n",
       "      <td>...</td>\n",
       "      <td>...</td>\n",
       "      <td>...</td>\n",
       "      <td>...</td>\n",
       "      <td>...</td>\n",
       "      <td>...</td>\n",
       "      <td>...</td>\n",
       "      <td>...</td>\n",
       "      <td>...</td>\n",
       "      <td>...</td>\n",
       "      <td>...</td>\n",
       "      <td>...</td>\n",
       "    </tr>\n",
       "    <tr>\n",
       "      <th>537879</th>\n",
       "      <td>581375</td>\n",
       "      <td>23535</td>\n",
       "      <td>WALL ART BICYCLE SAFETY</td>\n",
       "      <td>8</td>\n",
       "      <td>2011-12-08 12:36:00</td>\n",
       "      <td>5.95</td>\n",
       "      <td>16210</td>\n",
       "      <td>United Kingdom</td>\n",
       "      <td>False</td>\n",
       "      <td>2011</td>\n",
       "      <td>12</td>\n",
       "      <td>Thursday</td>\n",
       "      <td>True</td>\n",
       "      <td>True</td>\n",
       "    </tr>\n",
       "    <tr>\n",
       "      <th>538109</th>\n",
       "      <td>581399</td>\n",
       "      <td>23535</td>\n",
       "      <td>WALL ART BICYCLE SAFETY</td>\n",
       "      <td>4</td>\n",
       "      <td>2011-12-08 13:27:00</td>\n",
       "      <td>5.95</td>\n",
       "      <td>17528</td>\n",
       "      <td>United Kingdom</td>\n",
       "      <td>False</td>\n",
       "      <td>2011</td>\n",
       "      <td>12</td>\n",
       "      <td>Thursday</td>\n",
       "      <td>True</td>\n",
       "      <td>True</td>\n",
       "    </tr>\n",
       "    <tr>\n",
       "      <th>538719</th>\n",
       "      <td>581413</td>\n",
       "      <td>23535</td>\n",
       "      <td>WALL ART BICYCLE SAFETY</td>\n",
       "      <td>4</td>\n",
       "      <td>2011-12-08 14:39:00</td>\n",
       "      <td>5.95</td>\n",
       "      <td>16833</td>\n",
       "      <td>United Kingdom</td>\n",
       "      <td>False</td>\n",
       "      <td>2011</td>\n",
       "      <td>12</td>\n",
       "      <td>Thursday</td>\n",
       "      <td>True</td>\n",
       "      <td>True</td>\n",
       "    </tr>\n",
       "    <tr>\n",
       "      <th>540066</th>\n",
       "      <td>581457</td>\n",
       "      <td>23535</td>\n",
       "      <td>WALL ART BICYCLE SAFETY</td>\n",
       "      <td>126</td>\n",
       "      <td>2011-12-08 18:43:00</td>\n",
       "      <td>3.90</td>\n",
       "      <td>18102</td>\n",
       "      <td>United Kingdom</td>\n",
       "      <td>False</td>\n",
       "      <td>2011</td>\n",
       "      <td>12</td>\n",
       "      <td>Thursday</td>\n",
       "      <td>True</td>\n",
       "      <td>True</td>\n",
       "    </tr>\n",
       "    <tr>\n",
       "      <th>541217</th>\n",
       "      <td>581495</td>\n",
       "      <td>23535</td>\n",
       "      <td>WALL ART BICYCLE SAFETY</td>\n",
       "      <td>12</td>\n",
       "      <td>2011-12-09 10:20:00</td>\n",
       "      <td>5.95</td>\n",
       "      <td>14051</td>\n",
       "      <td>United Kingdom</td>\n",
       "      <td>False</td>\n",
       "      <td>2011</td>\n",
       "      <td>12</td>\n",
       "      <td>Friday</td>\n",
       "      <td>True</td>\n",
       "      <td>True</td>\n",
       "    </tr>\n",
       "  </tbody>\n",
       "</table>\n",
       "<p>168 rows × 14 columns</p>\n",
       "</div>"
      ],
      "text/plain": [
       "       InvoiceNo StockCode              Description  Quantity         InvoiceDate  UnitPrice  CustomerID         Country  isRefund  InvoiceYear  InvoiceMonth InvoiceWeekday  IsWeekend  IsUK\n",
       "371806    569227     23535  BICYCLE SAFTEY WALL ART         4 2011-10-02 14:37:00       5.95       14051  United Kingdom     False         2011            10         Sunday      False  True\n",
       "373008    569255     23535  BICYCLE SAFTEY WALL ART        72 2011-10-03 11:01:00       3.88       18102  United Kingdom     False         2011            10         Monday      False  True\n",
       "373020    569257     23535  BICYCLE SAFTEY WALL ART        36 2011-10-03 11:24:00       3.88       18102  United Kingdom     False         2011            10         Monday      False  True\n",
       "373102    569261     23535  BICYCLE SAFTEY WALL ART         2 2011-10-03 11:34:00       5.95       17321  United Kingdom     False         2011            10         Monday      False  True\n",
       "373582    569333     23535  BICYCLE SAFTEY WALL ART         4 2011-10-03 13:49:00       5.95       13431  United Kingdom     False         2011            10         Monday      False  True\n",
       "...          ...       ...                      ...       ...                 ...        ...         ...             ...       ...          ...           ...            ...        ...   ...\n",
       "537879    581375     23535  WALL ART BICYCLE SAFETY         8 2011-12-08 12:36:00       5.95       16210  United Kingdom     False         2011            12       Thursday       True  True\n",
       "538109    581399     23535  WALL ART BICYCLE SAFETY         4 2011-12-08 13:27:00       5.95       17528  United Kingdom     False         2011            12       Thursday       True  True\n",
       "538719    581413     23535  WALL ART BICYCLE SAFETY         4 2011-12-08 14:39:00       5.95       16833  United Kingdom     False         2011            12       Thursday       True  True\n",
       "540066    581457     23535  WALL ART BICYCLE SAFETY       126 2011-12-08 18:43:00       3.90       18102  United Kingdom     False         2011            12       Thursday       True  True\n",
       "541217    581495     23535  WALL ART BICYCLE SAFETY        12 2011-12-09 10:20:00       5.95       14051  United Kingdom     False         2011            12         Friday       True  True\n",
       "\n",
       "[168 rows x 14 columns]"
      ]
     },
     "execution_count": 353,
     "metadata": {},
     "output_type": "execute_result"
    }
   ],
   "source": [
    "moreThanThreeDescCodes = stockCodeAndDescription[stockCodeAndDescription > 2].index\n",
    "filteredThanThreeDescCodes = data[data['StockCode'].isin(moreThanThreeDescCodes)]\n",
    "filteredThanThreeDescCodes\n",
    "StockCode23535 = filteredThanThreeDescCodes[filteredThanThreeDescCodes['StockCode'] == '23535']\n",
    "StockCode23535"
   ]
  },
  {
   "cell_type": "markdown",
   "metadata": {},
   "source": [
    "1C. Decsription\n",
    "czy są nany?\n",
    "jest 1451 nanow, nie uznaje tego za bład, niektore produkty moga nie miec opisu bo są np. dopiero dodawane"
   ]
  },
  {
   "cell_type": "code",
   "execution_count": 278,
   "metadata": {},
   "outputs": [
    {
     "data": {
      "text/plain": [
       "np.int64(1454)"
      ]
     },
     "execution_count": 278,
     "metadata": {},
     "output_type": "execute_result"
    }
   ],
   "source": [
    "isNansDecsription = data['Description'].isna().sum()\n",
    "isNansDecsription"
   ]
  },
  {
   "cell_type": "markdown",
   "metadata": {},
   "source": [
    "sprawdzam ilość unikalnych opisów\n",
    "4223 unikalnych opisów na 4070 unikalnych kodów oznacza to jeden kod moze byc przypisany do np roznych kolorow danego produktu"
   ]
  },
  {
   "cell_type": "code",
   "execution_count": 279,
   "metadata": {},
   "outputs": [
    {
     "data": {
      "text/plain": [
       "4223"
      ]
     },
     "execution_count": 279,
     "metadata": {},
     "output_type": "execute_result"
    }
   ],
   "source": [
    "nUniqueDescription = data['Description'].nunique()\n",
    "nUniqueDescription"
   ]
  },
  {
   "cell_type": "markdown",
   "metadata": {},
   "source": [
    "1D. Quantity\n",
    "Czy są nany?\n",
    "nie ma nanów"
   ]
  },
  {
   "cell_type": "code",
   "execution_count": 280,
   "metadata": {},
   "outputs": [
    {
     "data": {
      "text/plain": [
       "np.int64(0)"
      ]
     },
     "execution_count": 280,
     "metadata": {},
     "output_type": "execute_result"
    }
   ],
   "source": [
    "isNansQuantity = data['Quantity'].isna().sum()\n",
    "isNansQuantity"
   ]
  },
  {
   "cell_type": "markdown",
   "metadata": {},
   "source": [
    "Czy są wartości ujemne?\n",
    "tak są i dla zwyklych prodotkow, oznaczaja one po description ze są to np straty produktow typu popsute, i sa negatywne dla zwrotow discount"
   ]
  },
  {
   "cell_type": "code",
   "execution_count": 281,
   "metadata": {},
   "outputs": [
    {
     "data": {
      "text/html": [
       "<div>\n",
       "<style scoped>\n",
       "    .dataframe tbody tr th:only-of-type {\n",
       "        vertical-align: middle;\n",
       "    }\n",
       "\n",
       "    .dataframe tbody tr th {\n",
       "        vertical-align: top;\n",
       "    }\n",
       "\n",
       "    .dataframe thead th {\n",
       "        text-align: right;\n",
       "    }\n",
       "</style>\n",
       "<table border=\"1\" class=\"dataframe\">\n",
       "  <thead>\n",
       "    <tr style=\"text-align: right;\">\n",
       "      <th></th>\n",
       "      <th>InvoiceNo</th>\n",
       "      <th>StockCode</th>\n",
       "      <th>Description</th>\n",
       "      <th>Quantity</th>\n",
       "      <th>InvoiceDate</th>\n",
       "      <th>UnitPrice</th>\n",
       "      <th>CustomerID</th>\n",
       "      <th>Country</th>\n",
       "      <th>isRefund</th>\n",
       "    </tr>\n",
       "  </thead>\n",
       "  <tbody>\n",
       "    <tr>\n",
       "      <th>141</th>\n",
       "      <td>C536379</td>\n",
       "      <td>D</td>\n",
       "      <td>Discount</td>\n",
       "      <td>-1</td>\n",
       "      <td>12/1/2010 9:41</td>\n",
       "      <td>27.50</td>\n",
       "      <td>14527.0</td>\n",
       "      <td>United Kingdom</td>\n",
       "      <td>True</td>\n",
       "    </tr>\n",
       "    <tr>\n",
       "      <th>154</th>\n",
       "      <td>C536383</td>\n",
       "      <td>35004C</td>\n",
       "      <td>SET OF 3 COLOURED  FLYING DUCKS</td>\n",
       "      <td>-1</td>\n",
       "      <td>12/1/2010 9:49</td>\n",
       "      <td>4.65</td>\n",
       "      <td>15311.0</td>\n",
       "      <td>United Kingdom</td>\n",
       "      <td>True</td>\n",
       "    </tr>\n",
       "    <tr>\n",
       "      <th>235</th>\n",
       "      <td>C536391</td>\n",
       "      <td>22556</td>\n",
       "      <td>PLASTERS IN TIN CIRCUS PARADE</td>\n",
       "      <td>-12</td>\n",
       "      <td>12/1/2010 10:24</td>\n",
       "      <td>1.65</td>\n",
       "      <td>17548.0</td>\n",
       "      <td>United Kingdom</td>\n",
       "      <td>True</td>\n",
       "    </tr>\n",
       "    <tr>\n",
       "      <th>236</th>\n",
       "      <td>C536391</td>\n",
       "      <td>21984</td>\n",
       "      <td>PACK OF 12 PINK PAISLEY TISSUES</td>\n",
       "      <td>-24</td>\n",
       "      <td>12/1/2010 10:24</td>\n",
       "      <td>0.29</td>\n",
       "      <td>17548.0</td>\n",
       "      <td>United Kingdom</td>\n",
       "      <td>True</td>\n",
       "    </tr>\n",
       "    <tr>\n",
       "      <th>237</th>\n",
       "      <td>C536391</td>\n",
       "      <td>21983</td>\n",
       "      <td>PACK OF 12 BLUE PAISLEY TISSUES</td>\n",
       "      <td>-24</td>\n",
       "      <td>12/1/2010 10:24</td>\n",
       "      <td>0.29</td>\n",
       "      <td>17548.0</td>\n",
       "      <td>United Kingdom</td>\n",
       "      <td>True</td>\n",
       "    </tr>\n",
       "    <tr>\n",
       "      <th>...</th>\n",
       "      <td>...</td>\n",
       "      <td>...</td>\n",
       "      <td>...</td>\n",
       "      <td>...</td>\n",
       "      <td>...</td>\n",
       "      <td>...</td>\n",
       "      <td>...</td>\n",
       "      <td>...</td>\n",
       "      <td>...</td>\n",
       "    </tr>\n",
       "    <tr>\n",
       "      <th>540449</th>\n",
       "      <td>C581490</td>\n",
       "      <td>23144</td>\n",
       "      <td>ZINC T-LIGHT HOLDER STARS SMALL</td>\n",
       "      <td>-11</td>\n",
       "      <td>12/9/2011 9:57</td>\n",
       "      <td>0.83</td>\n",
       "      <td>14397.0</td>\n",
       "      <td>United Kingdom</td>\n",
       "      <td>True</td>\n",
       "    </tr>\n",
       "    <tr>\n",
       "      <th>541541</th>\n",
       "      <td>C581499</td>\n",
       "      <td>M</td>\n",
       "      <td>Manual</td>\n",
       "      <td>-1</td>\n",
       "      <td>12/9/2011 10:28</td>\n",
       "      <td>224.69</td>\n",
       "      <td>15498.0</td>\n",
       "      <td>United Kingdom</td>\n",
       "      <td>True</td>\n",
       "    </tr>\n",
       "    <tr>\n",
       "      <th>541715</th>\n",
       "      <td>C581568</td>\n",
       "      <td>21258</td>\n",
       "      <td>VICTORIAN SEWING BOX LARGE</td>\n",
       "      <td>-5</td>\n",
       "      <td>12/9/2011 11:57</td>\n",
       "      <td>10.95</td>\n",
       "      <td>15311.0</td>\n",
       "      <td>United Kingdom</td>\n",
       "      <td>True</td>\n",
       "    </tr>\n",
       "    <tr>\n",
       "      <th>541716</th>\n",
       "      <td>C581569</td>\n",
       "      <td>84978</td>\n",
       "      <td>HANGING HEART JAR T-LIGHT HOLDER</td>\n",
       "      <td>-1</td>\n",
       "      <td>12/9/2011 11:58</td>\n",
       "      <td>1.25</td>\n",
       "      <td>17315.0</td>\n",
       "      <td>United Kingdom</td>\n",
       "      <td>True</td>\n",
       "    </tr>\n",
       "    <tr>\n",
       "      <th>541717</th>\n",
       "      <td>C581569</td>\n",
       "      <td>20979</td>\n",
       "      <td>36 PENCILS TUBE RED RETROSPOT</td>\n",
       "      <td>-5</td>\n",
       "      <td>12/9/2011 11:58</td>\n",
       "      <td>1.25</td>\n",
       "      <td>17315.0</td>\n",
       "      <td>United Kingdom</td>\n",
       "      <td>True</td>\n",
       "    </tr>\n",
       "  </tbody>\n",
       "</table>\n",
       "<p>10624 rows × 9 columns</p>\n",
       "</div>"
      ],
      "text/plain": [
       "       InvoiceNo StockCode                       Description  Quantity      InvoiceDate  UnitPrice  CustomerID         Country  isRefund\n",
       "141      C536379         D                          Discount        -1   12/1/2010 9:41      27.50     14527.0  United Kingdom      True\n",
       "154      C536383    35004C   SET OF 3 COLOURED  FLYING DUCKS        -1   12/1/2010 9:49       4.65     15311.0  United Kingdom      True\n",
       "235      C536391     22556    PLASTERS IN TIN CIRCUS PARADE        -12  12/1/2010 10:24       1.65     17548.0  United Kingdom      True\n",
       "236      C536391     21984  PACK OF 12 PINK PAISLEY TISSUES        -24  12/1/2010 10:24       0.29     17548.0  United Kingdom      True\n",
       "237      C536391     21983  PACK OF 12 BLUE PAISLEY TISSUES        -24  12/1/2010 10:24       0.29     17548.0  United Kingdom      True\n",
       "...          ...       ...                               ...       ...              ...        ...         ...             ...       ...\n",
       "540449   C581490     23144   ZINC T-LIGHT HOLDER STARS SMALL       -11   12/9/2011 9:57       0.83     14397.0  United Kingdom      True\n",
       "541541   C581499         M                            Manual        -1  12/9/2011 10:28     224.69     15498.0  United Kingdom      True\n",
       "541715   C581568     21258        VICTORIAN SEWING BOX LARGE        -5  12/9/2011 11:57      10.95     15311.0  United Kingdom      True\n",
       "541716   C581569     84978  HANGING HEART JAR T-LIGHT HOLDER        -1  12/9/2011 11:58       1.25     17315.0  United Kingdom      True\n",
       "541717   C581569     20979     36 PENCILS TUBE RED RETROSPOT        -5  12/9/2011 11:58       1.25     17315.0  United Kingdom      True\n",
       "\n",
       "[10624 rows x 9 columns]"
      ]
     },
     "execution_count": 281,
     "metadata": {},
     "output_type": "execute_result"
    }
   ],
   "source": [
    "isNegativeQuantity = data[data['Quantity'] < 0]\n",
    "isNegativeQuantity\n"
   ]
  },
  {
   "cell_type": "code",
   "execution_count": 282,
   "metadata": {},
   "outputs": [
    {
     "data": {
      "text/html": [
       "<div>\n",
       "<style scoped>\n",
       "    .dataframe tbody tr th:only-of-type {\n",
       "        vertical-align: middle;\n",
       "    }\n",
       "\n",
       "    .dataframe tbody tr th {\n",
       "        vertical-align: top;\n",
       "    }\n",
       "\n",
       "    .dataframe thead th {\n",
       "        text-align: right;\n",
       "    }\n",
       "</style>\n",
       "<table border=\"1\" class=\"dataframe\">\n",
       "  <thead>\n",
       "    <tr style=\"text-align: right;\">\n",
       "      <th></th>\n",
       "      <th>InvoiceNo</th>\n",
       "      <th>StockCode</th>\n",
       "      <th>Description</th>\n",
       "      <th>Quantity</th>\n",
       "      <th>InvoiceDate</th>\n",
       "      <th>UnitPrice</th>\n",
       "      <th>CustomerID</th>\n",
       "      <th>Country</th>\n",
       "      <th>isRefund</th>\n",
       "    </tr>\n",
       "  </thead>\n",
       "  <tbody>\n",
       "    <tr>\n",
       "      <th>2406</th>\n",
       "      <td>536589</td>\n",
       "      <td>21777</td>\n",
       "      <td>NaN</td>\n",
       "      <td>-10</td>\n",
       "      <td>12/1/2010 16:50</td>\n",
       "      <td>0.0</td>\n",
       "      <td>NaN</td>\n",
       "      <td>United Kingdom</td>\n",
       "      <td>False</td>\n",
       "    </tr>\n",
       "    <tr>\n",
       "      <th>4347</th>\n",
       "      <td>536764</td>\n",
       "      <td>84952C</td>\n",
       "      <td>NaN</td>\n",
       "      <td>-38</td>\n",
       "      <td>12/2/2010 14:42</td>\n",
       "      <td>0.0</td>\n",
       "      <td>NaN</td>\n",
       "      <td>United Kingdom</td>\n",
       "      <td>False</td>\n",
       "    </tr>\n",
       "    <tr>\n",
       "      <th>7188</th>\n",
       "      <td>536996</td>\n",
       "      <td>22712</td>\n",
       "      <td>NaN</td>\n",
       "      <td>-20</td>\n",
       "      <td>12/3/2010 15:30</td>\n",
       "      <td>0.0</td>\n",
       "      <td>NaN</td>\n",
       "      <td>United Kingdom</td>\n",
       "      <td>False</td>\n",
       "    </tr>\n",
       "    <tr>\n",
       "      <th>7189</th>\n",
       "      <td>536997</td>\n",
       "      <td>22028</td>\n",
       "      <td>NaN</td>\n",
       "      <td>-20</td>\n",
       "      <td>12/3/2010 15:30</td>\n",
       "      <td>0.0</td>\n",
       "      <td>NaN</td>\n",
       "      <td>United Kingdom</td>\n",
       "      <td>False</td>\n",
       "    </tr>\n",
       "    <tr>\n",
       "      <th>7190</th>\n",
       "      <td>536998</td>\n",
       "      <td>85067</td>\n",
       "      <td>NaN</td>\n",
       "      <td>-6</td>\n",
       "      <td>12/3/2010 15:30</td>\n",
       "      <td>0.0</td>\n",
       "      <td>NaN</td>\n",
       "      <td>United Kingdom</td>\n",
       "      <td>False</td>\n",
       "    </tr>\n",
       "    <tr>\n",
       "      <th>...</th>\n",
       "      <td>...</td>\n",
       "      <td>...</td>\n",
       "      <td>...</td>\n",
       "      <td>...</td>\n",
       "      <td>...</td>\n",
       "      <td>...</td>\n",
       "      <td>...</td>\n",
       "      <td>...</td>\n",
       "      <td>...</td>\n",
       "    </tr>\n",
       "    <tr>\n",
       "      <th>535333</th>\n",
       "      <td>581210</td>\n",
       "      <td>23395</td>\n",
       "      <td>check</td>\n",
       "      <td>-26</td>\n",
       "      <td>12/7/2011 18:36</td>\n",
       "      <td>0.0</td>\n",
       "      <td>NaN</td>\n",
       "      <td>United Kingdom</td>\n",
       "      <td>False</td>\n",
       "    </tr>\n",
       "    <tr>\n",
       "      <th>535335</th>\n",
       "      <td>581212</td>\n",
       "      <td>22578</td>\n",
       "      <td>lost</td>\n",
       "      <td>-1050</td>\n",
       "      <td>12/7/2011 18:38</td>\n",
       "      <td>0.0</td>\n",
       "      <td>NaN</td>\n",
       "      <td>United Kingdom</td>\n",
       "      <td>False</td>\n",
       "    </tr>\n",
       "    <tr>\n",
       "      <th>535336</th>\n",
       "      <td>581213</td>\n",
       "      <td>22576</td>\n",
       "      <td>check</td>\n",
       "      <td>-30</td>\n",
       "      <td>12/7/2011 18:38</td>\n",
       "      <td>0.0</td>\n",
       "      <td>NaN</td>\n",
       "      <td>United Kingdom</td>\n",
       "      <td>False</td>\n",
       "    </tr>\n",
       "    <tr>\n",
       "      <th>536908</th>\n",
       "      <td>581226</td>\n",
       "      <td>23090</td>\n",
       "      <td>missing</td>\n",
       "      <td>-338</td>\n",
       "      <td>12/8/2011 9:56</td>\n",
       "      <td>0.0</td>\n",
       "      <td>NaN</td>\n",
       "      <td>United Kingdom</td>\n",
       "      <td>False</td>\n",
       "    </tr>\n",
       "    <tr>\n",
       "      <th>538919</th>\n",
       "      <td>581422</td>\n",
       "      <td>23169</td>\n",
       "      <td>smashed</td>\n",
       "      <td>-235</td>\n",
       "      <td>12/8/2011 15:24</td>\n",
       "      <td>0.0</td>\n",
       "      <td>NaN</td>\n",
       "      <td>United Kingdom</td>\n",
       "      <td>False</td>\n",
       "    </tr>\n",
       "  </tbody>\n",
       "</table>\n",
       "<p>1336 rows × 9 columns</p>\n",
       "</div>"
      ],
      "text/plain": [
       "       InvoiceNo StockCode Description  Quantity      InvoiceDate  UnitPrice  CustomerID         Country  isRefund\n",
       "2406      536589     21777         NaN       -10  12/1/2010 16:50        0.0         NaN  United Kingdom     False\n",
       "4347      536764    84952C         NaN       -38  12/2/2010 14:42        0.0         NaN  United Kingdom     False\n",
       "7188      536996     22712         NaN       -20  12/3/2010 15:30        0.0         NaN  United Kingdom     False\n",
       "7189      536997     22028         NaN       -20  12/3/2010 15:30        0.0         NaN  United Kingdom     False\n",
       "7190      536998     85067         NaN        -6  12/3/2010 15:30        0.0         NaN  United Kingdom     False\n",
       "...          ...       ...         ...       ...              ...        ...         ...             ...       ...\n",
       "535333    581210     23395       check       -26  12/7/2011 18:36        0.0         NaN  United Kingdom     False\n",
       "535335    581212     22578        lost     -1050  12/7/2011 18:38        0.0         NaN  United Kingdom     False\n",
       "535336    581213     22576       check       -30  12/7/2011 18:38        0.0         NaN  United Kingdom     False\n",
       "536908    581226     23090     missing      -338   12/8/2011 9:56        0.0         NaN  United Kingdom     False\n",
       "538919    581422     23169     smashed      -235  12/8/2011 15:24        0.0         NaN  United Kingdom     False\n",
       "\n",
       "[1336 rows x 9 columns]"
      ]
     },
     "execution_count": 282,
     "metadata": {},
     "output_type": "execute_result"
    }
   ],
   "source": [
    "isNegativeQuantityWithoutC = isNegativeQuantity[isNegativeQuantity['InvoiceNo'].str[0] != 'C']\n",
    "isNegativeQuantityWithoutC"
   ]
  },
  {
   "cell_type": "markdown",
   "metadata": {},
   "source": [
    "Czy jest quantity równe zero?\n",
    "nie ma rekordow z quantity rowny -"
   ]
  },
  {
   "cell_type": "code",
   "execution_count": 283,
   "metadata": {},
   "outputs": [
    {
     "data": {
      "text/html": [
       "<div>\n",
       "<style scoped>\n",
       "    .dataframe tbody tr th:only-of-type {\n",
       "        vertical-align: middle;\n",
       "    }\n",
       "\n",
       "    .dataframe tbody tr th {\n",
       "        vertical-align: top;\n",
       "    }\n",
       "\n",
       "    .dataframe thead th {\n",
       "        text-align: right;\n",
       "    }\n",
       "</style>\n",
       "<table border=\"1\" class=\"dataframe\">\n",
       "  <thead>\n",
       "    <tr style=\"text-align: right;\">\n",
       "      <th></th>\n",
       "      <th>InvoiceNo</th>\n",
       "      <th>StockCode</th>\n",
       "      <th>Description</th>\n",
       "      <th>Quantity</th>\n",
       "      <th>InvoiceDate</th>\n",
       "      <th>UnitPrice</th>\n",
       "      <th>CustomerID</th>\n",
       "      <th>Country</th>\n",
       "      <th>isRefund</th>\n",
       "    </tr>\n",
       "  </thead>\n",
       "  <tbody>\n",
       "  </tbody>\n",
       "</table>\n",
       "</div>"
      ],
      "text/plain": [
       "Empty DataFrame\n",
       "Columns: [InvoiceNo, StockCode, Description, Quantity, InvoiceDate, UnitPrice, CustomerID, Country, isRefund]\n",
       "Index: []"
      ]
     },
     "execution_count": 283,
     "metadata": {},
     "output_type": "execute_result"
    }
   ],
   "source": [
    "isZeroQuantity = data[data['Quantity'] == 0]\n",
    "isZeroQuantity"
   ]
  },
  {
   "cell_type": "markdown",
   "metadata": {},
   "source": [
    "Czy są ekstrymalnie dziwne wartosci\n",
    "Są dwie 80995 oraz 74215, tylko ze sa one nastepnie na minusie musial to byc jakis blad zamowienia."
   ]
  },
  {
   "cell_type": "code",
   "execution_count": 284,
   "metadata": {},
   "outputs": [
    {
     "data": {
      "text/plain": [
       "Quantity\n",
       " 80995    1\n",
       " 74215    1\n",
       " 12540    1\n",
       " 5568     1\n",
       " 4800     1\n",
       "         ..\n",
       "-9058     1\n",
       "-9360     1\n",
       "-9600     2\n",
       "-74215    1\n",
       "-80995    1\n",
       "Name: count, Length: 722, dtype: int64"
      ]
     },
     "execution_count": 284,
     "metadata": {},
     "output_type": "execute_result"
    }
   ],
   "source": [
    "isHighQuantity = data['Quantity'].value_counts().sort_index(ascending=False)\n",
    "isHighQuantity"
   ]
  },
  {
   "cell_type": "markdown",
   "metadata": {},
   "source": [
    "Jaka jest rozkład ilości?\n",
    "wiekszosc to sa male ilosci"
   ]
  },
  {
   "cell_type": "code",
   "execution_count": 356,
   "metadata": {},
   "outputs": [
    {
     "data": {
      "text/plain": [
       "Quantity\n",
       " 1        73314\n",
       " 12       60033\n",
       " 2        58003\n",
       " 6        37688\n",
       " 4        32183\n",
       "          ...  \n",
       " 912          1\n",
       " 1404         1\n",
       " 698          1\n",
       " 80995        1\n",
       "-80995        1\n",
       "Name: count, Length: 436, dtype: int64"
      ]
     },
     "execution_count": 356,
     "metadata": {},
     "output_type": "execute_result"
    }
   ],
   "source": [
    "quantityValueCounts = data['Quantity'].value_counts(ascending=False)\n",
    "quantityValueCounts"
   ]
  },
  {
   "cell_type": "markdown",
   "metadata": {},
   "source": [
    "1E.InvoiceDate"
   ]
  },
  {
   "cell_type": "markdown",
   "metadata": {},
   "source": [
    "Czy jest wlasciwy typ danych dla tej kolumny?\n",
    "nie,zmieniam typ na datetime z obiekt"
   ]
  },
  {
   "cell_type": "code",
   "execution_count": null,
   "metadata": {},
   "outputs": [
    {
     "name": "stderr",
     "output_type": "stream",
     "text": [
      "/tmp/ipykernel_10988/3508754278.py:1: SettingWithCopyWarning: \n",
      "A value is trying to be set on a copy of a slice from a DataFrame.\n",
      "Try using .loc[row_indexer,col_indexer] = value instead\n",
      "\n",
      "See the caveats in the documentation: https://pandas.pydata.org/pandas-docs/stable/user_guide/indexing.html#returning-a-view-versus-a-copy\n",
      "  data['InvoiceDate'] =  data['InvoiceDate'].astype('datetime64[s]')\n"
     ]
    },
    {
     "data": {
      "text/plain": [
       "InvoiceNo         string[python]\n",
       "StockCode         string[python]\n",
       "Description               object\n",
       "Quantity                   int64\n",
       "InvoiceDate        datetime64[s]\n",
       "UnitPrice                float64\n",
       "CustomerID                 Int32\n",
       "Country                   object\n",
       "isRefund                 boolean\n",
       "InvoiceYear                int32\n",
       "InvoiceMonth               int32\n",
       "InvoiceWeekday            object\n",
       "IsWeekend                   bool\n",
       "IsUK                        bool\n",
       "dtype: object"
      ]
     },
     "execution_count": 354,
     "metadata": {},
     "output_type": "execute_result"
    }
   ],
   "source": [
    "data['InvoiceDate'] =  data['InvoiceDate'].astype('datetime64[s]')\n",
    "\n"
   ]
  },
  {
   "cell_type": "markdown",
   "metadata": {},
   "source": [
    "Czy są nany?\n",
    "nie ma nanów"
   ]
  },
  {
   "cell_type": "code",
   "execution_count": 286,
   "metadata": {},
   "outputs": [
    {
     "data": {
      "text/plain": [
       "np.int64(0)"
      ]
     },
     "execution_count": 286,
     "metadata": {},
     "output_type": "execute_result"
    }
   ],
   "source": [
    "isNansInvoiceDate = data['InvoiceDate'].isna().sum()\n",
    "isNansInvoiceDate"
   ]
  },
  {
   "cell_type": "markdown",
   "metadata": {},
   "source": [
    " – Jaki jest najstarszy i najnowszy InvoiceDate?\n",
    "najstarszy to 2010-12-01,najnowyszy 2011-12-09\n",
    " – Czy dane obejmują cały rok, czy tylko wycinek?\n",
    "dane obejumja caly rok i 8 dni"
   ]
  },
  {
   "cell_type": "code",
   "execution_count": 287,
   "metadata": {},
   "outputs": [
    {
     "data": {
      "text/plain": [
       "[[Timestamp('2011-12-09 12:50:00'), Timestamp('2010-12-01 08:26:00')]]"
      ]
     },
     "execution_count": 287,
     "metadata": {},
     "output_type": "execute_result"
    }
   ],
   "source": [
    "invoiceDateMax = data['InvoiceDate'].max()\n",
    "invoiceDateMin = data['InvoiceDate'].min()\n",
    "listWithMinMax = list()\n",
    "listWithMinMax.append([invoiceDateMax,invoiceDateMin])\n",
    "listWithMinMax"
   ]
  },
  {
   "cell_type": "markdown",
   "metadata": {},
   "source": [
    "tworze zmienne pomocnicze czyli feature engineering"
   ]
  },
  {
   "cell_type": "code",
   "execution_count": 288,
   "metadata": {},
   "outputs": [
    {
     "data": {
      "text/html": [
       "<div>\n",
       "<style scoped>\n",
       "    .dataframe tbody tr th:only-of-type {\n",
       "        vertical-align: middle;\n",
       "    }\n",
       "\n",
       "    .dataframe tbody tr th {\n",
       "        vertical-align: top;\n",
       "    }\n",
       "\n",
       "    .dataframe thead th {\n",
       "        text-align: right;\n",
       "    }\n",
       "</style>\n",
       "<table border=\"1\" class=\"dataframe\">\n",
       "  <thead>\n",
       "    <tr style=\"text-align: right;\">\n",
       "      <th></th>\n",
       "      <th>InvoiceNo</th>\n",
       "      <th>StockCode</th>\n",
       "      <th>Description</th>\n",
       "      <th>Quantity</th>\n",
       "      <th>InvoiceDate</th>\n",
       "      <th>UnitPrice</th>\n",
       "      <th>CustomerID</th>\n",
       "      <th>Country</th>\n",
       "      <th>isRefund</th>\n",
       "      <th>InvoiceYear</th>\n",
       "      <th>InvoiceMonth</th>\n",
       "      <th>InvoiceWeekday</th>\n",
       "      <th>IsWeekend</th>\n",
       "    </tr>\n",
       "  </thead>\n",
       "  <tbody>\n",
       "    <tr>\n",
       "      <th>0</th>\n",
       "      <td>536365</td>\n",
       "      <td>85123A</td>\n",
       "      <td>WHITE HANGING HEART T-LIGHT HOLDER</td>\n",
       "      <td>6</td>\n",
       "      <td>2010-12-01 08:26:00</td>\n",
       "      <td>2.55</td>\n",
       "      <td>17850.0</td>\n",
       "      <td>United Kingdom</td>\n",
       "      <td>False</td>\n",
       "      <td>2010</td>\n",
       "      <td>12</td>\n",
       "      <td>Wednesday</td>\n",
       "      <td>False</td>\n",
       "    </tr>\n",
       "    <tr>\n",
       "      <th>1</th>\n",
       "      <td>536365</td>\n",
       "      <td>71053</td>\n",
       "      <td>WHITE METAL LANTERN</td>\n",
       "      <td>6</td>\n",
       "      <td>2010-12-01 08:26:00</td>\n",
       "      <td>3.39</td>\n",
       "      <td>17850.0</td>\n",
       "      <td>United Kingdom</td>\n",
       "      <td>False</td>\n",
       "      <td>2010</td>\n",
       "      <td>12</td>\n",
       "      <td>Wednesday</td>\n",
       "      <td>False</td>\n",
       "    </tr>\n",
       "    <tr>\n",
       "      <th>2</th>\n",
       "      <td>536365</td>\n",
       "      <td>84406B</td>\n",
       "      <td>CREAM CUPID HEARTS COAT HANGER</td>\n",
       "      <td>8</td>\n",
       "      <td>2010-12-01 08:26:00</td>\n",
       "      <td>2.75</td>\n",
       "      <td>17850.0</td>\n",
       "      <td>United Kingdom</td>\n",
       "      <td>False</td>\n",
       "      <td>2010</td>\n",
       "      <td>12</td>\n",
       "      <td>Wednesday</td>\n",
       "      <td>False</td>\n",
       "    </tr>\n",
       "    <tr>\n",
       "      <th>3</th>\n",
       "      <td>536365</td>\n",
       "      <td>84029G</td>\n",
       "      <td>KNITTED UNION FLAG HOT WATER BOTTLE</td>\n",
       "      <td>6</td>\n",
       "      <td>2010-12-01 08:26:00</td>\n",
       "      <td>3.39</td>\n",
       "      <td>17850.0</td>\n",
       "      <td>United Kingdom</td>\n",
       "      <td>False</td>\n",
       "      <td>2010</td>\n",
       "      <td>12</td>\n",
       "      <td>Wednesday</td>\n",
       "      <td>False</td>\n",
       "    </tr>\n",
       "    <tr>\n",
       "      <th>4</th>\n",
       "      <td>536365</td>\n",
       "      <td>84029E</td>\n",
       "      <td>RED WOOLLY HOTTIE WHITE HEART.</td>\n",
       "      <td>6</td>\n",
       "      <td>2010-12-01 08:26:00</td>\n",
       "      <td>3.39</td>\n",
       "      <td>17850.0</td>\n",
       "      <td>United Kingdom</td>\n",
       "      <td>False</td>\n",
       "      <td>2010</td>\n",
       "      <td>12</td>\n",
       "      <td>Wednesday</td>\n",
       "      <td>False</td>\n",
       "    </tr>\n",
       "    <tr>\n",
       "      <th>...</th>\n",
       "      <td>...</td>\n",
       "      <td>...</td>\n",
       "      <td>...</td>\n",
       "      <td>...</td>\n",
       "      <td>...</td>\n",
       "      <td>...</td>\n",
       "      <td>...</td>\n",
       "      <td>...</td>\n",
       "      <td>...</td>\n",
       "      <td>...</td>\n",
       "      <td>...</td>\n",
       "      <td>...</td>\n",
       "      <td>...</td>\n",
       "    </tr>\n",
       "    <tr>\n",
       "      <th>541904</th>\n",
       "      <td>581587</td>\n",
       "      <td>22613</td>\n",
       "      <td>PACK OF 20 SPACEBOY NAPKINS</td>\n",
       "      <td>12</td>\n",
       "      <td>2011-12-09 12:50:00</td>\n",
       "      <td>0.85</td>\n",
       "      <td>12680.0</td>\n",
       "      <td>France</td>\n",
       "      <td>False</td>\n",
       "      <td>2011</td>\n",
       "      <td>12</td>\n",
       "      <td>Friday</td>\n",
       "      <td>True</td>\n",
       "    </tr>\n",
       "    <tr>\n",
       "      <th>541905</th>\n",
       "      <td>581587</td>\n",
       "      <td>22899</td>\n",
       "      <td>CHILDREN'S APRON DOLLY GIRL</td>\n",
       "      <td>6</td>\n",
       "      <td>2011-12-09 12:50:00</td>\n",
       "      <td>2.10</td>\n",
       "      <td>12680.0</td>\n",
       "      <td>France</td>\n",
       "      <td>False</td>\n",
       "      <td>2011</td>\n",
       "      <td>12</td>\n",
       "      <td>Friday</td>\n",
       "      <td>True</td>\n",
       "    </tr>\n",
       "    <tr>\n",
       "      <th>541906</th>\n",
       "      <td>581587</td>\n",
       "      <td>23254</td>\n",
       "      <td>CHILDRENS CUTLERY DOLLY GIRL</td>\n",
       "      <td>4</td>\n",
       "      <td>2011-12-09 12:50:00</td>\n",
       "      <td>4.15</td>\n",
       "      <td>12680.0</td>\n",
       "      <td>France</td>\n",
       "      <td>False</td>\n",
       "      <td>2011</td>\n",
       "      <td>12</td>\n",
       "      <td>Friday</td>\n",
       "      <td>True</td>\n",
       "    </tr>\n",
       "    <tr>\n",
       "      <th>541907</th>\n",
       "      <td>581587</td>\n",
       "      <td>23255</td>\n",
       "      <td>CHILDRENS CUTLERY CIRCUS PARADE</td>\n",
       "      <td>4</td>\n",
       "      <td>2011-12-09 12:50:00</td>\n",
       "      <td>4.15</td>\n",
       "      <td>12680.0</td>\n",
       "      <td>France</td>\n",
       "      <td>False</td>\n",
       "      <td>2011</td>\n",
       "      <td>12</td>\n",
       "      <td>Friday</td>\n",
       "      <td>True</td>\n",
       "    </tr>\n",
       "    <tr>\n",
       "      <th>541908</th>\n",
       "      <td>581587</td>\n",
       "      <td>22138</td>\n",
       "      <td>BAKING SET 9 PIECE RETROSPOT</td>\n",
       "      <td>3</td>\n",
       "      <td>2011-12-09 12:50:00</td>\n",
       "      <td>4.95</td>\n",
       "      <td>12680.0</td>\n",
       "      <td>France</td>\n",
       "      <td>False</td>\n",
       "      <td>2011</td>\n",
       "      <td>12</td>\n",
       "      <td>Friday</td>\n",
       "      <td>True</td>\n",
       "    </tr>\n",
       "  </tbody>\n",
       "</table>\n",
       "<p>541909 rows × 13 columns</p>\n",
       "</div>"
      ],
      "text/plain": [
       "       InvoiceNo StockCode                          Description  Quantity         InvoiceDate  UnitPrice  CustomerID         Country  isRefund  InvoiceYear  InvoiceMonth InvoiceWeekday  IsWeekend\n",
       "0         536365    85123A   WHITE HANGING HEART T-LIGHT HOLDER         6 2010-12-01 08:26:00       2.55     17850.0  United Kingdom     False         2010            12      Wednesday      False\n",
       "1         536365     71053                  WHITE METAL LANTERN         6 2010-12-01 08:26:00       3.39     17850.0  United Kingdom     False         2010            12      Wednesday      False\n",
       "2         536365    84406B       CREAM CUPID HEARTS COAT HANGER         8 2010-12-01 08:26:00       2.75     17850.0  United Kingdom     False         2010            12      Wednesday      False\n",
       "3         536365    84029G  KNITTED UNION FLAG HOT WATER BOTTLE         6 2010-12-01 08:26:00       3.39     17850.0  United Kingdom     False         2010            12      Wednesday      False\n",
       "4         536365    84029E       RED WOOLLY HOTTIE WHITE HEART.         6 2010-12-01 08:26:00       3.39     17850.0  United Kingdom     False         2010            12      Wednesday      False\n",
       "...          ...       ...                                  ...       ...                 ...        ...         ...             ...       ...          ...           ...            ...        ...\n",
       "541904    581587     22613          PACK OF 20 SPACEBOY NAPKINS        12 2011-12-09 12:50:00       0.85     12680.0          France     False         2011            12         Friday       True\n",
       "541905    581587     22899         CHILDREN'S APRON DOLLY GIRL          6 2011-12-09 12:50:00       2.10     12680.0          France     False         2011            12         Friday       True\n",
       "541906    581587     23254        CHILDRENS CUTLERY DOLLY GIRL          4 2011-12-09 12:50:00       4.15     12680.0          France     False         2011            12         Friday       True\n",
       "541907    581587     23255      CHILDRENS CUTLERY CIRCUS PARADE         4 2011-12-09 12:50:00       4.15     12680.0          France     False         2011            12         Friday       True\n",
       "541908    581587     22138        BAKING SET 9 PIECE RETROSPOT          3 2011-12-09 12:50:00       4.95     12680.0          France     False         2011            12         Friday       True\n",
       "\n",
       "[541909 rows x 13 columns]"
      ]
     },
     "execution_count": 288,
     "metadata": {},
     "output_type": "execute_result"
    }
   ],
   "source": [
    "data['InvoiceYear'] = data['InvoiceDate'].dt.year\n",
    "data['InvoiceMonth'] = data['InvoiceDate'].dt.month\n",
    "data['InvoiceWeekday'] = data['InvoiceDate'].dt.day_name()\n",
    "data['IsWeekend'] = data['InvoiceDate'].dt.day > 4\n",
    "data"
   ]
  },
  {
   "cell_type": "markdown",
   "metadata": {},
   "source": [
    " Czy są wartości ekstremalne (np. wszystko z jednego dnia)?\n",
    " nie ma"
   ]
  },
  {
   "cell_type": "code",
   "execution_count": 289,
   "metadata": {},
   "outputs": [
    {
     "data": {
      "text/plain": [
       "InvoiceDate\n",
       "2011-10-31 14:41:00    1114\n",
       "2011-12-08 09:28:00     749\n",
       "2011-12-09 10:03:00     731\n",
       "2011-12-05 17:24:00     721\n",
       "2011-06-29 15:58:00     705\n",
       "                       ... \n",
       "2011-07-24 14:50:00       1\n",
       "2011-07-24 13:56:00       1\n",
       "2011-11-10 15:07:00       1\n",
       "2011-07-22 16:52:00       1\n",
       "2011-07-24 13:14:00       1\n",
       "Name: count, Length: 23260, dtype: int64"
      ]
     },
     "execution_count": 289,
     "metadata": {},
     "output_type": "execute_result"
    }
   ],
   "source": [
    "invoiceDateValueCounts = data['InvoiceDate'].value_counts().sort_values(ascending=False)\n",
    "invoiceDateValueCounts"
   ]
  },
  {
   "cell_type": "markdown",
   "metadata": {},
   "source": [
    "1F. Unit Price\n",
    "czy jest prawidłowy typ danych?\n",
    "tak typ danych tej kolumny to float"
   ]
  },
  {
   "cell_type": "markdown",
   "metadata": {},
   "source": [
    "czy są nany?\n",
    "0 nanów"
   ]
  },
  {
   "cell_type": "code",
   "execution_count": 290,
   "metadata": {},
   "outputs": [
    {
     "data": {
      "text/plain": [
       "np.int64(0)"
      ]
     },
     "execution_count": 290,
     "metadata": {},
     "output_type": "execute_result"
    }
   ],
   "source": [
    "isNansUnitPrice = data['UnitPrice'].isna().sum()\n",
    "isNansUnitPrice"
   ]
  },
  {
   "cell_type": "markdown",
   "metadata": {},
   "source": [
    "Czy są wartości ujemne?\n",
    "są dwie spowodowane jakimś błedem"
   ]
  },
  {
   "cell_type": "code",
   "execution_count": 291,
   "metadata": {},
   "outputs": [
    {
     "data": {
      "text/html": [
       "<div>\n",
       "<style scoped>\n",
       "    .dataframe tbody tr th:only-of-type {\n",
       "        vertical-align: middle;\n",
       "    }\n",
       "\n",
       "    .dataframe tbody tr th {\n",
       "        vertical-align: top;\n",
       "    }\n",
       "\n",
       "    .dataframe thead th {\n",
       "        text-align: right;\n",
       "    }\n",
       "</style>\n",
       "<table border=\"1\" class=\"dataframe\">\n",
       "  <thead>\n",
       "    <tr style=\"text-align: right;\">\n",
       "      <th></th>\n",
       "      <th>InvoiceNo</th>\n",
       "      <th>StockCode</th>\n",
       "      <th>Description</th>\n",
       "      <th>Quantity</th>\n",
       "      <th>InvoiceDate</th>\n",
       "      <th>UnitPrice</th>\n",
       "      <th>CustomerID</th>\n",
       "      <th>Country</th>\n",
       "      <th>isRefund</th>\n",
       "      <th>InvoiceYear</th>\n",
       "      <th>InvoiceMonth</th>\n",
       "      <th>InvoiceWeekday</th>\n",
       "      <th>IsWeekend</th>\n",
       "    </tr>\n",
       "  </thead>\n",
       "  <tbody>\n",
       "    <tr>\n",
       "      <th>299983</th>\n",
       "      <td>A563186</td>\n",
       "      <td>B</td>\n",
       "      <td>Adjust bad debt</td>\n",
       "      <td>1</td>\n",
       "      <td>2011-08-12 14:51:00</td>\n",
       "      <td>-11062.06</td>\n",
       "      <td>NaN</td>\n",
       "      <td>United Kingdom</td>\n",
       "      <td>False</td>\n",
       "      <td>2011</td>\n",
       "      <td>8</td>\n",
       "      <td>Friday</td>\n",
       "      <td>True</td>\n",
       "    </tr>\n",
       "    <tr>\n",
       "      <th>299984</th>\n",
       "      <td>A563187</td>\n",
       "      <td>B</td>\n",
       "      <td>Adjust bad debt</td>\n",
       "      <td>1</td>\n",
       "      <td>2011-08-12 14:52:00</td>\n",
       "      <td>-11062.06</td>\n",
       "      <td>NaN</td>\n",
       "      <td>United Kingdom</td>\n",
       "      <td>False</td>\n",
       "      <td>2011</td>\n",
       "      <td>8</td>\n",
       "      <td>Friday</td>\n",
       "      <td>True</td>\n",
       "    </tr>\n",
       "  </tbody>\n",
       "</table>\n",
       "</div>"
      ],
      "text/plain": [
       "       InvoiceNo StockCode      Description  Quantity         InvoiceDate  UnitPrice  CustomerID         Country  isRefund  InvoiceYear  InvoiceMonth InvoiceWeekday  IsWeekend\n",
       "299983   A563186         B  Adjust bad debt         1 2011-08-12 14:51:00  -11062.06         NaN  United Kingdom     False         2011             8         Friday       True\n",
       "299984   A563187         B  Adjust bad debt         1 2011-08-12 14:52:00  -11062.06         NaN  United Kingdom     False         2011             8         Friday       True"
      ]
     },
     "execution_count": 291,
     "metadata": {},
     "output_type": "execute_result"
    }
   ],
   "source": [
    "isNegativeUnitPriceValues = data[data['UnitPrice'] < 0]\n",
    "isNegativeUnitPriceValues"
   ]
  },
  {
   "cell_type": "markdown",
   "metadata": {},
   "source": [
    "Czy są wartości ekstremalne?\n",
    "są 4 wartosci powyzej 16 tysiecy za jeden produkt, jest tez 2515 rekordow o unitprice 0.są to pewnie ceny po rabacie jakims."
   ]
  },
  {
   "cell_type": "code",
   "execution_count": 292,
   "metadata": {},
   "outputs": [
    {
     "data": {
      "text/plain": [
       "UnitPrice\n",
       " 38970.000       1\n",
       " 17836.460       1\n",
       " 16888.020       1\n",
       " 16453.710       1\n",
       " 13541.330       3\n",
       "              ... \n",
       " 0.030           3\n",
       " 0.010           1\n",
       " 0.001           4\n",
       " 0.000        2515\n",
       "-11062.060       2\n",
       "Name: count, Length: 1630, dtype: int64"
      ]
     },
     "execution_count": 292,
     "metadata": {},
     "output_type": "execute_result"
    }
   ],
   "source": [
    "unitPriceValueCounts = data['UnitPrice'].value_counts().sort_index(ascending=False)\n",
    "unitPriceValueCounts"
   ]
  },
  {
   "cell_type": "markdown",
   "metadata": {},
   "source": [
    "ile jest unikalnych wartości\n",
    "jest 1630 unikalnych wartosci\n"
   ]
  },
  {
   "cell_type": "code",
   "execution_count": 293,
   "metadata": {},
   "outputs": [
    {
     "data": {
      "text/plain": [
       "1630"
      ]
     },
     "execution_count": 293,
     "metadata": {},
     "output_type": "execute_result"
    }
   ],
   "source": [
    "nUniqueUnitPrice = data['UnitPrice'].nunique()\n",
    "nUniqueUnitPrice"
   ]
  },
  {
   "cell_type": "markdown",
   "metadata": {},
   "source": [
    "1G. CustomerID"
   ]
  },
  {
   "cell_type": "markdown",
   "metadata": {},
   "source": [
    "czy są nan?\n",
    "Usuwam rekordy bez CustomerID (~25%), ponieważ są niemożliwe do przypisania do klienta.\n",
    "Analiza poprzednich kolumn wykazała, że często zawierają błędy np.manualne wpisy"
   ]
  },
  {
   "cell_type": "code",
   "execution_count": 294,
   "metadata": {},
   "outputs": [],
   "source": [
    "isNansCustomerID = data['CustomerID'].isna().sum()\n",
    "isNansCustomerID\n",
    "data = data[~data['CustomerID'].isna()]"
   ]
  },
  {
   "cell_type": "markdown",
   "metadata": {},
   "source": [
    "Czy typ danych jest odpowiedni?\n",
    "Nie, jest float, zmieniam na integer"
   ]
  },
  {
   "cell_type": "code",
   "execution_count": 295,
   "metadata": {},
   "outputs": [
    {
     "name": "stderr",
     "output_type": "stream",
     "text": [
      "/tmp/ipykernel_10988/3307269198.py:1: SettingWithCopyWarning: \n",
      "A value is trying to be set on a copy of a slice from a DataFrame.\n",
      "Try using .loc[row_indexer,col_indexer] = value instead\n",
      "\n",
      "See the caveats in the documentation: https://pandas.pydata.org/pandas-docs/stable/user_guide/indexing.html#returning-a-view-versus-a-copy\n",
      "  data['CustomerID'] = data['CustomerID'].astype('Int32')\n"
     ]
    },
    {
     "data": {
      "text/plain": [
       "InvoiceNo         string[python]\n",
       "StockCode         string[python]\n",
       "Description               object\n",
       "Quantity                   int64\n",
       "InvoiceDate        datetime64[s]\n",
       "UnitPrice                float64\n",
       "CustomerID                 Int32\n",
       "Country                   object\n",
       "isRefund                 boolean\n",
       "InvoiceYear                int32\n",
       "InvoiceMonth               int32\n",
       "InvoiceWeekday            object\n",
       "IsWeekend                   bool\n",
       "dtype: object"
      ]
     },
     "execution_count": 295,
     "metadata": {},
     "output_type": "execute_result"
    }
   ],
   "source": [
    "data['CustomerID'] = data['CustomerID'].astype('Int32')\n",
    "data.dtypes"
   ]
  },
  {
   "cell_type": "markdown",
   "metadata": {},
   "source": [
    "Czy występuja nietypowe wartosci?\n",
    "Czy dane są ciągłe? (czy ID rosną bez dziur?)\n",
    "nie, poniewaz udalo sie zmienic kolumne na int czyli nie wystepuje nic oprocz liczb calkowitych.Czy są powtórzenia / duplikaty?\n",
    "No są jakby moglo ich nie byc. przeciez jeden klient moze miec wiele zamowien"
   ]
  },
  {
   "cell_type": "markdown",
   "metadata": {},
   "source": [
    "1H. Country"
   ]
  },
  {
   "cell_type": "markdown",
   "metadata": {},
   "source": [
    "czy są nany?\n",
    "Nie ma"
   ]
  },
  {
   "cell_type": "code",
   "execution_count": 296,
   "metadata": {},
   "outputs": [
    {
     "data": {
      "text/plain": [
       "np.int64(0)"
      ]
     },
     "execution_count": 296,
     "metadata": {},
     "output_type": "execute_result"
    }
   ],
   "source": [
    "isNansCountry = data['Country'].isna().sum()\n",
    "isNansCountry"
   ]
  },
  {
   "cell_type": "markdown",
   "metadata": {},
   "source": [
    "czy są podejrzanie wartosci?\n",
    "nie ma\n",
    "Czy występują różne warianty zapisu jednego kraju?\n",
    "Niepotrzebna jest standaryzcja"
   ]
  },
  {
   "cell_type": "code",
   "execution_count": 297,
   "metadata": {},
   "outputs": [
    {
     "data": {
      "text/plain": [
       "Country\n",
       "Saudi Arabia                10\n",
       "Bahrain                     17\n",
       "Czech Republic              30\n",
       "Brazil                      32\n",
       "Lithuania                   35\n",
       "Lebanon                     45\n",
       "RSA                         58\n",
       "European Community          61\n",
       "United Arab Emirates        68\n",
       "Malta                      127\n",
       "Greece                     146\n",
       "Canada                     151\n",
       "Iceland                    182\n",
       "Singapore                  229\n",
       "Unspecified                244\n",
       "Israel                     250\n",
       "USA                        291\n",
       "Poland                     341\n",
       "Japan                      358\n",
       "Denmark                    389\n",
       "Austria                    401\n",
       "Sweden                     462\n",
       "Cyprus                     622\n",
       "Finland                    695\n",
       "Channel Islands            758\n",
       "Italy                      803\n",
       "Norway                    1086\n",
       "Australia                 1259\n",
       "Portugal                  1480\n",
       "Switzerland               1877\n",
       "Belgium                   2069\n",
       "Netherlands               2371\n",
       "Spain                     2533\n",
       "EIRE                      7485\n",
       "France                    8491\n",
       "Germany                   9495\n",
       "United Kingdom          361878\n",
       "Name: count, dtype: int64"
      ]
     },
     "execution_count": 297,
     "metadata": {},
     "output_type": "execute_result"
    }
   ],
   "source": [
    "valueCountsCountry = data['Country'].value_counts().sort_values(ascending=True).head(50)\n",
    "valueCountsCountry"
   ]
  },
  {
   "cell_type": "markdown",
   "metadata": {},
   "source": [
    "Czy większość danych pochodzi z jednego kraju (np. UK)?\n",
    "Tak wiekszosc z uk. stworze kolumne IsUK"
   ]
  },
  {
   "cell_type": "code",
   "execution_count": 298,
   "metadata": {},
   "outputs": [
    {
     "name": "stderr",
     "output_type": "stream",
     "text": [
      "/tmp/ipykernel_10988/2115454288.py:1: SettingWithCopyWarning: \n",
      "A value is trying to be set on a copy of a slice from a DataFrame.\n",
      "Try using .loc[row_indexer,col_indexer] = value instead\n",
      "\n",
      "See the caveats in the documentation: https://pandas.pydata.org/pandas-docs/stable/user_guide/indexing.html#returning-a-view-versus-a-copy\n",
      "  data['IsUK'] = data['Country'].isin(['United Kingdom'])\n"
     ]
    }
   ],
   "source": [
    "data['IsUK'] = data['Country'].isin(['United Kingdom'])\n"
   ]
  },
  {
   "cell_type": "markdown",
   "metadata": {},
   "source": []
  },
  {
   "cell_type": "markdown",
   "metadata": {},
   "source": [
    "na sam koniec dodaje kolumne totalPrice to przyszlej analizy"
   ]
  },
  {
   "cell_type": "code",
   "execution_count": null,
   "metadata": {},
   "outputs": [],
   "source": [
    "data['TotalPrice'] = data['Quantity'] * data['UnitPrice']\n",
    "data"
   ]
  }
 ],
 "metadata": {
  "kernelspec": {
   "display_name": "Python 3",
   "language": "python",
   "name": "python3"
  },
  "language_info": {
   "codemirror_mode": {
    "name": "ipython",
    "version": 3
   },
   "file_extension": ".py",
   "mimetype": "text/x-python",
   "name": "python",
   "nbconvert_exporter": "python",
   "pygments_lexer": "ipython3",
   "version": "3.10.12"
  }
 },
 "nbformat": 4,
 "nbformat_minor": 2
}
