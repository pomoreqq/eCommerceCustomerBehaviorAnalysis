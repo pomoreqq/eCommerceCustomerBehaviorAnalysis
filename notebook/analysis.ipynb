{
 "cells": [
  {
   "cell_type": "code",
   "execution_count": 2,
   "metadata": {},
   "outputs": [],
   "source": [
    "import pandas as pd\n",
    "pd.set_option('display.width', 200)\n",
    "pd.set_option('display.max_columns', None)\n",
    "pd.set_option('display.max_colwidth', None)"
   ]
  },
  {
   "cell_type": "code",
   "execution_count": 3,
   "metadata": {},
   "outputs": [
    {
     "name": "stdout",
     "output_type": "stream",
     "text": [
      "       InvoiceNo StockCode                          Description  Quantity      InvoiceDate  UnitPrice  CustomerID         Country\n",
      "0         536365    85123A   WHITE HANGING HEART T-LIGHT HOLDER         6   12/1/2010 8:26       2.55     17850.0  United Kingdom\n",
      "1         536365     71053                  WHITE METAL LANTERN         6   12/1/2010 8:26       3.39     17850.0  United Kingdom\n",
      "2         536365    84406B       CREAM CUPID HEARTS COAT HANGER         8   12/1/2010 8:26       2.75     17850.0  United Kingdom\n",
      "3         536365    84029G  KNITTED UNION FLAG HOT WATER BOTTLE         6   12/1/2010 8:26       3.39     17850.0  United Kingdom\n",
      "4         536365    84029E       RED WOOLLY HOTTIE WHITE HEART.         6   12/1/2010 8:26       3.39     17850.0  United Kingdom\n",
      "...          ...       ...                                  ...       ...              ...        ...         ...             ...\n",
      "541904    581587     22613          PACK OF 20 SPACEBOY NAPKINS        12  12/9/2011 12:50       0.85     12680.0          France\n",
      "541905    581587     22899         CHILDREN'S APRON DOLLY GIRL          6  12/9/2011 12:50       2.10     12680.0          France\n",
      "541906    581587     23254        CHILDRENS CUTLERY DOLLY GIRL          4  12/9/2011 12:50       4.15     12680.0          France\n",
      "541907    581587     23255      CHILDRENS CUTLERY CIRCUS PARADE         4  12/9/2011 12:50       4.15     12680.0          France\n",
      "541908    581587     22138        BAKING SET 9 PIECE RETROSPOT          3  12/9/2011 12:50       4.95     12680.0          France\n",
      "\n",
      "[541909 rows x 8 columns]\n"
     ]
    }
   ],
   "source": [
    "data = pd.read_csv('/home/pomoreq/eCommerceCustomerBehaviorAnalysis/data/data.csv', encoding='unicode_escape')\n",
    "print(data)"
   ]
  },
  {
   "cell_type": "markdown",
   "metadata": {},
   "source": [
    "1.Preprocessing kolumn oraz stukturalna EDA\n",
    "1A. kolumna invoiceNo"
   ]
  },
  {
   "cell_type": "markdown",
   "metadata": {},
   "source": [
    "Sprawdzam czy są nany.\n",
    "0 nanow"
   ]
  },
  {
   "cell_type": "code",
   "execution_count": 4,
   "metadata": {},
   "outputs": [],
   "source": [
    "data['InvoiceNo'] = data['InvoiceNo'].astype('string')\n",
    "isNansInvoiceNo = data['InvoiceNo'].isna().sum()"
   ]
  },
  {
   "cell_type": "markdown",
   "metadata": {},
   "source": [
    "typ danych poprawny?\n",
    "Nie, zmieniam z typu danych obiekt na string ponieważ indetyfikatory zawieraja znaki nienumeryczne"
   ]
  },
  {
   "cell_type": "code",
   "execution_count": 5,
   "metadata": {},
   "outputs": [
    {
     "data": {
      "text/plain": [
       "InvoiceNo      string[python]\n",
       "StockCode              object\n",
       "Description            object\n",
       "Quantity                int64\n",
       "InvoiceDate            object\n",
       "UnitPrice             float64\n",
       "CustomerID            float64\n",
       "Country                object\n",
       "dtype: object"
      ]
     },
     "execution_count": 5,
     "metadata": {},
     "output_type": "execute_result"
    }
   ],
   "source": [
    "data['InvoiceNo'] = data['InvoiceNo'].astype('string')\n",
    "data.dtypes"
   ]
  },
  {
   "cell_type": "markdown",
   "metadata": {},
   "source": [
    "Czy są powtorzenia indeytfikatora?\n",
    "Tak są np faktura 573835 wystepuje 1114 razy. oznacza to ze jedna faktura to wiele pozycji"
   ]
  },
  {
   "cell_type": "code",
   "execution_count": 6,
   "metadata": {},
   "outputs": [],
   "source": [
    "valueCountsInvoiceNo = data['InvoiceNo'].value_counts().sort_values(ascending=False)"
   ]
  },
  {
   "cell_type": "markdown",
   "metadata": {},
   "source": [
    " Czy długości InvoiceNo są spójne?\n",
    " Tak dla zamowienia jest dlugosc 6 a dla zwrotu 7"
   ]
  },
  {
   "cell_type": "code",
   "execution_count": 7,
   "metadata": {},
   "outputs": [
    {
     "data": {
      "text/plain": [
       "InvoiceNo\n",
       "6    532618\n",
       "7      9291\n",
       "Name: count, dtype: int64"
      ]
     },
     "execution_count": 7,
     "metadata": {},
     "output_type": "execute_result"
    }
   ],
   "source": [
    "lengthOfValuesInInvoiceNo = data['InvoiceNo'].apply(len).value_counts()\n",
    "lengthOfValuesInInvoiceNo"
   ]
  },
  {
   "cell_type": "markdown",
   "metadata": {},
   "source": [
    " Czy są dziwne znaki/spacje?\n",
    " Nie ma, wnioskuje po dlugosci wartosci"
   ]
  },
  {
   "cell_type": "markdown",
   "metadata": {},
   "source": [
    "Dodaje kolumne isRefund która oznacza czy zamowienie jest zwrotem"
   ]
  },
  {
   "cell_type": "code",
   "execution_count": 8,
   "metadata": {},
   "outputs": [],
   "source": [
    "data['isRefund'] = data['InvoiceNo'].str[0] == 'C'\n"
   ]
  },
  {
   "cell_type": "markdown",
   "metadata": {},
   "source": [
    "Czy invoiceNo jest alfaNumeryczny\n",
    "Tak invoice no jest alfa numeryczny"
   ]
  },
  {
   "cell_type": "code",
   "execution_count": 9,
   "metadata": {},
   "outputs": [
    {
     "data": {
      "text/plain": [
       "np.True_"
      ]
     },
     "execution_count": 9,
     "metadata": {},
     "output_type": "execute_result"
    }
   ],
   "source": [
    "isInvoiceNoAlnum = data['InvoiceNo'].apply(lambda s: s.isalnum()).all()\n",
    "isInvoiceNoAlnum"
   ]
  },
  {
   "cell_type": "markdown",
   "metadata": {},
   "source": [
    "Ile pozycji zawiera przeciętny InvoiceNo?\n",
    "(średnia liczba rekordów przypadających na jeden numer faktury)\n",
    "srednia liczba rekordow to18,3"
   ]
  },
  {
   "cell_type": "code",
   "execution_count": 10,
   "metadata": {},
   "outputs": [
    {
     "data": {
      "text/plain": [
       "np.float64(20.923127413127414)"
      ]
     },
     "execution_count": 10,
     "metadata": {},
     "output_type": "execute_result"
    }
   ],
   "source": [
    "meanPositionsForInvoiceNo = data.groupby('InvoiceNo')['StockCode'].count().mean()\n",
    "meanPositionsForInvoiceNo"
   ]
  },
  {
   "cell_type": "markdown",
   "metadata": {},
   "source": [
    "Czy są InvoiceNo, które mają tylko jedną pozycję?\n",
    "Czy są faktury jednoitemowe?\n",
    "tak istnieja takie faktury"
   ]
  },
  {
   "cell_type": "code",
   "execution_count": 11,
   "metadata": {},
   "outputs": [
    {
     "data": {
      "text/plain": [
       "np.True_"
      ]
     },
     "execution_count": 11,
     "metadata": {},
     "output_type": "execute_result"
    }
   ],
   "source": [
    "isOneItemInvoiceNo = (data.groupby('InvoiceNo')['StockCode'].count() == 1).any()\n",
    "isOneItemInvoiceNo"
   ]
  },
  {
   "cell_type": "markdown",
   "metadata": {},
   "source": [
    "Czy InvoiceNo są uporządkowane rosnąco względem daty?\n",
    "tak bo pierwszy wiersz pokrywa sie z invoiceDateMin a ostatni z max"
   ]
  },
  {
   "cell_type": "code",
   "execution_count": 12,
   "metadata": {},
   "outputs": [
    {
     "data": {
      "text/html": [
       "<div>\n",
       "<style scoped>\n",
       "    .dataframe tbody tr th:only-of-type {\n",
       "        vertical-align: middle;\n",
       "    }\n",
       "\n",
       "    .dataframe tbody tr th {\n",
       "        vertical-align: top;\n",
       "    }\n",
       "\n",
       "    .dataframe thead th {\n",
       "        text-align: right;\n",
       "    }\n",
       "</style>\n",
       "<table border=\"1\" class=\"dataframe\">\n",
       "  <thead>\n",
       "    <tr style=\"text-align: right;\">\n",
       "      <th></th>\n",
       "      <th>InvoiceNo</th>\n",
       "      <th>StockCode</th>\n",
       "      <th>Description</th>\n",
       "      <th>Quantity</th>\n",
       "      <th>InvoiceDate</th>\n",
       "      <th>UnitPrice</th>\n",
       "      <th>CustomerID</th>\n",
       "      <th>Country</th>\n",
       "      <th>isRefund</th>\n",
       "    </tr>\n",
       "  </thead>\n",
       "  <tbody>\n",
       "    <tr>\n",
       "      <th>0</th>\n",
       "      <td>536365</td>\n",
       "      <td>85123A</td>\n",
       "      <td>WHITE HANGING HEART T-LIGHT HOLDER</td>\n",
       "      <td>6</td>\n",
       "      <td>12/1/2010 8:26</td>\n",
       "      <td>2.55</td>\n",
       "      <td>17850.0</td>\n",
       "      <td>United Kingdom</td>\n",
       "      <td>False</td>\n",
       "    </tr>\n",
       "    <tr>\n",
       "      <th>1</th>\n",
       "      <td>536365</td>\n",
       "      <td>71053</td>\n",
       "      <td>WHITE METAL LANTERN</td>\n",
       "      <td>6</td>\n",
       "      <td>12/1/2010 8:26</td>\n",
       "      <td>3.39</td>\n",
       "      <td>17850.0</td>\n",
       "      <td>United Kingdom</td>\n",
       "      <td>False</td>\n",
       "    </tr>\n",
       "    <tr>\n",
       "      <th>2</th>\n",
       "      <td>536365</td>\n",
       "      <td>84406B</td>\n",
       "      <td>CREAM CUPID HEARTS COAT HANGER</td>\n",
       "      <td>8</td>\n",
       "      <td>12/1/2010 8:26</td>\n",
       "      <td>2.75</td>\n",
       "      <td>17850.0</td>\n",
       "      <td>United Kingdom</td>\n",
       "      <td>False</td>\n",
       "    </tr>\n",
       "    <tr>\n",
       "      <th>3</th>\n",
       "      <td>536365</td>\n",
       "      <td>84029G</td>\n",
       "      <td>KNITTED UNION FLAG HOT WATER BOTTLE</td>\n",
       "      <td>6</td>\n",
       "      <td>12/1/2010 8:26</td>\n",
       "      <td>3.39</td>\n",
       "      <td>17850.0</td>\n",
       "      <td>United Kingdom</td>\n",
       "      <td>False</td>\n",
       "    </tr>\n",
       "    <tr>\n",
       "      <th>4</th>\n",
       "      <td>536365</td>\n",
       "      <td>84029E</td>\n",
       "      <td>RED WOOLLY HOTTIE WHITE HEART.</td>\n",
       "      <td>6</td>\n",
       "      <td>12/1/2010 8:26</td>\n",
       "      <td>3.39</td>\n",
       "      <td>17850.0</td>\n",
       "      <td>United Kingdom</td>\n",
       "      <td>False</td>\n",
       "    </tr>\n",
       "    <tr>\n",
       "      <th>...</th>\n",
       "      <td>...</td>\n",
       "      <td>...</td>\n",
       "      <td>...</td>\n",
       "      <td>...</td>\n",
       "      <td>...</td>\n",
       "      <td>...</td>\n",
       "      <td>...</td>\n",
       "      <td>...</td>\n",
       "      <td>...</td>\n",
       "    </tr>\n",
       "    <tr>\n",
       "      <th>541904</th>\n",
       "      <td>581587</td>\n",
       "      <td>22613</td>\n",
       "      <td>PACK OF 20 SPACEBOY NAPKINS</td>\n",
       "      <td>12</td>\n",
       "      <td>12/9/2011 12:50</td>\n",
       "      <td>0.85</td>\n",
       "      <td>12680.0</td>\n",
       "      <td>France</td>\n",
       "      <td>False</td>\n",
       "    </tr>\n",
       "    <tr>\n",
       "      <th>541905</th>\n",
       "      <td>581587</td>\n",
       "      <td>22899</td>\n",
       "      <td>CHILDREN'S APRON DOLLY GIRL</td>\n",
       "      <td>6</td>\n",
       "      <td>12/9/2011 12:50</td>\n",
       "      <td>2.10</td>\n",
       "      <td>12680.0</td>\n",
       "      <td>France</td>\n",
       "      <td>False</td>\n",
       "    </tr>\n",
       "    <tr>\n",
       "      <th>541906</th>\n",
       "      <td>581587</td>\n",
       "      <td>23254</td>\n",
       "      <td>CHILDRENS CUTLERY DOLLY GIRL</td>\n",
       "      <td>4</td>\n",
       "      <td>12/9/2011 12:50</td>\n",
       "      <td>4.15</td>\n",
       "      <td>12680.0</td>\n",
       "      <td>France</td>\n",
       "      <td>False</td>\n",
       "    </tr>\n",
       "    <tr>\n",
       "      <th>541907</th>\n",
       "      <td>581587</td>\n",
       "      <td>23255</td>\n",
       "      <td>CHILDRENS CUTLERY CIRCUS PARADE</td>\n",
       "      <td>4</td>\n",
       "      <td>12/9/2011 12:50</td>\n",
       "      <td>4.15</td>\n",
       "      <td>12680.0</td>\n",
       "      <td>France</td>\n",
       "      <td>False</td>\n",
       "    </tr>\n",
       "    <tr>\n",
       "      <th>541908</th>\n",
       "      <td>581587</td>\n",
       "      <td>22138</td>\n",
       "      <td>BAKING SET 9 PIECE RETROSPOT</td>\n",
       "      <td>3</td>\n",
       "      <td>12/9/2011 12:50</td>\n",
       "      <td>4.95</td>\n",
       "      <td>12680.0</td>\n",
       "      <td>France</td>\n",
       "      <td>False</td>\n",
       "    </tr>\n",
       "  </tbody>\n",
       "</table>\n",
       "<p>541909 rows × 9 columns</p>\n",
       "</div>"
      ],
      "text/plain": [
       "       InvoiceNo StockCode                          Description  Quantity      InvoiceDate  UnitPrice  CustomerID         Country  isRefund\n",
       "0         536365    85123A   WHITE HANGING HEART T-LIGHT HOLDER         6   12/1/2010 8:26       2.55     17850.0  United Kingdom     False\n",
       "1         536365     71053                  WHITE METAL LANTERN         6   12/1/2010 8:26       3.39     17850.0  United Kingdom     False\n",
       "2         536365    84406B       CREAM CUPID HEARTS COAT HANGER         8   12/1/2010 8:26       2.75     17850.0  United Kingdom     False\n",
       "3         536365    84029G  KNITTED UNION FLAG HOT WATER BOTTLE         6   12/1/2010 8:26       3.39     17850.0  United Kingdom     False\n",
       "4         536365    84029E       RED WOOLLY HOTTIE WHITE HEART.         6   12/1/2010 8:26       3.39     17850.0  United Kingdom     False\n",
       "...          ...       ...                                  ...       ...              ...        ...         ...             ...       ...\n",
       "541904    581587     22613          PACK OF 20 SPACEBOY NAPKINS        12  12/9/2011 12:50       0.85     12680.0          France     False\n",
       "541905    581587     22899         CHILDREN'S APRON DOLLY GIRL          6  12/9/2011 12:50       2.10     12680.0          France     False\n",
       "541906    581587     23254        CHILDRENS CUTLERY DOLLY GIRL          4  12/9/2011 12:50       4.15     12680.0          France     False\n",
       "541907    581587     23255      CHILDRENS CUTLERY CIRCUS PARADE         4  12/9/2011 12:50       4.15     12680.0          France     False\n",
       "541908    581587     22138        BAKING SET 9 PIECE RETROSPOT          3  12/9/2011 12:50       4.95     12680.0          France     False\n",
       "\n",
       "[541909 rows x 9 columns]"
      ]
     },
     "execution_count": 12,
     "metadata": {},
     "output_type": "execute_result"
    }
   ],
   "source": [
    "data"
   ]
  },
  {
   "cell_type": "markdown",
   "metadata": {},
   "source": [
    "Czy są duże grupy duplikatów InvoiceNo z różnymi CustomerID?\n",
    "czy są przypadki, że ten sam InvoiceNo ma przypisanych różnych klientów?\n",
    "jeden invoice no ma jesten customerid"
   ]
  },
  {
   "cell_type": "code",
   "execution_count": 13,
   "metadata": {},
   "outputs": [
    {
     "data": {
      "text/plain": [
       "InvoiceNo\n",
       "536365     1\n",
       "536366     1\n",
       "536367     1\n",
       "536368     1\n",
       "536369     1\n",
       "          ..\n",
       "C581484    1\n",
       "C581490    1\n",
       "C581499    1\n",
       "C581568    1\n",
       "C581569    1\n",
       "Name: CustomerID, Length: 25900, dtype: int64"
      ]
     },
     "execution_count": 13,
     "metadata": {},
     "output_type": "execute_result"
    }
   ],
   "source": [
    "isInvoiceNoWithMultipleClients = data.groupby('InvoiceNo')['CustomerID'].nunique()\n",
    "isInvoiceNoWithMultipleClients"
   ]
  },
  {
   "cell_type": "markdown",
   "metadata": {},
   "source": [
    "Duplikaty w danych?\n",
    "tak wystepuja duplikaty czyli invoiceNo z tym samym stocCodem np. invoice no 536409 ma dwa razy 90199C. do dalszej analizy czy jeden stockcode moze miec wiele opisow tzn np rozniace sie koolory"
   ]
  },
  {
   "cell_type": "code",
   "execution_count": 14,
   "metadata": {},
   "outputs": [
    {
     "data": {
      "text/plain": [
       "125       True\n",
       "498       True\n",
       "502       True\n",
       "517       True\n",
       "525       True\n",
       "          ... \n",
       "541692    True\n",
       "541697    True\n",
       "541698    True\n",
       "541699    True\n",
       "541701    True\n",
       "Length: 10684, dtype: bool"
      ]
     },
     "execution_count": 14,
     "metadata": {},
     "output_type": "execute_result"
    }
   ],
   "source": [
    "isDuplicatedInvoiceNoAndStockCode = data.duplicated(subset=['InvoiceNo','StockCode']) == True\n",
    "onlyTrues = isDuplicatedInvoiceNoAndStockCode[isDuplicatedInvoiceNoAndStockCode == True]\n",
    "onlyTruesIndexes = onlyTrues.index\n",
    "duplicates = data.loc[onlyTruesIndexes,['InvoiceNo','StockCode']]\n",
    "duplicates\n",
    "onlyTrues"
   ]
  },
  {
   "cell_type": "markdown",
   "metadata": {},
   "source": [
    "1B. Kolumna StockCode"
   ]
  },
  {
   "cell_type": "markdown",
   "metadata": {},
   "source": [
    "Czy są nany?\n",
    "0 nanów"
   ]
  },
  {
   "cell_type": "code",
   "execution_count": 15,
   "metadata": {},
   "outputs": [
    {
     "data": {
      "text/plain": [
       "np.int64(0)"
      ]
     },
     "execution_count": 15,
     "metadata": {},
     "output_type": "execute_result"
    }
   ],
   "source": [
    "isNansStockCode = data['StockCode'].isna().sum()\n",
    "isNansStockCode"
   ]
  },
  {
   "cell_type": "markdown",
   "metadata": {},
   "source": [
    "Czy jest prawidlowy typ danych?\n",
    "Nie, jest object a mozna zmienic na String. poniewaz StockCode zawiera litery oraz cyfry"
   ]
  },
  {
   "cell_type": "code",
   "execution_count": 16,
   "metadata": {},
   "outputs": [],
   "source": [
    "data['StockCode'] = data['StockCode'].astype('string')"
   ]
  },
  {
   "cell_type": "markdown",
   "metadata": {},
   "source": [
    "Czy są podejrzane kody (np. bardzo krótkie, bardzo długie)\n",
    "Tak jest przestrzal dlugosci kodow od 1 do 12."
   ]
  },
  {
   "cell_type": "code",
   "execution_count": 17,
   "metadata": {},
   "outputs": [
    {
     "data": {
      "text/plain": [
       "StockCode\n",
       "5     487036\n",
       "6      51488\n",
       "4       1276\n",
       "1        715\n",
       "3        710\n",
       "7        390\n",
       "2        144\n",
       "12        71\n",
       "9         48\n",
       "8         31\n",
       "Name: count, dtype: int64"
      ]
     },
     "execution_count": 17,
     "metadata": {},
     "output_type": "execute_result"
    }
   ],
   "source": [
    "lenOfValuesStockCode = data['StockCode'].apply(len).value_counts()\n",
    "lenOfValuesStockCode\n"
   ]
  },
  {
   "cell_type": "markdown",
   "metadata": {},
   "source": [
    "Czy występują znaki nietypowe, spacje, znaki specjalne?\n",
    "tak,wystepuja znaki specjalne, zostawiam je ze wzgledu na to ze to sa np indetyfikatory giftow. kody zwieraja cyfry,litery i znaki specjalne"
   ]
  },
  {
   "cell_type": "code",
   "execution_count": 18,
   "metadata": {},
   "outputs": [
    {
     "data": {
      "text/html": [
       "<div>\n",
       "<style scoped>\n",
       "    .dataframe tbody tr th:only-of-type {\n",
       "        vertical-align: middle;\n",
       "    }\n",
       "\n",
       "    .dataframe tbody tr th {\n",
       "        vertical-align: top;\n",
       "    }\n",
       "\n",
       "    .dataframe thead th {\n",
       "        text-align: right;\n",
       "    }\n",
       "</style>\n",
       "<table border=\"1\" class=\"dataframe\">\n",
       "  <thead>\n",
       "    <tr style=\"text-align: right;\">\n",
       "      <th></th>\n",
       "      <th>InvoiceNo</th>\n",
       "      <th>StockCode</th>\n",
       "      <th>Description</th>\n",
       "      <th>Quantity</th>\n",
       "      <th>InvoiceDate</th>\n",
       "      <th>UnitPrice</th>\n",
       "      <th>CustomerID</th>\n",
       "      <th>Country</th>\n",
       "      <th>isRefund</th>\n",
       "    </tr>\n",
       "  </thead>\n",
       "  <tbody>\n",
       "    <tr>\n",
       "      <th>4406</th>\n",
       "      <td>536779</td>\n",
       "      <td>BANK CHARGES</td>\n",
       "      <td>Bank Charges</td>\n",
       "      <td>1</td>\n",
       "      <td>12/2/2010 15:08</td>\n",
       "      <td>15.00</td>\n",
       "      <td>15823.0</td>\n",
       "      <td>United Kingdom</td>\n",
       "      <td>False</td>\n",
       "    </tr>\n",
       "    <tr>\n",
       "      <th>14435</th>\n",
       "      <td>C537572</td>\n",
       "      <td>BANK CHARGES</td>\n",
       "      <td>Bank Charges</td>\n",
       "      <td>-1</td>\n",
       "      <td>12/7/2010 12:00</td>\n",
       "      <td>95.38</td>\n",
       "      <td>NaN</td>\n",
       "      <td>United Kingdom</td>\n",
       "      <td>True</td>\n",
       "    </tr>\n",
       "    <tr>\n",
       "      <th>28992</th>\n",
       "      <td>C538680</td>\n",
       "      <td>BANK CHARGES</td>\n",
       "      <td>Bank Charges</td>\n",
       "      <td>-1</td>\n",
       "      <td>12/13/2010 17:10</td>\n",
       "      <td>966.92</td>\n",
       "      <td>NaN</td>\n",
       "      <td>United Kingdom</td>\n",
       "      <td>True</td>\n",
       "    </tr>\n",
       "    <tr>\n",
       "      <th>38248</th>\n",
       "      <td>539492</td>\n",
       "      <td>gift_0001_40</td>\n",
       "      <td>Dotcomgiftshop Gift Voucher £40.00</td>\n",
       "      <td>1</td>\n",
       "      <td>12/20/2010 10:14</td>\n",
       "      <td>34.04</td>\n",
       "      <td>NaN</td>\n",
       "      <td>United Kingdom</td>\n",
       "      <td>False</td>\n",
       "    </tr>\n",
       "    <tr>\n",
       "      <th>42057</th>\n",
       "      <td>539958</td>\n",
       "      <td>gift_0001_50</td>\n",
       "      <td>Dotcomgiftshop Gift Voucher £50.00</td>\n",
       "      <td>1</td>\n",
       "      <td>12/23/2010 13:26</td>\n",
       "      <td>42.55</td>\n",
       "      <td>NaN</td>\n",
       "      <td>United Kingdom</td>\n",
       "      <td>False</td>\n",
       "    </tr>\n",
       "    <tr>\n",
       "      <th>...</th>\n",
       "      <td>...</td>\n",
       "      <td>...</td>\n",
       "      <td>...</td>\n",
       "      <td>...</td>\n",
       "      <td>...</td>\n",
       "      <td>...</td>\n",
       "      <td>...</td>\n",
       "      <td>...</td>\n",
       "      <td>...</td>\n",
       "    </tr>\n",
       "    <tr>\n",
       "      <th>481152</th>\n",
       "      <td>C577342</td>\n",
       "      <td>BANK CHARGES</td>\n",
       "      <td>Bank Charges</td>\n",
       "      <td>-1</td>\n",
       "      <td>11/18/2011 15:11</td>\n",
       "      <td>490.06</td>\n",
       "      <td>NaN</td>\n",
       "      <td>United Kingdom</td>\n",
       "      <td>True</td>\n",
       "    </tr>\n",
       "    <tr>\n",
       "      <th>481153</th>\n",
       "      <td>C577343</td>\n",
       "      <td>BANK CHARGES</td>\n",
       "      <td>Bank Charges</td>\n",
       "      <td>-1</td>\n",
       "      <td>11/18/2011 15:13</td>\n",
       "      <td>27.21</td>\n",
       "      <td>NaN</td>\n",
       "      <td>United Kingdom</td>\n",
       "      <td>True</td>\n",
       "    </tr>\n",
       "    <tr>\n",
       "      <th>506357</th>\n",
       "      <td>579137</td>\n",
       "      <td>BANK CHARGES</td>\n",
       "      <td>Bank Charges</td>\n",
       "      <td>1</td>\n",
       "      <td>11/28/2011 12:51</td>\n",
       "      <td>15.00</td>\n",
       "      <td>14704.0</td>\n",
       "      <td>United Kingdom</td>\n",
       "      <td>False</td>\n",
       "    </tr>\n",
       "    <tr>\n",
       "      <th>534008</th>\n",
       "      <td>581127</td>\n",
       "      <td>BANK CHARGES</td>\n",
       "      <td>Bank Charges</td>\n",
       "      <td>1</td>\n",
       "      <td>12/7/2011 12:45</td>\n",
       "      <td>15.00</td>\n",
       "      <td>16271.0</td>\n",
       "      <td>United Kingdom</td>\n",
       "      <td>False</td>\n",
       "    </tr>\n",
       "    <tr>\n",
       "      <th>536047</th>\n",
       "      <td>581217</td>\n",
       "      <td>gift_0001_10</td>\n",
       "      <td>Dotcomgiftshop Gift Voucher £10.00</td>\n",
       "      <td>1</td>\n",
       "      <td>12/8/2011 9:20</td>\n",
       "      <td>8.33</td>\n",
       "      <td>NaN</td>\n",
       "      <td>United Kingdom</td>\n",
       "      <td>False</td>\n",
       "    </tr>\n",
       "  </tbody>\n",
       "</table>\n",
       "<p>71 rows × 9 columns</p>\n",
       "</div>"
      ],
      "text/plain": [
       "       InvoiceNo     StockCode                         Description  Quantity       InvoiceDate  UnitPrice  CustomerID         Country  isRefund\n",
       "4406      536779  BANK CHARGES                        Bank Charges         1   12/2/2010 15:08      15.00     15823.0  United Kingdom     False\n",
       "14435    C537572  BANK CHARGES                        Bank Charges        -1   12/7/2010 12:00      95.38         NaN  United Kingdom      True\n",
       "28992    C538680  BANK CHARGES                        Bank Charges        -1  12/13/2010 17:10     966.92         NaN  United Kingdom      True\n",
       "38248     539492  gift_0001_40  Dotcomgiftshop Gift Voucher £40.00         1  12/20/2010 10:14      34.04         NaN  United Kingdom     False\n",
       "42057     539958  gift_0001_50  Dotcomgiftshop Gift Voucher £50.00         1  12/23/2010 13:26      42.55         NaN  United Kingdom     False\n",
       "...          ...           ...                                 ...       ...               ...        ...         ...             ...       ...\n",
       "481152   C577342  BANK CHARGES                        Bank Charges        -1  11/18/2011 15:11     490.06         NaN  United Kingdom      True\n",
       "481153   C577343  BANK CHARGES                        Bank Charges        -1  11/18/2011 15:13      27.21         NaN  United Kingdom      True\n",
       "506357    579137  BANK CHARGES                        Bank Charges         1  11/28/2011 12:51      15.00     14704.0  United Kingdom     False\n",
       "534008    581127  BANK CHARGES                        Bank Charges         1   12/7/2011 12:45      15.00     16271.0  United Kingdom     False\n",
       "536047    581217  gift_0001_10  Dotcomgiftshop Gift Voucher £10.00         1    12/8/2011 9:20       8.33         NaN  United Kingdom     False\n",
       "\n",
       "[71 rows x 9 columns]"
      ]
     },
     "execution_count": 18,
     "metadata": {},
     "output_type": "execute_result"
    }
   ],
   "source": [
    "isAlnumStockCode = data['StockCode'].apply(lambda s: s.isalnum()).all()\n",
    "nonAlnum = data[~data['StockCode'].apply(str.isalnum)]\n",
    "nonAlnum"
   ]
  },
  {
   "cell_type": "markdown",
   "metadata": {},
   "source": [
    "Czy są kody zawierające tylko litery / liczby / znaki specjalne?\n",
    "Są kody zwierajace tylko liczby, sa kody zwierajace tylko tez literyi, nie ma stock code zlozonych tylkoze znakow specjalnych\n",
    "Czy są StockCode o nietypowych nazwach?\n",
    "Tak są, typu post,dot"
   ]
  },
  {
   "cell_type": "code",
   "execution_count": 19,
   "metadata": {},
   "outputs": [
    {
     "data": {
      "text/plain": [
       "np.True_"
      ]
     },
     "execution_count": 19,
     "metadata": {},
     "output_type": "execute_result"
    }
   ],
   "source": [
    "isOnlyLetters = data['StockCode'].apply(lambda s: s.isalpha()).any()\n",
    "isOnlyLetters"
   ]
  },
  {
   "cell_type": "code",
   "execution_count": 20,
   "metadata": {},
   "outputs": [
    {
     "data": {
      "text/plain": [
       "45        POST\n",
       "141          D\n",
       "386       POST\n",
       "1123      POST\n",
       "1814       DOT\n",
       "          ... \n",
       "541540     DOT\n",
       "541541       M\n",
       "541730    POST\n",
       "541767    POST\n",
       "541768    POST\n",
       "Name: StockCode, Length: 2759, dtype: string"
      ]
     },
     "execution_count": 20,
     "metadata": {},
     "output_type": "execute_result"
    }
   ],
   "source": [
    "isOnlyLettersCheck = data['StockCode'].apply(lambda s: s.isalpha())\n",
    "isOnlyLettersCheckTrueIndices = isOnlyLettersCheck[isOnlyLettersCheck == True].index\n",
    "isOnlyLettersCheckRows = data.loc[isOnlyLettersCheckTrueIndices,'StockCode']\n",
    "isOnlyLettersCheckRows"
   ]
  },
  {
   "cell_type": "code",
   "execution_count": 21,
   "metadata": {},
   "outputs": [
    {
     "data": {
      "text/plain": [
       "0         False\n",
       "1         False\n",
       "2         False\n",
       "3         False\n",
       "4         False\n",
       "          ...  \n",
       "541904    False\n",
       "541905    False\n",
       "541906    False\n",
       "541907    False\n",
       "541908    False\n",
       "Name: StockCode, Length: 541909, dtype: bool"
      ]
     },
     "execution_count": 21,
     "metadata": {},
     "output_type": "execute_result"
    }
   ],
   "source": [
    "isOnlySpecial = data['StockCode'].apply(lambda s: all((not c.isalnum() for c in str(s))))\n",
    "isOnlySpecial"
   ]
  },
  {
   "cell_type": "code",
   "execution_count": 22,
   "metadata": {},
   "outputs": [
    {
     "data": {
      "text/plain": [
       "Series([], Name: StockCode, dtype: string)"
      ]
     },
     "execution_count": 22,
     "metadata": {},
     "output_type": "execute_result"
    }
   ],
   "source": [
    "isOnlySpecial = data['StockCode'].apply(lambda s:  all((not c.isalnum() for c in str(s))))\n",
    "isOnlySpecialTrueIndices = isOnlySpecial[isOnlySpecial == True].index\n",
    "isOnlySpecialCheckRows = data.loc[isOnlySpecialTrueIndices,'StockCode']\n",
    "isOnlySpecialCheckRows"
   ]
  },
  {
   "cell_type": "markdown",
   "metadata": {},
   "source": [
    "sprawdzam ilość unikalnych kodów\n",
    "4070 unikalnych kodów"
   ]
  },
  {
   "cell_type": "code",
   "execution_count": 23,
   "metadata": {},
   "outputs": [
    {
     "data": {
      "text/plain": [
       "4070"
      ]
     },
     "execution_count": 23,
     "metadata": {},
     "output_type": "execute_result"
    }
   ],
   "source": [
    "nUniqueStockCode = data['StockCode'].nunique()\n",
    "nUniqueStockCode"
   ]
  },
  {
   "cell_type": "markdown",
   "metadata": {},
   "source": [
    "Czy niektóre kody występują wyjątkowo często?\n",
    "są co wyczestupa czesto, ale nie wyjatkowo czesto\n",
    "Czy są StockCode, które występują tylko raz w całym zbiorze?Czy sa podejrzane\n",
    "tak są, ne sa podejrzane."
   ]
  },
  {
   "cell_type": "code",
   "execution_count": 24,
   "metadata": {},
   "outputs": [
    {
     "data": {
      "text/plain": [
       "StockCode\n",
       "85123A    2313\n",
       "22423     2203\n",
       "85099B    2159\n",
       "47566     1727\n",
       "20725     1639\n",
       "          ... \n",
       "23664        1\n",
       "23617        1\n",
       "90214U       1\n",
       "47591b       1\n",
       "23602        1\n",
       "Name: count, Length: 4070, dtype: Int64"
      ]
     },
     "execution_count": 24,
     "metadata": {},
     "output_type": "execute_result"
    }
   ],
   "source": [
    "stockCodeValueCounts = data['StockCode'].value_counts().sort_values(ascending=False)\n",
    "stockCodeValueCounts"
   ]
  },
  {
   "cell_type": "markdown",
   "metadata": {},
   "source": [
    "Czy jeden StockCode może mieć więcej niż jeden Description?\n",
    "Tak kod moze miec wiecej desciprtion, opisy roznia sie kolorem lub szykiem zdania opisu"
   ]
  },
  {
   "cell_type": "code",
   "execution_count": 25,
   "metadata": {},
   "outputs": [
    {
     "data": {
      "text/plain": [
       "StockCode\n",
       "20713     8\n",
       "23084     7\n",
       "85175     6\n",
       "21830     6\n",
       "21181     5\n",
       "         ..\n",
       "20738     0\n",
       "20689     0\n",
       "17011A    0\n",
       "16053     0\n",
       "10123G    0\n",
       "Name: Description, Length: 4070, dtype: int64"
      ]
     },
     "execution_count": 25,
     "metadata": {},
     "output_type": "execute_result"
    }
   ],
   "source": [
    "stockCodeAndDescription = data.groupby('StockCode')['Description'].nunique().sort_values(ascending=False)\n",
    "stockCodeAndDescription"
   ]
  },
  {
   "cell_type": "code",
   "execution_count": 26,
   "metadata": {},
   "outputs": [
    {
     "data": {
      "text/html": [
       "<div>\n",
       "<style scoped>\n",
       "    .dataframe tbody tr th:only-of-type {\n",
       "        vertical-align: middle;\n",
       "    }\n",
       "\n",
       "    .dataframe tbody tr th {\n",
       "        vertical-align: top;\n",
       "    }\n",
       "\n",
       "    .dataframe thead th {\n",
       "        text-align: right;\n",
       "    }\n",
       "</style>\n",
       "<table border=\"1\" class=\"dataframe\">\n",
       "  <thead>\n",
       "    <tr style=\"text-align: right;\">\n",
       "      <th></th>\n",
       "      <th>InvoiceNo</th>\n",
       "      <th>StockCode</th>\n",
       "      <th>Description</th>\n",
       "      <th>Quantity</th>\n",
       "      <th>InvoiceDate</th>\n",
       "      <th>UnitPrice</th>\n",
       "      <th>CustomerID</th>\n",
       "      <th>Country</th>\n",
       "      <th>isRefund</th>\n",
       "    </tr>\n",
       "  </thead>\n",
       "  <tbody>\n",
       "    <tr>\n",
       "      <th>371806</th>\n",
       "      <td>569227</td>\n",
       "      <td>23535</td>\n",
       "      <td>BICYCLE SAFTEY WALL ART</td>\n",
       "      <td>4</td>\n",
       "      <td>10/2/2011 14:37</td>\n",
       "      <td>5.95</td>\n",
       "      <td>14051.0</td>\n",
       "      <td>United Kingdom</td>\n",
       "      <td>False</td>\n",
       "    </tr>\n",
       "    <tr>\n",
       "      <th>373008</th>\n",
       "      <td>569255</td>\n",
       "      <td>23535</td>\n",
       "      <td>BICYCLE SAFTEY WALL ART</td>\n",
       "      <td>72</td>\n",
       "      <td>10/3/2011 11:01</td>\n",
       "      <td>3.88</td>\n",
       "      <td>18102.0</td>\n",
       "      <td>United Kingdom</td>\n",
       "      <td>False</td>\n",
       "    </tr>\n",
       "    <tr>\n",
       "      <th>373020</th>\n",
       "      <td>569257</td>\n",
       "      <td>23535</td>\n",
       "      <td>BICYCLE SAFTEY WALL ART</td>\n",
       "      <td>36</td>\n",
       "      <td>10/3/2011 11:24</td>\n",
       "      <td>3.88</td>\n",
       "      <td>18102.0</td>\n",
       "      <td>United Kingdom</td>\n",
       "      <td>False</td>\n",
       "    </tr>\n",
       "    <tr>\n",
       "      <th>373102</th>\n",
       "      <td>569261</td>\n",
       "      <td>23535</td>\n",
       "      <td>BICYCLE SAFTEY WALL ART</td>\n",
       "      <td>2</td>\n",
       "      <td>10/3/2011 11:34</td>\n",
       "      <td>5.95</td>\n",
       "      <td>17321.0</td>\n",
       "      <td>United Kingdom</td>\n",
       "      <td>False</td>\n",
       "    </tr>\n",
       "    <tr>\n",
       "      <th>373582</th>\n",
       "      <td>569333</td>\n",
       "      <td>23535</td>\n",
       "      <td>BICYCLE SAFTEY WALL ART</td>\n",
       "      <td>4</td>\n",
       "      <td>10/3/2011 13:49</td>\n",
       "      <td>5.95</td>\n",
       "      <td>13431.0</td>\n",
       "      <td>United Kingdom</td>\n",
       "      <td>False</td>\n",
       "    </tr>\n",
       "    <tr>\n",
       "      <th>...</th>\n",
       "      <td>...</td>\n",
       "      <td>...</td>\n",
       "      <td>...</td>\n",
       "      <td>...</td>\n",
       "      <td>...</td>\n",
       "      <td>...</td>\n",
       "      <td>...</td>\n",
       "      <td>...</td>\n",
       "      <td>...</td>\n",
       "    </tr>\n",
       "    <tr>\n",
       "      <th>538719</th>\n",
       "      <td>581413</td>\n",
       "      <td>23535</td>\n",
       "      <td>WALL ART BICYCLE SAFETY</td>\n",
       "      <td>4</td>\n",
       "      <td>12/8/2011 14:39</td>\n",
       "      <td>5.95</td>\n",
       "      <td>16833.0</td>\n",
       "      <td>United Kingdom</td>\n",
       "      <td>False</td>\n",
       "    </tr>\n",
       "    <tr>\n",
       "      <th>539264</th>\n",
       "      <td>581439</td>\n",
       "      <td>23535</td>\n",
       "      <td>WALL ART BICYCLE SAFETY</td>\n",
       "      <td>4</td>\n",
       "      <td>12/8/2011 16:30</td>\n",
       "      <td>12.46</td>\n",
       "      <td>NaN</td>\n",
       "      <td>United Kingdom</td>\n",
       "      <td>False</td>\n",
       "    </tr>\n",
       "    <tr>\n",
       "      <th>540066</th>\n",
       "      <td>581457</td>\n",
       "      <td>23535</td>\n",
       "      <td>WALL ART BICYCLE SAFETY</td>\n",
       "      <td>126</td>\n",
       "      <td>12/8/2011 18:43</td>\n",
       "      <td>3.90</td>\n",
       "      <td>18102.0</td>\n",
       "      <td>United Kingdom</td>\n",
       "      <td>False</td>\n",
       "    </tr>\n",
       "    <tr>\n",
       "      <th>540490</th>\n",
       "      <td>581492</td>\n",
       "      <td>23535</td>\n",
       "      <td>WALL ART BICYCLE SAFETY</td>\n",
       "      <td>4</td>\n",
       "      <td>12/9/2011 10:03</td>\n",
       "      <td>12.46</td>\n",
       "      <td>NaN</td>\n",
       "      <td>United Kingdom</td>\n",
       "      <td>False</td>\n",
       "    </tr>\n",
       "    <tr>\n",
       "      <th>541217</th>\n",
       "      <td>581495</td>\n",
       "      <td>23535</td>\n",
       "      <td>WALL ART BICYCLE SAFETY</td>\n",
       "      <td>12</td>\n",
       "      <td>12/9/2011 10:20</td>\n",
       "      <td>5.95</td>\n",
       "      <td>14051.0</td>\n",
       "      <td>United Kingdom</td>\n",
       "      <td>False</td>\n",
       "    </tr>\n",
       "  </tbody>\n",
       "</table>\n",
       "<p>221 rows × 9 columns</p>\n",
       "</div>"
      ],
      "text/plain": [
       "       InvoiceNo StockCode              Description  Quantity      InvoiceDate  UnitPrice  CustomerID         Country  isRefund\n",
       "371806    569227     23535  BICYCLE SAFTEY WALL ART         4  10/2/2011 14:37       5.95     14051.0  United Kingdom     False\n",
       "373008    569255     23535  BICYCLE SAFTEY WALL ART        72  10/3/2011 11:01       3.88     18102.0  United Kingdom     False\n",
       "373020    569257     23535  BICYCLE SAFTEY WALL ART        36  10/3/2011 11:24       3.88     18102.0  United Kingdom     False\n",
       "373102    569261     23535  BICYCLE SAFTEY WALL ART         2  10/3/2011 11:34       5.95     17321.0  United Kingdom     False\n",
       "373582    569333     23535  BICYCLE SAFTEY WALL ART         4  10/3/2011 13:49       5.95     13431.0  United Kingdom     False\n",
       "...          ...       ...                      ...       ...              ...        ...         ...             ...       ...\n",
       "538719    581413     23535  WALL ART BICYCLE SAFETY         4  12/8/2011 14:39       5.95     16833.0  United Kingdom     False\n",
       "539264    581439     23535  WALL ART BICYCLE SAFETY         4  12/8/2011 16:30      12.46         NaN  United Kingdom     False\n",
       "540066    581457     23535  WALL ART BICYCLE SAFETY       126  12/8/2011 18:43       3.90     18102.0  United Kingdom     False\n",
       "540490    581492     23535  WALL ART BICYCLE SAFETY         4  12/9/2011 10:03      12.46         NaN  United Kingdom     False\n",
       "541217    581495     23535  WALL ART BICYCLE SAFETY        12  12/9/2011 10:20       5.95     14051.0  United Kingdom     False\n",
       "\n",
       "[221 rows x 9 columns]"
      ]
     },
     "execution_count": 26,
     "metadata": {},
     "output_type": "execute_result"
    }
   ],
   "source": [
    "moreThanThreeDescCodes = stockCodeAndDescription[stockCodeAndDescription > 2].index\n",
    "filteredThanThreeDescCodes = data[data['StockCode'].isin(moreThanThreeDescCodes)]\n",
    "filteredThanThreeDescCodes\n",
    "StockCode23535 = filteredThanThreeDescCodes[filteredThanThreeDescCodes['StockCode'] == '23535']\n",
    "StockCode23535"
   ]
  },
  {
   "cell_type": "markdown",
   "metadata": {},
   "source": [
    "1C. Decsription\n",
    "czy są nany?\n",
    "jest 1451 nanow, nie uznaje tego za bład, niektore produkty moga nie miec opisu bo są np. dopiero dodawane"
   ]
  },
  {
   "cell_type": "code",
   "execution_count": 27,
   "metadata": {},
   "outputs": [
    {
     "data": {
      "text/plain": [
       "np.int64(1454)"
      ]
     },
     "execution_count": 27,
     "metadata": {},
     "output_type": "execute_result"
    }
   ],
   "source": [
    "isNansDecsription = data['Description'].isna().sum()\n",
    "isNansDecsription"
   ]
  },
  {
   "cell_type": "markdown",
   "metadata": {},
   "source": [
    "sprawdzam ilość unikalnych opisów\n",
    "4223 unikalnych opisów na 4070 unikalnych kodów oznacza to jeden kod moze byc przypisany do np roznych kolorow danego produktu"
   ]
  },
  {
   "cell_type": "code",
   "execution_count": 28,
   "metadata": {},
   "outputs": [
    {
     "data": {
      "text/plain": [
       "4223"
      ]
     },
     "execution_count": 28,
     "metadata": {},
     "output_type": "execute_result"
    }
   ],
   "source": [
    "nUniqueDescription = data['Description'].nunique()\n",
    "nUniqueDescription"
   ]
  },
  {
   "cell_type": "markdown",
   "metadata": {},
   "source": [
    "1D. Quantity\n",
    "Czy są nany?\n",
    "nie ma nanów"
   ]
  },
  {
   "cell_type": "code",
   "execution_count": 29,
   "metadata": {},
   "outputs": [
    {
     "data": {
      "text/plain": [
       "np.int64(0)"
      ]
     },
     "execution_count": 29,
     "metadata": {},
     "output_type": "execute_result"
    }
   ],
   "source": [
    "isNansQuantity = data['Quantity'].isna().sum()\n",
    "isNansQuantity"
   ]
  },
  {
   "cell_type": "markdown",
   "metadata": {},
   "source": [
    "Czy są wartości ujemne?\n",
    "tak są i dla zwyklych prodotkow, oznaczaja one po description ze są to np straty produktow typu popsute, i sa negatywne dla zwrotow discount"
   ]
  },
  {
   "cell_type": "code",
   "execution_count": 30,
   "metadata": {},
   "outputs": [
    {
     "data": {
      "text/html": [
       "<div>\n",
       "<style scoped>\n",
       "    .dataframe tbody tr th:only-of-type {\n",
       "        vertical-align: middle;\n",
       "    }\n",
       "\n",
       "    .dataframe tbody tr th {\n",
       "        vertical-align: top;\n",
       "    }\n",
       "\n",
       "    .dataframe thead th {\n",
       "        text-align: right;\n",
       "    }\n",
       "</style>\n",
       "<table border=\"1\" class=\"dataframe\">\n",
       "  <thead>\n",
       "    <tr style=\"text-align: right;\">\n",
       "      <th></th>\n",
       "      <th>InvoiceNo</th>\n",
       "      <th>StockCode</th>\n",
       "      <th>Description</th>\n",
       "      <th>Quantity</th>\n",
       "      <th>InvoiceDate</th>\n",
       "      <th>UnitPrice</th>\n",
       "      <th>CustomerID</th>\n",
       "      <th>Country</th>\n",
       "      <th>isRefund</th>\n",
       "    </tr>\n",
       "  </thead>\n",
       "  <tbody>\n",
       "    <tr>\n",
       "      <th>141</th>\n",
       "      <td>C536379</td>\n",
       "      <td>D</td>\n",
       "      <td>Discount</td>\n",
       "      <td>-1</td>\n",
       "      <td>12/1/2010 9:41</td>\n",
       "      <td>27.50</td>\n",
       "      <td>14527.0</td>\n",
       "      <td>United Kingdom</td>\n",
       "      <td>True</td>\n",
       "    </tr>\n",
       "    <tr>\n",
       "      <th>154</th>\n",
       "      <td>C536383</td>\n",
       "      <td>35004C</td>\n",
       "      <td>SET OF 3 COLOURED  FLYING DUCKS</td>\n",
       "      <td>-1</td>\n",
       "      <td>12/1/2010 9:49</td>\n",
       "      <td>4.65</td>\n",
       "      <td>15311.0</td>\n",
       "      <td>United Kingdom</td>\n",
       "      <td>True</td>\n",
       "    </tr>\n",
       "    <tr>\n",
       "      <th>235</th>\n",
       "      <td>C536391</td>\n",
       "      <td>22556</td>\n",
       "      <td>PLASTERS IN TIN CIRCUS PARADE</td>\n",
       "      <td>-12</td>\n",
       "      <td>12/1/2010 10:24</td>\n",
       "      <td>1.65</td>\n",
       "      <td>17548.0</td>\n",
       "      <td>United Kingdom</td>\n",
       "      <td>True</td>\n",
       "    </tr>\n",
       "    <tr>\n",
       "      <th>236</th>\n",
       "      <td>C536391</td>\n",
       "      <td>21984</td>\n",
       "      <td>PACK OF 12 PINK PAISLEY TISSUES</td>\n",
       "      <td>-24</td>\n",
       "      <td>12/1/2010 10:24</td>\n",
       "      <td>0.29</td>\n",
       "      <td>17548.0</td>\n",
       "      <td>United Kingdom</td>\n",
       "      <td>True</td>\n",
       "    </tr>\n",
       "    <tr>\n",
       "      <th>237</th>\n",
       "      <td>C536391</td>\n",
       "      <td>21983</td>\n",
       "      <td>PACK OF 12 BLUE PAISLEY TISSUES</td>\n",
       "      <td>-24</td>\n",
       "      <td>12/1/2010 10:24</td>\n",
       "      <td>0.29</td>\n",
       "      <td>17548.0</td>\n",
       "      <td>United Kingdom</td>\n",
       "      <td>True</td>\n",
       "    </tr>\n",
       "    <tr>\n",
       "      <th>...</th>\n",
       "      <td>...</td>\n",
       "      <td>...</td>\n",
       "      <td>...</td>\n",
       "      <td>...</td>\n",
       "      <td>...</td>\n",
       "      <td>...</td>\n",
       "      <td>...</td>\n",
       "      <td>...</td>\n",
       "      <td>...</td>\n",
       "    </tr>\n",
       "    <tr>\n",
       "      <th>540449</th>\n",
       "      <td>C581490</td>\n",
       "      <td>23144</td>\n",
       "      <td>ZINC T-LIGHT HOLDER STARS SMALL</td>\n",
       "      <td>-11</td>\n",
       "      <td>12/9/2011 9:57</td>\n",
       "      <td>0.83</td>\n",
       "      <td>14397.0</td>\n",
       "      <td>United Kingdom</td>\n",
       "      <td>True</td>\n",
       "    </tr>\n",
       "    <tr>\n",
       "      <th>541541</th>\n",
       "      <td>C581499</td>\n",
       "      <td>M</td>\n",
       "      <td>Manual</td>\n",
       "      <td>-1</td>\n",
       "      <td>12/9/2011 10:28</td>\n",
       "      <td>224.69</td>\n",
       "      <td>15498.0</td>\n",
       "      <td>United Kingdom</td>\n",
       "      <td>True</td>\n",
       "    </tr>\n",
       "    <tr>\n",
       "      <th>541715</th>\n",
       "      <td>C581568</td>\n",
       "      <td>21258</td>\n",
       "      <td>VICTORIAN SEWING BOX LARGE</td>\n",
       "      <td>-5</td>\n",
       "      <td>12/9/2011 11:57</td>\n",
       "      <td>10.95</td>\n",
       "      <td>15311.0</td>\n",
       "      <td>United Kingdom</td>\n",
       "      <td>True</td>\n",
       "    </tr>\n",
       "    <tr>\n",
       "      <th>541716</th>\n",
       "      <td>C581569</td>\n",
       "      <td>84978</td>\n",
       "      <td>HANGING HEART JAR T-LIGHT HOLDER</td>\n",
       "      <td>-1</td>\n",
       "      <td>12/9/2011 11:58</td>\n",
       "      <td>1.25</td>\n",
       "      <td>17315.0</td>\n",
       "      <td>United Kingdom</td>\n",
       "      <td>True</td>\n",
       "    </tr>\n",
       "    <tr>\n",
       "      <th>541717</th>\n",
       "      <td>C581569</td>\n",
       "      <td>20979</td>\n",
       "      <td>36 PENCILS TUBE RED RETROSPOT</td>\n",
       "      <td>-5</td>\n",
       "      <td>12/9/2011 11:58</td>\n",
       "      <td>1.25</td>\n",
       "      <td>17315.0</td>\n",
       "      <td>United Kingdom</td>\n",
       "      <td>True</td>\n",
       "    </tr>\n",
       "  </tbody>\n",
       "</table>\n",
       "<p>10624 rows × 9 columns</p>\n",
       "</div>"
      ],
      "text/plain": [
       "       InvoiceNo StockCode                       Description  Quantity      InvoiceDate  UnitPrice  CustomerID         Country  isRefund\n",
       "141      C536379         D                          Discount        -1   12/1/2010 9:41      27.50     14527.0  United Kingdom      True\n",
       "154      C536383    35004C   SET OF 3 COLOURED  FLYING DUCKS        -1   12/1/2010 9:49       4.65     15311.0  United Kingdom      True\n",
       "235      C536391     22556    PLASTERS IN TIN CIRCUS PARADE        -12  12/1/2010 10:24       1.65     17548.0  United Kingdom      True\n",
       "236      C536391     21984  PACK OF 12 PINK PAISLEY TISSUES        -24  12/1/2010 10:24       0.29     17548.0  United Kingdom      True\n",
       "237      C536391     21983  PACK OF 12 BLUE PAISLEY TISSUES        -24  12/1/2010 10:24       0.29     17548.0  United Kingdom      True\n",
       "...          ...       ...                               ...       ...              ...        ...         ...             ...       ...\n",
       "540449   C581490     23144   ZINC T-LIGHT HOLDER STARS SMALL       -11   12/9/2011 9:57       0.83     14397.0  United Kingdom      True\n",
       "541541   C581499         M                            Manual        -1  12/9/2011 10:28     224.69     15498.0  United Kingdom      True\n",
       "541715   C581568     21258        VICTORIAN SEWING BOX LARGE        -5  12/9/2011 11:57      10.95     15311.0  United Kingdom      True\n",
       "541716   C581569     84978  HANGING HEART JAR T-LIGHT HOLDER        -1  12/9/2011 11:58       1.25     17315.0  United Kingdom      True\n",
       "541717   C581569     20979     36 PENCILS TUBE RED RETROSPOT        -5  12/9/2011 11:58       1.25     17315.0  United Kingdom      True\n",
       "\n",
       "[10624 rows x 9 columns]"
      ]
     },
     "execution_count": 30,
     "metadata": {},
     "output_type": "execute_result"
    }
   ],
   "source": [
    "isNegativeQuantity = data[data['Quantity'] < 0]\n",
    "isNegativeQuantity\n"
   ]
  },
  {
   "cell_type": "code",
   "execution_count": 31,
   "metadata": {},
   "outputs": [
    {
     "data": {
      "text/html": [
       "<div>\n",
       "<style scoped>\n",
       "    .dataframe tbody tr th:only-of-type {\n",
       "        vertical-align: middle;\n",
       "    }\n",
       "\n",
       "    .dataframe tbody tr th {\n",
       "        vertical-align: top;\n",
       "    }\n",
       "\n",
       "    .dataframe thead th {\n",
       "        text-align: right;\n",
       "    }\n",
       "</style>\n",
       "<table border=\"1\" class=\"dataframe\">\n",
       "  <thead>\n",
       "    <tr style=\"text-align: right;\">\n",
       "      <th></th>\n",
       "      <th>InvoiceNo</th>\n",
       "      <th>StockCode</th>\n",
       "      <th>Description</th>\n",
       "      <th>Quantity</th>\n",
       "      <th>InvoiceDate</th>\n",
       "      <th>UnitPrice</th>\n",
       "      <th>CustomerID</th>\n",
       "      <th>Country</th>\n",
       "      <th>isRefund</th>\n",
       "    </tr>\n",
       "  </thead>\n",
       "  <tbody>\n",
       "    <tr>\n",
       "      <th>2406</th>\n",
       "      <td>536589</td>\n",
       "      <td>21777</td>\n",
       "      <td>NaN</td>\n",
       "      <td>-10</td>\n",
       "      <td>12/1/2010 16:50</td>\n",
       "      <td>0.0</td>\n",
       "      <td>NaN</td>\n",
       "      <td>United Kingdom</td>\n",
       "      <td>False</td>\n",
       "    </tr>\n",
       "    <tr>\n",
       "      <th>4347</th>\n",
       "      <td>536764</td>\n",
       "      <td>84952C</td>\n",
       "      <td>NaN</td>\n",
       "      <td>-38</td>\n",
       "      <td>12/2/2010 14:42</td>\n",
       "      <td>0.0</td>\n",
       "      <td>NaN</td>\n",
       "      <td>United Kingdom</td>\n",
       "      <td>False</td>\n",
       "    </tr>\n",
       "    <tr>\n",
       "      <th>7188</th>\n",
       "      <td>536996</td>\n",
       "      <td>22712</td>\n",
       "      <td>NaN</td>\n",
       "      <td>-20</td>\n",
       "      <td>12/3/2010 15:30</td>\n",
       "      <td>0.0</td>\n",
       "      <td>NaN</td>\n",
       "      <td>United Kingdom</td>\n",
       "      <td>False</td>\n",
       "    </tr>\n",
       "    <tr>\n",
       "      <th>7189</th>\n",
       "      <td>536997</td>\n",
       "      <td>22028</td>\n",
       "      <td>NaN</td>\n",
       "      <td>-20</td>\n",
       "      <td>12/3/2010 15:30</td>\n",
       "      <td>0.0</td>\n",
       "      <td>NaN</td>\n",
       "      <td>United Kingdom</td>\n",
       "      <td>False</td>\n",
       "    </tr>\n",
       "    <tr>\n",
       "      <th>7190</th>\n",
       "      <td>536998</td>\n",
       "      <td>85067</td>\n",
       "      <td>NaN</td>\n",
       "      <td>-6</td>\n",
       "      <td>12/3/2010 15:30</td>\n",
       "      <td>0.0</td>\n",
       "      <td>NaN</td>\n",
       "      <td>United Kingdom</td>\n",
       "      <td>False</td>\n",
       "    </tr>\n",
       "    <tr>\n",
       "      <th>...</th>\n",
       "      <td>...</td>\n",
       "      <td>...</td>\n",
       "      <td>...</td>\n",
       "      <td>...</td>\n",
       "      <td>...</td>\n",
       "      <td>...</td>\n",
       "      <td>...</td>\n",
       "      <td>...</td>\n",
       "      <td>...</td>\n",
       "    </tr>\n",
       "    <tr>\n",
       "      <th>535333</th>\n",
       "      <td>581210</td>\n",
       "      <td>23395</td>\n",
       "      <td>check</td>\n",
       "      <td>-26</td>\n",
       "      <td>12/7/2011 18:36</td>\n",
       "      <td>0.0</td>\n",
       "      <td>NaN</td>\n",
       "      <td>United Kingdom</td>\n",
       "      <td>False</td>\n",
       "    </tr>\n",
       "    <tr>\n",
       "      <th>535335</th>\n",
       "      <td>581212</td>\n",
       "      <td>22578</td>\n",
       "      <td>lost</td>\n",
       "      <td>-1050</td>\n",
       "      <td>12/7/2011 18:38</td>\n",
       "      <td>0.0</td>\n",
       "      <td>NaN</td>\n",
       "      <td>United Kingdom</td>\n",
       "      <td>False</td>\n",
       "    </tr>\n",
       "    <tr>\n",
       "      <th>535336</th>\n",
       "      <td>581213</td>\n",
       "      <td>22576</td>\n",
       "      <td>check</td>\n",
       "      <td>-30</td>\n",
       "      <td>12/7/2011 18:38</td>\n",
       "      <td>0.0</td>\n",
       "      <td>NaN</td>\n",
       "      <td>United Kingdom</td>\n",
       "      <td>False</td>\n",
       "    </tr>\n",
       "    <tr>\n",
       "      <th>536908</th>\n",
       "      <td>581226</td>\n",
       "      <td>23090</td>\n",
       "      <td>missing</td>\n",
       "      <td>-338</td>\n",
       "      <td>12/8/2011 9:56</td>\n",
       "      <td>0.0</td>\n",
       "      <td>NaN</td>\n",
       "      <td>United Kingdom</td>\n",
       "      <td>False</td>\n",
       "    </tr>\n",
       "    <tr>\n",
       "      <th>538919</th>\n",
       "      <td>581422</td>\n",
       "      <td>23169</td>\n",
       "      <td>smashed</td>\n",
       "      <td>-235</td>\n",
       "      <td>12/8/2011 15:24</td>\n",
       "      <td>0.0</td>\n",
       "      <td>NaN</td>\n",
       "      <td>United Kingdom</td>\n",
       "      <td>False</td>\n",
       "    </tr>\n",
       "  </tbody>\n",
       "</table>\n",
       "<p>1336 rows × 9 columns</p>\n",
       "</div>"
      ],
      "text/plain": [
       "       InvoiceNo StockCode Description  Quantity      InvoiceDate  UnitPrice  CustomerID         Country  isRefund\n",
       "2406      536589     21777         NaN       -10  12/1/2010 16:50        0.0         NaN  United Kingdom     False\n",
       "4347      536764    84952C         NaN       -38  12/2/2010 14:42        0.0         NaN  United Kingdom     False\n",
       "7188      536996     22712         NaN       -20  12/3/2010 15:30        0.0         NaN  United Kingdom     False\n",
       "7189      536997     22028         NaN       -20  12/3/2010 15:30        0.0         NaN  United Kingdom     False\n",
       "7190      536998     85067         NaN        -6  12/3/2010 15:30        0.0         NaN  United Kingdom     False\n",
       "...          ...       ...         ...       ...              ...        ...         ...             ...       ...\n",
       "535333    581210     23395       check       -26  12/7/2011 18:36        0.0         NaN  United Kingdom     False\n",
       "535335    581212     22578        lost     -1050  12/7/2011 18:38        0.0         NaN  United Kingdom     False\n",
       "535336    581213     22576       check       -30  12/7/2011 18:38        0.0         NaN  United Kingdom     False\n",
       "536908    581226     23090     missing      -338   12/8/2011 9:56        0.0         NaN  United Kingdom     False\n",
       "538919    581422     23169     smashed      -235  12/8/2011 15:24        0.0         NaN  United Kingdom     False\n",
       "\n",
       "[1336 rows x 9 columns]"
      ]
     },
     "execution_count": 31,
     "metadata": {},
     "output_type": "execute_result"
    }
   ],
   "source": [
    "isNegativeQuantityWithoutC = isNegativeQuantity[isNegativeQuantity['InvoiceNo'].str[0] != 'C']\n",
    "isNegativeQuantityWithoutC"
   ]
  },
  {
   "cell_type": "markdown",
   "metadata": {},
   "source": [
    "Czy jest quantity równe zero?\n",
    "nie ma rekordow z quantity rowny -"
   ]
  },
  {
   "cell_type": "code",
   "execution_count": 32,
   "metadata": {},
   "outputs": [
    {
     "data": {
      "text/html": [
       "<div>\n",
       "<style scoped>\n",
       "    .dataframe tbody tr th:only-of-type {\n",
       "        vertical-align: middle;\n",
       "    }\n",
       "\n",
       "    .dataframe tbody tr th {\n",
       "        vertical-align: top;\n",
       "    }\n",
       "\n",
       "    .dataframe thead th {\n",
       "        text-align: right;\n",
       "    }\n",
       "</style>\n",
       "<table border=\"1\" class=\"dataframe\">\n",
       "  <thead>\n",
       "    <tr style=\"text-align: right;\">\n",
       "      <th></th>\n",
       "      <th>InvoiceNo</th>\n",
       "      <th>StockCode</th>\n",
       "      <th>Description</th>\n",
       "      <th>Quantity</th>\n",
       "      <th>InvoiceDate</th>\n",
       "      <th>UnitPrice</th>\n",
       "      <th>CustomerID</th>\n",
       "      <th>Country</th>\n",
       "      <th>isRefund</th>\n",
       "    </tr>\n",
       "  </thead>\n",
       "  <tbody>\n",
       "  </tbody>\n",
       "</table>\n",
       "</div>"
      ],
      "text/plain": [
       "Empty DataFrame\n",
       "Columns: [InvoiceNo, StockCode, Description, Quantity, InvoiceDate, UnitPrice, CustomerID, Country, isRefund]\n",
       "Index: []"
      ]
     },
     "execution_count": 32,
     "metadata": {},
     "output_type": "execute_result"
    }
   ],
   "source": [
    "isZeroQuantity = data[data['Quantity'] == 0]\n",
    "isZeroQuantity"
   ]
  },
  {
   "cell_type": "markdown",
   "metadata": {},
   "source": [
    "Czy są ekstrymalnie dziwne wartosci\n",
    "Są dwie 80995 oraz 74215, tylko ze sa one nastepnie na minusie musial to byc jakis blad zamowienia."
   ]
  },
  {
   "cell_type": "code",
   "execution_count": 33,
   "metadata": {},
   "outputs": [
    {
     "data": {
      "text/plain": [
       "Quantity\n",
       " 80995    1\n",
       " 74215    1\n",
       " 12540    1\n",
       " 5568     1\n",
       " 4800     1\n",
       "         ..\n",
       "-9058     1\n",
       "-9360     1\n",
       "-9600     2\n",
       "-74215    1\n",
       "-80995    1\n",
       "Name: count, Length: 722, dtype: int64"
      ]
     },
     "execution_count": 33,
     "metadata": {},
     "output_type": "execute_result"
    }
   ],
   "source": [
    "isHighQuantity = data['Quantity'].value_counts().sort_index(ascending=False)\n",
    "isHighQuantity"
   ]
  },
  {
   "cell_type": "markdown",
   "metadata": {},
   "source": [
    "Jaka jest rozkład ilości?\n",
    "wiekszosc to sa male ilosci"
   ]
  },
  {
   "cell_type": "code",
   "execution_count": 34,
   "metadata": {},
   "outputs": [
    {
     "data": {
      "text/plain": [
       "Quantity\n",
       " 1       148227\n",
       " 2        81829\n",
       " 12       61063\n",
       " 6        40868\n",
       " 4        38484\n",
       "          ...  \n",
       "-135          1\n",
       " 1120         1\n",
       " 77           1\n",
       "-900          1\n",
       " 177          1\n",
       "Name: count, Length: 722, dtype: int64"
      ]
     },
     "execution_count": 34,
     "metadata": {},
     "output_type": "execute_result"
    }
   ],
   "source": [
    "quantityValueCounts = data['Quantity'].value_counts(ascending=False)\n",
    "quantityValueCounts"
   ]
  },
  {
   "cell_type": "markdown",
   "metadata": {},
   "source": [
    "1E.InvoiceDate"
   ]
  },
  {
   "cell_type": "markdown",
   "metadata": {},
   "source": [
    "Czy jest wlasciwy typ danych dla tej kolumny?\n",
    "nie,zmieniam typ na datetime z obiekt"
   ]
  },
  {
   "cell_type": "code",
   "execution_count": 35,
   "metadata": {},
   "outputs": [],
   "source": [
    "data['InvoiceDate'] =  data['InvoiceDate'].astype('datetime64[s]')\n",
    "\n"
   ]
  },
  {
   "cell_type": "markdown",
   "metadata": {},
   "source": [
    "Czy są nany?\n",
    "nie ma nanów"
   ]
  },
  {
   "cell_type": "code",
   "execution_count": 36,
   "metadata": {},
   "outputs": [
    {
     "data": {
      "text/plain": [
       "np.int64(0)"
      ]
     },
     "execution_count": 36,
     "metadata": {},
     "output_type": "execute_result"
    }
   ],
   "source": [
    "isNansInvoiceDate = data['InvoiceDate'].isna().sum()\n",
    "isNansInvoiceDate"
   ]
  },
  {
   "cell_type": "markdown",
   "metadata": {},
   "source": [
    " – Jaki jest najstarszy i najnowszy InvoiceDate?\n",
    "najstarszy to 2010-12-01,najnowyszy 2011-12-09\n",
    " – Czy dane obejmują cały rok, czy tylko wycinek?\n",
    "dane obejumja caly rok i 8 dni"
   ]
  },
  {
   "cell_type": "code",
   "execution_count": 37,
   "metadata": {},
   "outputs": [
    {
     "data": {
      "text/plain": [
       "[[Timestamp('2011-12-09 12:50:00'), Timestamp('2010-12-01 08:26:00')]]"
      ]
     },
     "execution_count": 37,
     "metadata": {},
     "output_type": "execute_result"
    }
   ],
   "source": [
    "invoiceDateMax = data['InvoiceDate'].max()\n",
    "invoiceDateMin = data['InvoiceDate'].min()\n",
    "listWithMinMax = list()\n",
    "listWithMinMax.append([invoiceDateMax,invoiceDateMin])\n",
    "listWithMinMax"
   ]
  },
  {
   "cell_type": "markdown",
   "metadata": {},
   "source": [
    "tworze zmienne pomocnicze czyli feature engineering"
   ]
  },
  {
   "cell_type": "code",
   "execution_count": 38,
   "metadata": {},
   "outputs": [
    {
     "data": {
      "text/html": [
       "<div>\n",
       "<style scoped>\n",
       "    .dataframe tbody tr th:only-of-type {\n",
       "        vertical-align: middle;\n",
       "    }\n",
       "\n",
       "    .dataframe tbody tr th {\n",
       "        vertical-align: top;\n",
       "    }\n",
       "\n",
       "    .dataframe thead th {\n",
       "        text-align: right;\n",
       "    }\n",
       "</style>\n",
       "<table border=\"1\" class=\"dataframe\">\n",
       "  <thead>\n",
       "    <tr style=\"text-align: right;\">\n",
       "      <th></th>\n",
       "      <th>InvoiceNo</th>\n",
       "      <th>StockCode</th>\n",
       "      <th>Description</th>\n",
       "      <th>Quantity</th>\n",
       "      <th>InvoiceDate</th>\n",
       "      <th>UnitPrice</th>\n",
       "      <th>CustomerID</th>\n",
       "      <th>Country</th>\n",
       "      <th>isRefund</th>\n",
       "      <th>InvoiceYear</th>\n",
       "      <th>InvoiceMonth</th>\n",
       "      <th>InvoiceWeekday</th>\n",
       "      <th>InvoiceWeekOfYear</th>\n",
       "      <th>IsWeekend</th>\n",
       "      <th>InvoiceHour</th>\n",
       "    </tr>\n",
       "  </thead>\n",
       "  <tbody>\n",
       "    <tr>\n",
       "      <th>0</th>\n",
       "      <td>536365</td>\n",
       "      <td>85123A</td>\n",
       "      <td>WHITE HANGING HEART T-LIGHT HOLDER</td>\n",
       "      <td>6</td>\n",
       "      <td>2010-12-01 08:26:00</td>\n",
       "      <td>2.55</td>\n",
       "      <td>17850.0</td>\n",
       "      <td>United Kingdom</td>\n",
       "      <td>False</td>\n",
       "      <td>2010</td>\n",
       "      <td>12</td>\n",
       "      <td>Wednesday</td>\n",
       "      <td>2010-48</td>\n",
       "      <td>False</td>\n",
       "      <td>8</td>\n",
       "    </tr>\n",
       "    <tr>\n",
       "      <th>1</th>\n",
       "      <td>536365</td>\n",
       "      <td>71053</td>\n",
       "      <td>WHITE METAL LANTERN</td>\n",
       "      <td>6</td>\n",
       "      <td>2010-12-01 08:26:00</td>\n",
       "      <td>3.39</td>\n",
       "      <td>17850.0</td>\n",
       "      <td>United Kingdom</td>\n",
       "      <td>False</td>\n",
       "      <td>2010</td>\n",
       "      <td>12</td>\n",
       "      <td>Wednesday</td>\n",
       "      <td>2010-48</td>\n",
       "      <td>False</td>\n",
       "      <td>8</td>\n",
       "    </tr>\n",
       "    <tr>\n",
       "      <th>2</th>\n",
       "      <td>536365</td>\n",
       "      <td>84406B</td>\n",
       "      <td>CREAM CUPID HEARTS COAT HANGER</td>\n",
       "      <td>8</td>\n",
       "      <td>2010-12-01 08:26:00</td>\n",
       "      <td>2.75</td>\n",
       "      <td>17850.0</td>\n",
       "      <td>United Kingdom</td>\n",
       "      <td>False</td>\n",
       "      <td>2010</td>\n",
       "      <td>12</td>\n",
       "      <td>Wednesday</td>\n",
       "      <td>2010-48</td>\n",
       "      <td>False</td>\n",
       "      <td>8</td>\n",
       "    </tr>\n",
       "    <tr>\n",
       "      <th>3</th>\n",
       "      <td>536365</td>\n",
       "      <td>84029G</td>\n",
       "      <td>KNITTED UNION FLAG HOT WATER BOTTLE</td>\n",
       "      <td>6</td>\n",
       "      <td>2010-12-01 08:26:00</td>\n",
       "      <td>3.39</td>\n",
       "      <td>17850.0</td>\n",
       "      <td>United Kingdom</td>\n",
       "      <td>False</td>\n",
       "      <td>2010</td>\n",
       "      <td>12</td>\n",
       "      <td>Wednesday</td>\n",
       "      <td>2010-48</td>\n",
       "      <td>False</td>\n",
       "      <td>8</td>\n",
       "    </tr>\n",
       "    <tr>\n",
       "      <th>4</th>\n",
       "      <td>536365</td>\n",
       "      <td>84029E</td>\n",
       "      <td>RED WOOLLY HOTTIE WHITE HEART.</td>\n",
       "      <td>6</td>\n",
       "      <td>2010-12-01 08:26:00</td>\n",
       "      <td>3.39</td>\n",
       "      <td>17850.0</td>\n",
       "      <td>United Kingdom</td>\n",
       "      <td>False</td>\n",
       "      <td>2010</td>\n",
       "      <td>12</td>\n",
       "      <td>Wednesday</td>\n",
       "      <td>2010-48</td>\n",
       "      <td>False</td>\n",
       "      <td>8</td>\n",
       "    </tr>\n",
       "    <tr>\n",
       "      <th>...</th>\n",
       "      <td>...</td>\n",
       "      <td>...</td>\n",
       "      <td>...</td>\n",
       "      <td>...</td>\n",
       "      <td>...</td>\n",
       "      <td>...</td>\n",
       "      <td>...</td>\n",
       "      <td>...</td>\n",
       "      <td>...</td>\n",
       "      <td>...</td>\n",
       "      <td>...</td>\n",
       "      <td>...</td>\n",
       "      <td>...</td>\n",
       "      <td>...</td>\n",
       "      <td>...</td>\n",
       "    </tr>\n",
       "    <tr>\n",
       "      <th>541904</th>\n",
       "      <td>581587</td>\n",
       "      <td>22613</td>\n",
       "      <td>PACK OF 20 SPACEBOY NAPKINS</td>\n",
       "      <td>12</td>\n",
       "      <td>2011-12-09 12:50:00</td>\n",
       "      <td>0.85</td>\n",
       "      <td>12680.0</td>\n",
       "      <td>France</td>\n",
       "      <td>False</td>\n",
       "      <td>2011</td>\n",
       "      <td>12</td>\n",
       "      <td>Friday</td>\n",
       "      <td>2011-49</td>\n",
       "      <td>True</td>\n",
       "      <td>12</td>\n",
       "    </tr>\n",
       "    <tr>\n",
       "      <th>541905</th>\n",
       "      <td>581587</td>\n",
       "      <td>22899</td>\n",
       "      <td>CHILDREN'S APRON DOLLY GIRL</td>\n",
       "      <td>6</td>\n",
       "      <td>2011-12-09 12:50:00</td>\n",
       "      <td>2.10</td>\n",
       "      <td>12680.0</td>\n",
       "      <td>France</td>\n",
       "      <td>False</td>\n",
       "      <td>2011</td>\n",
       "      <td>12</td>\n",
       "      <td>Friday</td>\n",
       "      <td>2011-49</td>\n",
       "      <td>True</td>\n",
       "      <td>12</td>\n",
       "    </tr>\n",
       "    <tr>\n",
       "      <th>541906</th>\n",
       "      <td>581587</td>\n",
       "      <td>23254</td>\n",
       "      <td>CHILDRENS CUTLERY DOLLY GIRL</td>\n",
       "      <td>4</td>\n",
       "      <td>2011-12-09 12:50:00</td>\n",
       "      <td>4.15</td>\n",
       "      <td>12680.0</td>\n",
       "      <td>France</td>\n",
       "      <td>False</td>\n",
       "      <td>2011</td>\n",
       "      <td>12</td>\n",
       "      <td>Friday</td>\n",
       "      <td>2011-49</td>\n",
       "      <td>True</td>\n",
       "      <td>12</td>\n",
       "    </tr>\n",
       "    <tr>\n",
       "      <th>541907</th>\n",
       "      <td>581587</td>\n",
       "      <td>23255</td>\n",
       "      <td>CHILDRENS CUTLERY CIRCUS PARADE</td>\n",
       "      <td>4</td>\n",
       "      <td>2011-12-09 12:50:00</td>\n",
       "      <td>4.15</td>\n",
       "      <td>12680.0</td>\n",
       "      <td>France</td>\n",
       "      <td>False</td>\n",
       "      <td>2011</td>\n",
       "      <td>12</td>\n",
       "      <td>Friday</td>\n",
       "      <td>2011-49</td>\n",
       "      <td>True</td>\n",
       "      <td>12</td>\n",
       "    </tr>\n",
       "    <tr>\n",
       "      <th>541908</th>\n",
       "      <td>581587</td>\n",
       "      <td>22138</td>\n",
       "      <td>BAKING SET 9 PIECE RETROSPOT</td>\n",
       "      <td>3</td>\n",
       "      <td>2011-12-09 12:50:00</td>\n",
       "      <td>4.95</td>\n",
       "      <td>12680.0</td>\n",
       "      <td>France</td>\n",
       "      <td>False</td>\n",
       "      <td>2011</td>\n",
       "      <td>12</td>\n",
       "      <td>Friday</td>\n",
       "      <td>2011-49</td>\n",
       "      <td>True</td>\n",
       "      <td>12</td>\n",
       "    </tr>\n",
       "  </tbody>\n",
       "</table>\n",
       "<p>541909 rows × 15 columns</p>\n",
       "</div>"
      ],
      "text/plain": [
       "       InvoiceNo StockCode                          Description  Quantity         InvoiceDate  UnitPrice  CustomerID         Country  isRefund  InvoiceYear  InvoiceMonth InvoiceWeekday  \\\n",
       "0         536365    85123A   WHITE HANGING HEART T-LIGHT HOLDER         6 2010-12-01 08:26:00       2.55     17850.0  United Kingdom     False         2010            12      Wednesday   \n",
       "1         536365     71053                  WHITE METAL LANTERN         6 2010-12-01 08:26:00       3.39     17850.0  United Kingdom     False         2010            12      Wednesday   \n",
       "2         536365    84406B       CREAM CUPID HEARTS COAT HANGER         8 2010-12-01 08:26:00       2.75     17850.0  United Kingdom     False         2010            12      Wednesday   \n",
       "3         536365    84029G  KNITTED UNION FLAG HOT WATER BOTTLE         6 2010-12-01 08:26:00       3.39     17850.0  United Kingdom     False         2010            12      Wednesday   \n",
       "4         536365    84029E       RED WOOLLY HOTTIE WHITE HEART.         6 2010-12-01 08:26:00       3.39     17850.0  United Kingdom     False         2010            12      Wednesday   \n",
       "...          ...       ...                                  ...       ...                 ...        ...         ...             ...       ...          ...           ...            ...   \n",
       "541904    581587     22613          PACK OF 20 SPACEBOY NAPKINS        12 2011-12-09 12:50:00       0.85     12680.0          France     False         2011            12         Friday   \n",
       "541905    581587     22899         CHILDREN'S APRON DOLLY GIRL          6 2011-12-09 12:50:00       2.10     12680.0          France     False         2011            12         Friday   \n",
       "541906    581587     23254        CHILDRENS CUTLERY DOLLY GIRL          4 2011-12-09 12:50:00       4.15     12680.0          France     False         2011            12         Friday   \n",
       "541907    581587     23255      CHILDRENS CUTLERY CIRCUS PARADE         4 2011-12-09 12:50:00       4.15     12680.0          France     False         2011            12         Friday   \n",
       "541908    581587     22138        BAKING SET 9 PIECE RETROSPOT          3 2011-12-09 12:50:00       4.95     12680.0          France     False         2011            12         Friday   \n",
       "\n",
       "       InvoiceWeekOfYear  IsWeekend  InvoiceHour  \n",
       "0                2010-48      False            8  \n",
       "1                2010-48      False            8  \n",
       "2                2010-48      False            8  \n",
       "3                2010-48      False            8  \n",
       "4                2010-48      False            8  \n",
       "...                  ...        ...          ...  \n",
       "541904           2011-49       True           12  \n",
       "541905           2011-49       True           12  \n",
       "541906           2011-49       True           12  \n",
       "541907           2011-49       True           12  \n",
       "541908           2011-49       True           12  \n",
       "\n",
       "[541909 rows x 15 columns]"
      ]
     },
     "execution_count": 38,
     "metadata": {},
     "output_type": "execute_result"
    }
   ],
   "source": [
    "data['InvoiceYear'] = data['InvoiceDate'].dt.year\n",
    "data['InvoiceMonth'] = data['InvoiceDate'].dt.month\n",
    "data['InvoiceWeekday'] = data['InvoiceDate'].dt.day_name()\n",
    "data['InvoiceWeekOfYear'] = data['InvoiceDate'].dt.strftime('%Y-%U')\n",
    "data['IsWeekend'] = data['InvoiceDate'].dt.day > 4\n",
    "data['InvoiceHour'] = data['InvoiceDate'].dt.hour\n",
    "data"
   ]
  },
  {
   "cell_type": "markdown",
   "metadata": {},
   "source": [
    " Czy są wartości ekstremalne (np. wszystko z jednego dnia)?\n",
    " nie ma"
   ]
  },
  {
   "cell_type": "code",
   "execution_count": 39,
   "metadata": {},
   "outputs": [
    {
     "data": {
      "text/plain": [
       "InvoiceDate\n",
       "2011-10-31 14:41:00    1114\n",
       "2011-12-08 09:28:00     749\n",
       "2011-12-09 10:03:00     731\n",
       "2011-12-05 17:24:00     721\n",
       "2011-06-29 15:58:00     705\n",
       "                       ... \n",
       "2011-07-24 14:50:00       1\n",
       "2011-07-24 13:56:00       1\n",
       "2011-11-10 15:07:00       1\n",
       "2011-07-22 16:52:00       1\n",
       "2011-07-24 13:14:00       1\n",
       "Name: count, Length: 23260, dtype: int64"
      ]
     },
     "execution_count": 39,
     "metadata": {},
     "output_type": "execute_result"
    }
   ],
   "source": [
    "invoiceDateValueCounts = data['InvoiceDate'].value_counts().sort_values(ascending=False)\n",
    "invoiceDateValueCounts"
   ]
  },
  {
   "cell_type": "markdown",
   "metadata": {},
   "source": [
    "1F. Unit Price\n",
    "czy jest prawidłowy typ danych?\n",
    "tak typ danych tej kolumny to float"
   ]
  },
  {
   "cell_type": "markdown",
   "metadata": {},
   "source": [
    "czy są nany?\n",
    "0 nanów"
   ]
  },
  {
   "cell_type": "code",
   "execution_count": 40,
   "metadata": {},
   "outputs": [
    {
     "data": {
      "text/plain": [
       "np.int64(0)"
      ]
     },
     "execution_count": 40,
     "metadata": {},
     "output_type": "execute_result"
    }
   ],
   "source": [
    "isNansUnitPrice = data['UnitPrice'].isna().sum()\n",
    "isNansUnitPrice"
   ]
  },
  {
   "cell_type": "markdown",
   "metadata": {},
   "source": [
    "Czy są wartości ujemne?\n",
    "są dwie spowodowane jakimś błedem"
   ]
  },
  {
   "cell_type": "code",
   "execution_count": 41,
   "metadata": {},
   "outputs": [
    {
     "data": {
      "text/html": [
       "<div>\n",
       "<style scoped>\n",
       "    .dataframe tbody tr th:only-of-type {\n",
       "        vertical-align: middle;\n",
       "    }\n",
       "\n",
       "    .dataframe tbody tr th {\n",
       "        vertical-align: top;\n",
       "    }\n",
       "\n",
       "    .dataframe thead th {\n",
       "        text-align: right;\n",
       "    }\n",
       "</style>\n",
       "<table border=\"1\" class=\"dataframe\">\n",
       "  <thead>\n",
       "    <tr style=\"text-align: right;\">\n",
       "      <th></th>\n",
       "      <th>InvoiceNo</th>\n",
       "      <th>StockCode</th>\n",
       "      <th>Description</th>\n",
       "      <th>Quantity</th>\n",
       "      <th>InvoiceDate</th>\n",
       "      <th>UnitPrice</th>\n",
       "      <th>CustomerID</th>\n",
       "      <th>Country</th>\n",
       "      <th>isRefund</th>\n",
       "      <th>InvoiceYear</th>\n",
       "      <th>InvoiceMonth</th>\n",
       "      <th>InvoiceWeekday</th>\n",
       "      <th>InvoiceWeekOfYear</th>\n",
       "      <th>IsWeekend</th>\n",
       "      <th>InvoiceHour</th>\n",
       "    </tr>\n",
       "  </thead>\n",
       "  <tbody>\n",
       "    <tr>\n",
       "      <th>299983</th>\n",
       "      <td>A563186</td>\n",
       "      <td>B</td>\n",
       "      <td>Adjust bad debt</td>\n",
       "      <td>1</td>\n",
       "      <td>2011-08-12 14:51:00</td>\n",
       "      <td>-11062.06</td>\n",
       "      <td>NaN</td>\n",
       "      <td>United Kingdom</td>\n",
       "      <td>False</td>\n",
       "      <td>2011</td>\n",
       "      <td>8</td>\n",
       "      <td>Friday</td>\n",
       "      <td>2011-32</td>\n",
       "      <td>True</td>\n",
       "      <td>14</td>\n",
       "    </tr>\n",
       "    <tr>\n",
       "      <th>299984</th>\n",
       "      <td>A563187</td>\n",
       "      <td>B</td>\n",
       "      <td>Adjust bad debt</td>\n",
       "      <td>1</td>\n",
       "      <td>2011-08-12 14:52:00</td>\n",
       "      <td>-11062.06</td>\n",
       "      <td>NaN</td>\n",
       "      <td>United Kingdom</td>\n",
       "      <td>False</td>\n",
       "      <td>2011</td>\n",
       "      <td>8</td>\n",
       "      <td>Friday</td>\n",
       "      <td>2011-32</td>\n",
       "      <td>True</td>\n",
       "      <td>14</td>\n",
       "    </tr>\n",
       "  </tbody>\n",
       "</table>\n",
       "</div>"
      ],
      "text/plain": [
       "       InvoiceNo StockCode      Description  Quantity         InvoiceDate  UnitPrice  CustomerID         Country  isRefund  InvoiceYear  InvoiceMonth InvoiceWeekday InvoiceWeekOfYear  IsWeekend  \\\n",
       "299983   A563186         B  Adjust bad debt         1 2011-08-12 14:51:00  -11062.06         NaN  United Kingdom     False         2011             8         Friday           2011-32       True   \n",
       "299984   A563187         B  Adjust bad debt         1 2011-08-12 14:52:00  -11062.06         NaN  United Kingdom     False         2011             8         Friday           2011-32       True   \n",
       "\n",
       "        InvoiceHour  \n",
       "299983           14  \n",
       "299984           14  "
      ]
     },
     "execution_count": 41,
     "metadata": {},
     "output_type": "execute_result"
    }
   ],
   "source": [
    "isNegativeUnitPriceValues = data[data['UnitPrice'] < 0]\n",
    "isNegativeUnitPriceValues"
   ]
  },
  {
   "cell_type": "markdown",
   "metadata": {},
   "source": [
    "Czy są wartości ekstremalne?\n",
    "są 4 wartosci powyzej 16 tysiecy za jeden produkt, jest tez 2515 rekordow o unitprice 0.są to pewnie ceny po rabacie jakims."
   ]
  },
  {
   "cell_type": "code",
   "execution_count": 42,
   "metadata": {},
   "outputs": [
    {
     "data": {
      "text/plain": [
       "UnitPrice\n",
       " 38970.000       1\n",
       " 17836.460       1\n",
       " 16888.020       1\n",
       " 16453.710       1\n",
       " 13541.330       3\n",
       "              ... \n",
       " 0.030           3\n",
       " 0.010           1\n",
       " 0.001           4\n",
       " 0.000        2515\n",
       "-11062.060       2\n",
       "Name: count, Length: 1630, dtype: int64"
      ]
     },
     "execution_count": 42,
     "metadata": {},
     "output_type": "execute_result"
    }
   ],
   "source": [
    "unitPriceValueCounts = data['UnitPrice'].value_counts().sort_index(ascending=False)\n",
    "unitPriceValueCounts"
   ]
  },
  {
   "cell_type": "markdown",
   "metadata": {},
   "source": [
    "ile jest unikalnych wartości\n",
    "jest 1630 unikalnych wartosci\n"
   ]
  },
  {
   "cell_type": "code",
   "execution_count": 43,
   "metadata": {},
   "outputs": [
    {
     "data": {
      "text/plain": [
       "1630"
      ]
     },
     "execution_count": 43,
     "metadata": {},
     "output_type": "execute_result"
    }
   ],
   "source": [
    "nUniqueUnitPrice = data['UnitPrice'].nunique()\n",
    "nUniqueUnitPrice"
   ]
  },
  {
   "cell_type": "markdown",
   "metadata": {},
   "source": [
    "1G. CustomerID"
   ]
  },
  {
   "cell_type": "markdown",
   "metadata": {},
   "source": [
    "czy są nan?\n",
    "Usuwam rekordy bez CustomerID (~25%), ponieważ są niemożliwe do przypisania do klienta.\n",
    "Analiza poprzednich kolumn wykazała, że często zawierają błędy np.manualne wpisy"
   ]
  },
  {
   "cell_type": "code",
   "execution_count": 44,
   "metadata": {},
   "outputs": [],
   "source": [
    "isNansCustomerID = data['CustomerID'].isna().sum()\n",
    "isNansCustomerID\n",
    "data = data[~data['CustomerID'].isna()]"
   ]
  },
  {
   "cell_type": "markdown",
   "metadata": {},
   "source": [
    "Czy typ danych jest odpowiedni?\n",
    "Nie, jest float, zmieniam na integer"
   ]
  },
  {
   "cell_type": "code",
   "execution_count": 45,
   "metadata": {},
   "outputs": [
    {
     "name": "stderr",
     "output_type": "stream",
     "text": [
      "/tmp/ipykernel_8615/3307269198.py:1: SettingWithCopyWarning: \n",
      "A value is trying to be set on a copy of a slice from a DataFrame.\n",
      "Try using .loc[row_indexer,col_indexer] = value instead\n",
      "\n",
      "See the caveats in the documentation: https://pandas.pydata.org/pandas-docs/stable/user_guide/indexing.html#returning-a-view-versus-a-copy\n",
      "  data['CustomerID'] = data['CustomerID'].astype('Int32')\n"
     ]
    },
    {
     "data": {
      "text/plain": [
       "InvoiceNo            string[python]\n",
       "StockCode            string[python]\n",
       "Description                  object\n",
       "Quantity                      int64\n",
       "InvoiceDate           datetime64[s]\n",
       "UnitPrice                   float64\n",
       "CustomerID                    Int32\n",
       "Country                      object\n",
       "isRefund                    boolean\n",
       "InvoiceYear                   int32\n",
       "InvoiceMonth                  int32\n",
       "InvoiceWeekday               object\n",
       "InvoiceWeekOfYear            object\n",
       "IsWeekend                      bool\n",
       "InvoiceHour                   int32\n",
       "dtype: object"
      ]
     },
     "execution_count": 45,
     "metadata": {},
     "output_type": "execute_result"
    }
   ],
   "source": [
    "data['CustomerID'] = data['CustomerID'].astype('Int32')\n",
    "data.dtypes"
   ]
  },
  {
   "cell_type": "markdown",
   "metadata": {},
   "source": [
    "Czy występuja nietypowe wartosci?\n",
    "Czy dane są ciągłe? (czy ID rosną bez dziur?)\n",
    "nie, poniewaz udalo sie zmienic kolumne na int czyli nie wystepuje nic oprocz liczb calkowitych.Czy są powtórzenia / duplikaty?\n",
    "No są jakby moglo ich nie byc. przeciez jeden klient moze miec wiele zamowien"
   ]
  },
  {
   "cell_type": "markdown",
   "metadata": {},
   "source": [
    "1H. Country"
   ]
  },
  {
   "cell_type": "markdown",
   "metadata": {},
   "source": [
    "czy są nany?\n",
    "Nie ma"
   ]
  },
  {
   "cell_type": "code",
   "execution_count": 46,
   "metadata": {},
   "outputs": [
    {
     "data": {
      "text/plain": [
       "np.int64(0)"
      ]
     },
     "execution_count": 46,
     "metadata": {},
     "output_type": "execute_result"
    }
   ],
   "source": [
    "isNansCountry = data['Country'].isna().sum()\n",
    "isNansCountry"
   ]
  },
  {
   "cell_type": "markdown",
   "metadata": {},
   "source": [
    "czy są podejrzanie wartosci?\n",
    "nie ma\n",
    "Czy występują różne warianty zapisu jednego kraju?\n",
    "Niepotrzebna jest standaryzcja"
   ]
  },
  {
   "cell_type": "code",
   "execution_count": 47,
   "metadata": {},
   "outputs": [
    {
     "data": {
      "text/plain": [
       "Country\n",
       "Saudi Arabia                10\n",
       "Bahrain                     17\n",
       "Czech Republic              30\n",
       "Brazil                      32\n",
       "Lithuania                   35\n",
       "Lebanon                     45\n",
       "RSA                         58\n",
       "European Community          61\n",
       "United Arab Emirates        68\n",
       "Malta                      127\n",
       "Greece                     146\n",
       "Canada                     151\n",
       "Iceland                    182\n",
       "Singapore                  229\n",
       "Unspecified                244\n",
       "Israel                     250\n",
       "USA                        291\n",
       "Poland                     341\n",
       "Japan                      358\n",
       "Denmark                    389\n",
       "Austria                    401\n",
       "Sweden                     462\n",
       "Cyprus                     622\n",
       "Finland                    695\n",
       "Channel Islands            758\n",
       "Italy                      803\n",
       "Norway                    1086\n",
       "Australia                 1259\n",
       "Portugal                  1480\n",
       "Switzerland               1877\n",
       "Belgium                   2069\n",
       "Netherlands               2371\n",
       "Spain                     2533\n",
       "EIRE                      7485\n",
       "France                    8491\n",
       "Germany                   9495\n",
       "United Kingdom          361878\n",
       "Name: count, dtype: int64"
      ]
     },
     "execution_count": 47,
     "metadata": {},
     "output_type": "execute_result"
    }
   ],
   "source": [
    "valueCountsCountry = data['Country'].value_counts().sort_values(ascending=True).head(50)\n",
    "valueCountsCountry"
   ]
  },
  {
   "cell_type": "markdown",
   "metadata": {},
   "source": [
    "Czy większość danych pochodzi z jednego kraju (np. UK)?\n",
    "Tak wiekszosc z uk. stworze kolumne IsUK"
   ]
  },
  {
   "cell_type": "code",
   "execution_count": 48,
   "metadata": {},
   "outputs": [
    {
     "name": "stderr",
     "output_type": "stream",
     "text": [
      "/tmp/ipykernel_8615/2115454288.py:1: SettingWithCopyWarning: \n",
      "A value is trying to be set on a copy of a slice from a DataFrame.\n",
      "Try using .loc[row_indexer,col_indexer] = value instead\n",
      "\n",
      "See the caveats in the documentation: https://pandas.pydata.org/pandas-docs/stable/user_guide/indexing.html#returning-a-view-versus-a-copy\n",
      "  data['IsUK'] = data['Country'].isin(['United Kingdom'])\n"
     ]
    }
   ],
   "source": [
    "data['IsUK'] = data['Country'].isin(['United Kingdom'])\n"
   ]
  },
  {
   "cell_type": "markdown",
   "metadata": {},
   "source": []
  },
  {
   "cell_type": "markdown",
   "metadata": {},
   "source": [
    "na sam koniec dodaje kolumne totalPrice to przyszlej analizy"
   ]
  },
  {
   "cell_type": "code",
   "execution_count": 49,
   "metadata": {},
   "outputs": [
    {
     "name": "stderr",
     "output_type": "stream",
     "text": [
      "/tmp/ipykernel_8615/146396965.py:1: SettingWithCopyWarning: \n",
      "A value is trying to be set on a copy of a slice from a DataFrame.\n",
      "Try using .loc[row_indexer,col_indexer] = value instead\n",
      "\n",
      "See the caveats in the documentation: https://pandas.pydata.org/pandas-docs/stable/user_guide/indexing.html#returning-a-view-versus-a-copy\n",
      "  data['TotalPrice'] = data['Quantity'] * data['UnitPrice']\n"
     ]
    },
    {
     "data": {
      "text/html": [
       "<div>\n",
       "<style scoped>\n",
       "    .dataframe tbody tr th:only-of-type {\n",
       "        vertical-align: middle;\n",
       "    }\n",
       "\n",
       "    .dataframe tbody tr th {\n",
       "        vertical-align: top;\n",
       "    }\n",
       "\n",
       "    .dataframe thead th {\n",
       "        text-align: right;\n",
       "    }\n",
       "</style>\n",
       "<table border=\"1\" class=\"dataframe\">\n",
       "  <thead>\n",
       "    <tr style=\"text-align: right;\">\n",
       "      <th></th>\n",
       "      <th>InvoiceNo</th>\n",
       "      <th>StockCode</th>\n",
       "      <th>Description</th>\n",
       "      <th>Quantity</th>\n",
       "      <th>InvoiceDate</th>\n",
       "      <th>UnitPrice</th>\n",
       "      <th>CustomerID</th>\n",
       "      <th>Country</th>\n",
       "      <th>isRefund</th>\n",
       "      <th>InvoiceYear</th>\n",
       "      <th>InvoiceMonth</th>\n",
       "      <th>InvoiceWeekday</th>\n",
       "      <th>InvoiceWeekOfYear</th>\n",
       "      <th>IsWeekend</th>\n",
       "      <th>InvoiceHour</th>\n",
       "      <th>IsUK</th>\n",
       "      <th>TotalPrice</th>\n",
       "    </tr>\n",
       "  </thead>\n",
       "  <tbody>\n",
       "    <tr>\n",
       "      <th>0</th>\n",
       "      <td>536365</td>\n",
       "      <td>85123A</td>\n",
       "      <td>WHITE HANGING HEART T-LIGHT HOLDER</td>\n",
       "      <td>6</td>\n",
       "      <td>2010-12-01 08:26:00</td>\n",
       "      <td>2.55</td>\n",
       "      <td>17850</td>\n",
       "      <td>United Kingdom</td>\n",
       "      <td>False</td>\n",
       "      <td>2010</td>\n",
       "      <td>12</td>\n",
       "      <td>Wednesday</td>\n",
       "      <td>2010-48</td>\n",
       "      <td>False</td>\n",
       "      <td>8</td>\n",
       "      <td>True</td>\n",
       "      <td>15.30</td>\n",
       "    </tr>\n",
       "    <tr>\n",
       "      <th>1</th>\n",
       "      <td>536365</td>\n",
       "      <td>71053</td>\n",
       "      <td>WHITE METAL LANTERN</td>\n",
       "      <td>6</td>\n",
       "      <td>2010-12-01 08:26:00</td>\n",
       "      <td>3.39</td>\n",
       "      <td>17850</td>\n",
       "      <td>United Kingdom</td>\n",
       "      <td>False</td>\n",
       "      <td>2010</td>\n",
       "      <td>12</td>\n",
       "      <td>Wednesday</td>\n",
       "      <td>2010-48</td>\n",
       "      <td>False</td>\n",
       "      <td>8</td>\n",
       "      <td>True</td>\n",
       "      <td>20.34</td>\n",
       "    </tr>\n",
       "    <tr>\n",
       "      <th>2</th>\n",
       "      <td>536365</td>\n",
       "      <td>84406B</td>\n",
       "      <td>CREAM CUPID HEARTS COAT HANGER</td>\n",
       "      <td>8</td>\n",
       "      <td>2010-12-01 08:26:00</td>\n",
       "      <td>2.75</td>\n",
       "      <td>17850</td>\n",
       "      <td>United Kingdom</td>\n",
       "      <td>False</td>\n",
       "      <td>2010</td>\n",
       "      <td>12</td>\n",
       "      <td>Wednesday</td>\n",
       "      <td>2010-48</td>\n",
       "      <td>False</td>\n",
       "      <td>8</td>\n",
       "      <td>True</td>\n",
       "      <td>22.00</td>\n",
       "    </tr>\n",
       "    <tr>\n",
       "      <th>3</th>\n",
       "      <td>536365</td>\n",
       "      <td>84029G</td>\n",
       "      <td>KNITTED UNION FLAG HOT WATER BOTTLE</td>\n",
       "      <td>6</td>\n",
       "      <td>2010-12-01 08:26:00</td>\n",
       "      <td>3.39</td>\n",
       "      <td>17850</td>\n",
       "      <td>United Kingdom</td>\n",
       "      <td>False</td>\n",
       "      <td>2010</td>\n",
       "      <td>12</td>\n",
       "      <td>Wednesday</td>\n",
       "      <td>2010-48</td>\n",
       "      <td>False</td>\n",
       "      <td>8</td>\n",
       "      <td>True</td>\n",
       "      <td>20.34</td>\n",
       "    </tr>\n",
       "    <tr>\n",
       "      <th>4</th>\n",
       "      <td>536365</td>\n",
       "      <td>84029E</td>\n",
       "      <td>RED WOOLLY HOTTIE WHITE HEART.</td>\n",
       "      <td>6</td>\n",
       "      <td>2010-12-01 08:26:00</td>\n",
       "      <td>3.39</td>\n",
       "      <td>17850</td>\n",
       "      <td>United Kingdom</td>\n",
       "      <td>False</td>\n",
       "      <td>2010</td>\n",
       "      <td>12</td>\n",
       "      <td>Wednesday</td>\n",
       "      <td>2010-48</td>\n",
       "      <td>False</td>\n",
       "      <td>8</td>\n",
       "      <td>True</td>\n",
       "      <td>20.34</td>\n",
       "    </tr>\n",
       "    <tr>\n",
       "      <th>...</th>\n",
       "      <td>...</td>\n",
       "      <td>...</td>\n",
       "      <td>...</td>\n",
       "      <td>...</td>\n",
       "      <td>...</td>\n",
       "      <td>...</td>\n",
       "      <td>...</td>\n",
       "      <td>...</td>\n",
       "      <td>...</td>\n",
       "      <td>...</td>\n",
       "      <td>...</td>\n",
       "      <td>...</td>\n",
       "      <td>...</td>\n",
       "      <td>...</td>\n",
       "      <td>...</td>\n",
       "      <td>...</td>\n",
       "      <td>...</td>\n",
       "    </tr>\n",
       "    <tr>\n",
       "      <th>541904</th>\n",
       "      <td>581587</td>\n",
       "      <td>22613</td>\n",
       "      <td>PACK OF 20 SPACEBOY NAPKINS</td>\n",
       "      <td>12</td>\n",
       "      <td>2011-12-09 12:50:00</td>\n",
       "      <td>0.85</td>\n",
       "      <td>12680</td>\n",
       "      <td>France</td>\n",
       "      <td>False</td>\n",
       "      <td>2011</td>\n",
       "      <td>12</td>\n",
       "      <td>Friday</td>\n",
       "      <td>2011-49</td>\n",
       "      <td>True</td>\n",
       "      <td>12</td>\n",
       "      <td>False</td>\n",
       "      <td>10.20</td>\n",
       "    </tr>\n",
       "    <tr>\n",
       "      <th>541905</th>\n",
       "      <td>581587</td>\n",
       "      <td>22899</td>\n",
       "      <td>CHILDREN'S APRON DOLLY GIRL</td>\n",
       "      <td>6</td>\n",
       "      <td>2011-12-09 12:50:00</td>\n",
       "      <td>2.10</td>\n",
       "      <td>12680</td>\n",
       "      <td>France</td>\n",
       "      <td>False</td>\n",
       "      <td>2011</td>\n",
       "      <td>12</td>\n",
       "      <td>Friday</td>\n",
       "      <td>2011-49</td>\n",
       "      <td>True</td>\n",
       "      <td>12</td>\n",
       "      <td>False</td>\n",
       "      <td>12.60</td>\n",
       "    </tr>\n",
       "    <tr>\n",
       "      <th>541906</th>\n",
       "      <td>581587</td>\n",
       "      <td>23254</td>\n",
       "      <td>CHILDRENS CUTLERY DOLLY GIRL</td>\n",
       "      <td>4</td>\n",
       "      <td>2011-12-09 12:50:00</td>\n",
       "      <td>4.15</td>\n",
       "      <td>12680</td>\n",
       "      <td>France</td>\n",
       "      <td>False</td>\n",
       "      <td>2011</td>\n",
       "      <td>12</td>\n",
       "      <td>Friday</td>\n",
       "      <td>2011-49</td>\n",
       "      <td>True</td>\n",
       "      <td>12</td>\n",
       "      <td>False</td>\n",
       "      <td>16.60</td>\n",
       "    </tr>\n",
       "    <tr>\n",
       "      <th>541907</th>\n",
       "      <td>581587</td>\n",
       "      <td>23255</td>\n",
       "      <td>CHILDRENS CUTLERY CIRCUS PARADE</td>\n",
       "      <td>4</td>\n",
       "      <td>2011-12-09 12:50:00</td>\n",
       "      <td>4.15</td>\n",
       "      <td>12680</td>\n",
       "      <td>France</td>\n",
       "      <td>False</td>\n",
       "      <td>2011</td>\n",
       "      <td>12</td>\n",
       "      <td>Friday</td>\n",
       "      <td>2011-49</td>\n",
       "      <td>True</td>\n",
       "      <td>12</td>\n",
       "      <td>False</td>\n",
       "      <td>16.60</td>\n",
       "    </tr>\n",
       "    <tr>\n",
       "      <th>541908</th>\n",
       "      <td>581587</td>\n",
       "      <td>22138</td>\n",
       "      <td>BAKING SET 9 PIECE RETROSPOT</td>\n",
       "      <td>3</td>\n",
       "      <td>2011-12-09 12:50:00</td>\n",
       "      <td>4.95</td>\n",
       "      <td>12680</td>\n",
       "      <td>France</td>\n",
       "      <td>False</td>\n",
       "      <td>2011</td>\n",
       "      <td>12</td>\n",
       "      <td>Friday</td>\n",
       "      <td>2011-49</td>\n",
       "      <td>True</td>\n",
       "      <td>12</td>\n",
       "      <td>False</td>\n",
       "      <td>14.85</td>\n",
       "    </tr>\n",
       "  </tbody>\n",
       "</table>\n",
       "<p>406829 rows × 17 columns</p>\n",
       "</div>"
      ],
      "text/plain": [
       "       InvoiceNo StockCode                          Description  Quantity         InvoiceDate  UnitPrice  CustomerID         Country  isRefund  InvoiceYear  InvoiceMonth InvoiceWeekday  \\\n",
       "0         536365    85123A   WHITE HANGING HEART T-LIGHT HOLDER         6 2010-12-01 08:26:00       2.55       17850  United Kingdom     False         2010            12      Wednesday   \n",
       "1         536365     71053                  WHITE METAL LANTERN         6 2010-12-01 08:26:00       3.39       17850  United Kingdom     False         2010            12      Wednesday   \n",
       "2         536365    84406B       CREAM CUPID HEARTS COAT HANGER         8 2010-12-01 08:26:00       2.75       17850  United Kingdom     False         2010            12      Wednesday   \n",
       "3         536365    84029G  KNITTED UNION FLAG HOT WATER BOTTLE         6 2010-12-01 08:26:00       3.39       17850  United Kingdom     False         2010            12      Wednesday   \n",
       "4         536365    84029E       RED WOOLLY HOTTIE WHITE HEART.         6 2010-12-01 08:26:00       3.39       17850  United Kingdom     False         2010            12      Wednesday   \n",
       "...          ...       ...                                  ...       ...                 ...        ...         ...             ...       ...          ...           ...            ...   \n",
       "541904    581587     22613          PACK OF 20 SPACEBOY NAPKINS        12 2011-12-09 12:50:00       0.85       12680          France     False         2011            12         Friday   \n",
       "541905    581587     22899         CHILDREN'S APRON DOLLY GIRL          6 2011-12-09 12:50:00       2.10       12680          France     False         2011            12         Friday   \n",
       "541906    581587     23254        CHILDRENS CUTLERY DOLLY GIRL          4 2011-12-09 12:50:00       4.15       12680          France     False         2011            12         Friday   \n",
       "541907    581587     23255      CHILDRENS CUTLERY CIRCUS PARADE         4 2011-12-09 12:50:00       4.15       12680          France     False         2011            12         Friday   \n",
       "541908    581587     22138        BAKING SET 9 PIECE RETROSPOT          3 2011-12-09 12:50:00       4.95       12680          France     False         2011            12         Friday   \n",
       "\n",
       "       InvoiceWeekOfYear  IsWeekend  InvoiceHour   IsUK  TotalPrice  \n",
       "0                2010-48      False            8   True       15.30  \n",
       "1                2010-48      False            8   True       20.34  \n",
       "2                2010-48      False            8   True       22.00  \n",
       "3                2010-48      False            8   True       20.34  \n",
       "4                2010-48      False            8   True       20.34  \n",
       "...                  ...        ...          ...    ...         ...  \n",
       "541904           2011-49       True           12  False       10.20  \n",
       "541905           2011-49       True           12  False       12.60  \n",
       "541906           2011-49       True           12  False       16.60  \n",
       "541907           2011-49       True           12  False       16.60  \n",
       "541908           2011-49       True           12  False       14.85  \n",
       "\n",
       "[406829 rows x 17 columns]"
      ]
     },
     "execution_count": 49,
     "metadata": {},
     "output_type": "execute_result"
    }
   ],
   "source": [
    "data['TotalPrice'] = data['Quantity'] * data['UnitPrice']\n",
    "data"
   ]
  },
  {
   "cell_type": "markdown",
   "metadata": {},
   "source": [
    "Koniec preprocessu: Nie ma jeszcze podsumowania preprocessingu w Markdown\n",
    "Wspomniałeś, że planujesz to dodać – i słusznie. Na koniec tej fazy koniecznie dodaj:\n",
    "\n",
    "listę wykonanych kroków (checklista)\n",
    "\n",
    "krótkie omówienie zmian w danych\n",
    "\n",
    "informację ile wierszy/kolumn zostało (podsumowanie).\n",
    "\n",
    "ORAZ wstep"
   ]
  },
  {
   "cell_type": "markdown",
   "metadata": {},
   "source": [
    "2. Analiza i eksploracja danych (biznesowa)"
   ]
  },
  {
   "cell_type": "markdown",
   "metadata": {},
   "source": [
    "Ilu jest unikalnych klientów?\n",
    "4372 unikalnych klientow"
   ]
  },
  {
   "cell_type": "code",
   "execution_count": 50,
   "metadata": {},
   "outputs": [
    {
     "data": {
      "text/plain": [
       "4372"
      ]
     },
     "execution_count": 50,
     "metadata": {},
     "output_type": "execute_result"
    }
   ],
   "source": [
    "nuniqueClients = data['CustomerID'].nunique()\n",
    "nuniqueClients"
   ]
  },
  {
   "cell_type": "markdown",
   "metadata": {},
   "source": [
    "Które produkty są najczęściej kupowane?\n",
    "najczesciej kupowane produkty to: produkty o stockcode:  '84879', '85099B', '22197', '84077'\n",
    "czyli kolejno Assorted Colour Bird Ornament, Jumbo Bag Red Retrospot, Small PopcornHolder, World War 2 Gliders. Liczba 35000 wziela sie z tego powodu ze policzylem sume quantity dla danego StockCode i wybralem sobie 4 produkty ktore zostaly sprzedany w najwiekszych ilosciach\n"
   ]
  },
  {
   "cell_type": "code",
   "execution_count": 51,
   "metadata": {},
   "outputs": [
    {
     "data": {
      "text/plain": [
       "StockCode\n",
       "84077     53215\n",
       "22197     48712\n",
       "85099B    45066\n",
       "84879     35314\n",
       "85123A    34204\n",
       "          ...  \n",
       "21144       -12\n",
       "CRUK        -16\n",
       "21645       -24\n",
       "D         -1194\n",
       "84347     -1460\n",
       "Name: Quantity, Length: 3684, dtype: int64"
      ]
     },
     "execution_count": 51,
     "metadata": {},
     "output_type": "execute_result"
    }
   ],
   "source": [
    "groupedByStockCodeAndQuantity = data.groupby('StockCode')['Quantity'].sum()\n",
    "groupedByStockCodeAndQuantity.sort_values(ascending=False)\n"
   ]
  },
  {
   "cell_type": "code",
   "execution_count": 52,
   "metadata": {},
   "outputs": [
    {
     "data": {
      "text/html": [
       "<div>\n",
       "<style scoped>\n",
       "    .dataframe tbody tr th:only-of-type {\n",
       "        vertical-align: middle;\n",
       "    }\n",
       "\n",
       "    .dataframe tbody tr th {\n",
       "        vertical-align: top;\n",
       "    }\n",
       "\n",
       "    .dataframe thead th {\n",
       "        text-align: right;\n",
       "    }\n",
       "</style>\n",
       "<table border=\"1\" class=\"dataframe\">\n",
       "  <thead>\n",
       "    <tr style=\"text-align: right;\">\n",
       "      <th></th>\n",
       "      <th>InvoiceNo</th>\n",
       "      <th>StockCode</th>\n",
       "      <th>Description</th>\n",
       "      <th>Quantity</th>\n",
       "      <th>InvoiceDate</th>\n",
       "      <th>UnitPrice</th>\n",
       "      <th>CustomerID</th>\n",
       "      <th>Country</th>\n",
       "      <th>isRefund</th>\n",
       "      <th>InvoiceYear</th>\n",
       "      <th>InvoiceMonth</th>\n",
       "      <th>InvoiceWeekday</th>\n",
       "      <th>InvoiceWeekOfYear</th>\n",
       "      <th>IsWeekend</th>\n",
       "      <th>InvoiceHour</th>\n",
       "      <th>IsUK</th>\n",
       "      <th>TotalPrice</th>\n",
       "    </tr>\n",
       "  </thead>\n",
       "  <tbody>\n",
       "    <tr>\n",
       "      <th>9</th>\n",
       "      <td>536367</td>\n",
       "      <td>84879</td>\n",
       "      <td>ASSORTED COLOUR BIRD ORNAMENT</td>\n",
       "      <td>32</td>\n",
       "      <td>2010-12-01 08:34:00</td>\n",
       "      <td>1.69</td>\n",
       "      <td>13047</td>\n",
       "      <td>United Kingdom</td>\n",
       "      <td>False</td>\n",
       "      <td>2010</td>\n",
       "      <td>12</td>\n",
       "      <td>Wednesday</td>\n",
       "      <td>2010-48</td>\n",
       "      <td>False</td>\n",
       "      <td>8</td>\n",
       "      <td>True</td>\n",
       "      <td>54.08</td>\n",
       "    </tr>\n",
       "    <tr>\n",
       "      <th>177</th>\n",
       "      <td>536386</td>\n",
       "      <td>85099B</td>\n",
       "      <td>JUMBO BAG RED RETROSPOT</td>\n",
       "      <td>100</td>\n",
       "      <td>2010-12-01 09:57:00</td>\n",
       "      <td>1.65</td>\n",
       "      <td>16029</td>\n",
       "      <td>United Kingdom</td>\n",
       "      <td>False</td>\n",
       "      <td>2010</td>\n",
       "      <td>12</td>\n",
       "      <td>Wednesday</td>\n",
       "      <td>2010-48</td>\n",
       "      <td>False</td>\n",
       "      <td>9</td>\n",
       "      <td>True</td>\n",
       "      <td>165.00</td>\n",
       "    </tr>\n",
       "    <tr>\n",
       "      <th>221</th>\n",
       "      <td>536390</td>\n",
       "      <td>22197</td>\n",
       "      <td>SMALL POPCORN HOLDER</td>\n",
       "      <td>100</td>\n",
       "      <td>2010-12-01 10:19:00</td>\n",
       "      <td>0.72</td>\n",
       "      <td>17511</td>\n",
       "      <td>United Kingdom</td>\n",
       "      <td>False</td>\n",
       "      <td>2010</td>\n",
       "      <td>12</td>\n",
       "      <td>Wednesday</td>\n",
       "      <td>2010-48</td>\n",
       "      <td>False</td>\n",
       "      <td>10</td>\n",
       "      <td>True</td>\n",
       "      <td>72.00</td>\n",
       "    </tr>\n",
       "    <tr>\n",
       "      <th>234</th>\n",
       "      <td>536390</td>\n",
       "      <td>85099B</td>\n",
       "      <td>JUMBO BAG RED RETROSPOT</td>\n",
       "      <td>100</td>\n",
       "      <td>2010-12-01 10:19:00</td>\n",
       "      <td>1.65</td>\n",
       "      <td>17511</td>\n",
       "      <td>United Kingdom</td>\n",
       "      <td>False</td>\n",
       "      <td>2010</td>\n",
       "      <td>12</td>\n",
       "      <td>Wednesday</td>\n",
       "      <td>2010-48</td>\n",
       "      <td>False</td>\n",
       "      <td>10</td>\n",
       "      <td>True</td>\n",
       "      <td>165.00</td>\n",
       "    </tr>\n",
       "    <tr>\n",
       "      <th>250</th>\n",
       "      <td>536392</td>\n",
       "      <td>84879</td>\n",
       "      <td>ASSORTED COLOUR BIRD ORNAMENT</td>\n",
       "      <td>16</td>\n",
       "      <td>2010-12-01 10:29:00</td>\n",
       "      <td>1.69</td>\n",
       "      <td>13705</td>\n",
       "      <td>United Kingdom</td>\n",
       "      <td>False</td>\n",
       "      <td>2010</td>\n",
       "      <td>12</td>\n",
       "      <td>Wednesday</td>\n",
       "      <td>2010-48</td>\n",
       "      <td>False</td>\n",
       "      <td>10</td>\n",
       "      <td>True</td>\n",
       "      <td>27.04</td>\n",
       "    </tr>\n",
       "    <tr>\n",
       "      <th>...</th>\n",
       "      <td>...</td>\n",
       "      <td>...</td>\n",
       "      <td>...</td>\n",
       "      <td>...</td>\n",
       "      <td>...</td>\n",
       "      <td>...</td>\n",
       "      <td>...</td>\n",
       "      <td>...</td>\n",
       "      <td>...</td>\n",
       "      <td>...</td>\n",
       "      <td>...</td>\n",
       "      <td>...</td>\n",
       "      <td>...</td>\n",
       "      <td>...</td>\n",
       "      <td>...</td>\n",
       "      <td>...</td>\n",
       "      <td>...</td>\n",
       "    </tr>\n",
       "    <tr>\n",
       "      <th>540377</th>\n",
       "      <td>581478</td>\n",
       "      <td>84077</td>\n",
       "      <td>WORLD WAR 2 GLIDERS ASSTD DESIGNS</td>\n",
       "      <td>48</td>\n",
       "      <td>2011-12-09 08:59:00</td>\n",
       "      <td>0.29</td>\n",
       "      <td>17364</td>\n",
       "      <td>United Kingdom</td>\n",
       "      <td>False</td>\n",
       "      <td>2011</td>\n",
       "      <td>12</td>\n",
       "      <td>Friday</td>\n",
       "      <td>2011-49</td>\n",
       "      <td>True</td>\n",
       "      <td>8</td>\n",
       "      <td>True</td>\n",
       "      <td>13.92</td>\n",
       "    </tr>\n",
       "    <tr>\n",
       "      <th>540434</th>\n",
       "      <td>581486</td>\n",
       "      <td>85099B</td>\n",
       "      <td>JUMBO BAG RED RETROSPOT</td>\n",
       "      <td>10</td>\n",
       "      <td>2011-12-09 09:38:00</td>\n",
       "      <td>2.08</td>\n",
       "      <td>17001</td>\n",
       "      <td>United Kingdom</td>\n",
       "      <td>False</td>\n",
       "      <td>2011</td>\n",
       "      <td>12</td>\n",
       "      <td>Friday</td>\n",
       "      <td>2011-49</td>\n",
       "      <td>True</td>\n",
       "      <td>9</td>\n",
       "      <td>True</td>\n",
       "      <td>20.80</td>\n",
       "    </tr>\n",
       "    <tr>\n",
       "      <th>541678</th>\n",
       "      <td>581538</td>\n",
       "      <td>22197</td>\n",
       "      <td>POPCORN HOLDER</td>\n",
       "      <td>4</td>\n",
       "      <td>2011-12-09 11:34:00</td>\n",
       "      <td>0.85</td>\n",
       "      <td>14446</td>\n",
       "      <td>United Kingdom</td>\n",
       "      <td>False</td>\n",
       "      <td>2011</td>\n",
       "      <td>12</td>\n",
       "      <td>Friday</td>\n",
       "      <td>2011-49</td>\n",
       "      <td>True</td>\n",
       "      <td>11</td>\n",
       "      <td>True</td>\n",
       "      <td>3.40</td>\n",
       "    </tr>\n",
       "    <tr>\n",
       "      <th>541825</th>\n",
       "      <td>581579</td>\n",
       "      <td>22197</td>\n",
       "      <td>POPCORN HOLDER</td>\n",
       "      <td>24</td>\n",
       "      <td>2011-12-09 12:19:00</td>\n",
       "      <td>0.85</td>\n",
       "      <td>17581</td>\n",
       "      <td>United Kingdom</td>\n",
       "      <td>False</td>\n",
       "      <td>2011</td>\n",
       "      <td>12</td>\n",
       "      <td>Friday</td>\n",
       "      <td>2011-49</td>\n",
       "      <td>True</td>\n",
       "      <td>12</td>\n",
       "      <td>True</td>\n",
       "      <td>20.40</td>\n",
       "    </tr>\n",
       "    <tr>\n",
       "      <th>541875</th>\n",
       "      <td>581585</td>\n",
       "      <td>84879</td>\n",
       "      <td>ASSORTED COLOUR BIRD ORNAMENT</td>\n",
       "      <td>16</td>\n",
       "      <td>2011-12-09 12:31:00</td>\n",
       "      <td>1.69</td>\n",
       "      <td>15804</td>\n",
       "      <td>United Kingdom</td>\n",
       "      <td>False</td>\n",
       "      <td>2011</td>\n",
       "      <td>12</td>\n",
       "      <td>Friday</td>\n",
       "      <td>2011-49</td>\n",
       "      <td>True</td>\n",
       "      <td>12</td>\n",
       "      <td>True</td>\n",
       "      <td>27.04</td>\n",
       "    </tr>\n",
       "  </tbody>\n",
       "</table>\n",
       "<p>4676 rows × 17 columns</p>\n",
       "</div>"
      ],
      "text/plain": [
       "       InvoiceNo StockCode                        Description  Quantity         InvoiceDate  UnitPrice  CustomerID         Country  isRefund  InvoiceYear  InvoiceMonth InvoiceWeekday  \\\n",
       "9         536367     84879      ASSORTED COLOUR BIRD ORNAMENT        32 2010-12-01 08:34:00       1.69       13047  United Kingdom     False         2010            12      Wednesday   \n",
       "177       536386    85099B            JUMBO BAG RED RETROSPOT       100 2010-12-01 09:57:00       1.65       16029  United Kingdom     False         2010            12      Wednesday   \n",
       "221       536390     22197               SMALL POPCORN HOLDER       100 2010-12-01 10:19:00       0.72       17511  United Kingdom     False         2010            12      Wednesday   \n",
       "234       536390    85099B            JUMBO BAG RED RETROSPOT       100 2010-12-01 10:19:00       1.65       17511  United Kingdom     False         2010            12      Wednesday   \n",
       "250       536392     84879      ASSORTED COLOUR BIRD ORNAMENT        16 2010-12-01 10:29:00       1.69       13705  United Kingdom     False         2010            12      Wednesday   \n",
       "...          ...       ...                                ...       ...                 ...        ...         ...             ...       ...          ...           ...            ...   \n",
       "540377    581478     84077  WORLD WAR 2 GLIDERS ASSTD DESIGNS        48 2011-12-09 08:59:00       0.29       17364  United Kingdom     False         2011            12         Friday   \n",
       "540434    581486    85099B            JUMBO BAG RED RETROSPOT        10 2011-12-09 09:38:00       2.08       17001  United Kingdom     False         2011            12         Friday   \n",
       "541678    581538     22197                     POPCORN HOLDER         4 2011-12-09 11:34:00       0.85       14446  United Kingdom     False         2011            12         Friday   \n",
       "541825    581579     22197                     POPCORN HOLDER        24 2011-12-09 12:19:00       0.85       17581  United Kingdom     False         2011            12         Friday   \n",
       "541875    581585     84879      ASSORTED COLOUR BIRD ORNAMENT        16 2011-12-09 12:31:00       1.69       15804  United Kingdom     False         2011            12         Friday   \n",
       "\n",
       "       InvoiceWeekOfYear  IsWeekend  InvoiceHour  IsUK  TotalPrice  \n",
       "9                2010-48      False            8  True       54.08  \n",
       "177              2010-48      False            9  True      165.00  \n",
       "221              2010-48      False           10  True       72.00  \n",
       "234              2010-48      False           10  True      165.00  \n",
       "250              2010-48      False           10  True       27.04  \n",
       "...                  ...        ...          ...   ...         ...  \n",
       "540377           2011-49       True            8  True       13.92  \n",
       "540434           2011-49       True            9  True       20.80  \n",
       "541678           2011-49       True           11  True        3.40  \n",
       "541825           2011-49       True           12  True       20.40  \n",
       "541875           2011-49       True           12  True       27.04  \n",
       "\n",
       "[4676 rows x 17 columns]"
      ]
     },
     "execution_count": 52,
     "metadata": {},
     "output_type": "execute_result"
    }
   ],
   "source": [
    "moreThan35k = groupedByStockCodeAndQuantity > 35000\n",
    "moreThan35kIndices = moreThan35k[moreThan35k == True].index\n",
    "productsWithMostFrequentPurchase = data[data['StockCode'].isin(moreThan35kIndices)]\n",
    "productsWithMostFrequentPurchase"
   ]
  },
  {
   "cell_type": "code",
   "execution_count": 53,
   "metadata": {},
   "outputs": [
    {
     "data": {
      "text/plain": [
       "np.int64(182307)"
      ]
     },
     "execution_count": 53,
     "metadata": {},
     "output_type": "execute_result"
    }
   ],
   "source": [
    "sumOfMoreThan35K = groupedByStockCodeAndQuantity[moreThan35kIndices].sum()\n",
    "sumOfMoreThan35K"
   ]
  },
  {
   "cell_type": "code",
   "execution_count": 54,
   "metadata": {},
   "outputs": [
    {
     "data": {
      "text/plain": [
       "np.int64(4906888)"
      ]
     },
     "execution_count": 54,
     "metadata": {},
     "output_type": "execute_result"
    }
   ],
   "source": [
    "sumOfAll = groupedByStockCodeAndQuantity.sum()\n",
    "sumOfAll"
   ]
  },
  {
   "cell_type": "code",
   "execution_count": 55,
   "metadata": {},
   "outputs": [
    {
     "data": {
      "text/plain": [
       "np.float64(3.715328330298144)"
      ]
     },
     "execution_count": 55,
     "metadata": {},
     "output_type": "execute_result"
    }
   ],
   "source": [
    "paretoIndicator = (sumOfMoreThan35K / sumOfAll) * 100\n",
    "paretoIndicator"
   ]
  },
  {
   "cell_type": "markdown",
   "metadata": {},
   "source": [
    "Metryka zagregowana: quantity top 4 produktow stanowi 3,71 % quantity wszystkich sprzedanych produktów"
   ]
  },
  {
   "cell_type": "markdown",
   "metadata": {},
   "source": [
    "🟡 Co możesz dodać później (jeśli chcesz — to nie braki, tylko „możliwości”)\n",
    "Element\tMożliwość rozbudowy\n",
    "Opis top produktów\tDla każdego z tych 4 top produktów możesz potem zrobić mini-profil: ile klientów je kupiło, jaka średnia cena, czy to UK-only.\n",
    "Wizualizacja Pareto\tKlasyczna linia Pareto: oś X = produkty, oś Y = skumulowany udział Quantity – ale tylko jeśli planujesz sekcję z wykresami.\n",
    "Zestawienie wartości top produktów\tMożna dla kontrastu pokazać: te 4 topy to 3,7% Quantity, ale może tylko np. 1,2% Revenue – to może prowadzić do wniosku o ich marżowości"
   ]
  },
  {
   "cell_type": "markdown",
   "metadata": {},
   "source": [
    "Opis top produktów\tDla każdego z tych 4 top produktów możesz potem zrobić mini-profil: ile klientów je kupiło, jaka średnia cena, czy to UK-only."
   ]
  },
  {
   "cell_type": "markdown",
   "metadata": {},
   "source": [
    "ile klientów je kupiło?\n",
    "produkt kolejno 22197,84077,84879,85099B kupilo kolejno 408,307,639,636 osob"
   ]
  },
  {
   "cell_type": "code",
   "execution_count": 69,
   "metadata": {},
   "outputs": [
    {
     "data": {
      "text/plain": [
       "StockCode\n",
       "22197     407\n",
       "84077     307\n",
       "84879     679\n",
       "85099B    636\n",
       "Name: CustomerID, dtype: int64"
      ]
     },
     "execution_count": 69,
     "metadata": {},
     "output_type": "execute_result"
    }
   ],
   "source": [
    "groupedByStockCodeAndCustomer = data.groupby('StockCode')['CustomerID'].unique()\n",
    "groupedByStockCodeAndCustomerTopFour = groupedByStockCodeAndCustomer[moreThan35kIndices]\n",
    "groupedByStockCodeAndCustomerTopFour.apply(len)"
   ]
  },
  {
   "cell_type": "markdown",
   "metadata": {},
   "source": [
    "średnia cena produktu\n",
    "212197,84077,84879,85099B to kolejno 0,83 0,29 1,68 2,01"
   ]
  },
  {
   "cell_type": "code",
   "execution_count": 74,
   "metadata": {},
   "outputs": [
    {
     "data": {
      "text/plain": [
       "StockCode\n",
       "22197     0.838023\n",
       "84077     0.292029\n",
       "84879     1.680860\n",
       "85099B    2.013057\n",
       "Name: UnitPrice, dtype: float64"
      ]
     },
     "execution_count": 74,
     "metadata": {},
     "output_type": "execute_result"
    }
   ],
   "source": [
    "groupedByStockCodeAndUnitPrice = data.groupby('StockCode')['UnitPrice'].mean()\n",
    "groupedByStockCodeAndUnitPriceMeanTopFour = groupedByStockCodeAndUnitPrice[moreThan35kIndices]\n",
    "groupedByStockCodeAndUnitPriceMeanTopFour"
   ]
  },
  {
   "cell_type": "markdown",
   "metadata": {},
   "source": [
    "jaki procent totalprice to te top 4 produkty\n",
    "top 4 produkty stanowia ogolo 2,28% totalprice"
   ]
  },
  {
   "cell_type": "code",
   "execution_count": 84,
   "metadata": {},
   "outputs": [
    {
     "data": {
      "text/plain": [
       "np.float64(2.2882733011543324)"
      ]
     },
     "execution_count": 84,
     "metadata": {},
     "output_type": "execute_result"
    }
   ],
   "source": [
    "groupedByStockCodeAndTotalPriceSum = data.groupby('StockCode')['TotalPrice'].sum()\n",
    "groupedByStockCodeAndTotalPriceSumTopFour = groupedByStockCodeAndTotalPriceSum[moreThan35kIndices].sum()\n",
    "AllSum = groupedByStockCodeAndTotalPriceSum.sum()\n",
    "percentageOfTotalPrice = (groupedByStockCodeAndTotalPriceSumTopFour / AllSum) * 100\n",
    "percentageOfTotalPrice\n"
   ]
  },
  {
   "cell_type": "markdown",
   "metadata": {},
   "source": [
    "Jacy klienci wydają najwięcej?\n",
    "klient numer 14646,18102,17450,18102,12415\n",
    "pochodzą oni z EIREm UK, Netherlands i Australii\n"
   ]
  },
  {
   "cell_type": "code",
   "execution_count": 57,
   "metadata": {},
   "outputs": [
    {
     "data": {
      "text/plain": [
       "CustomerID\n",
       "14646    279489.02\n",
       "18102    256438.49\n",
       "17450    187482.17\n",
       "14911    132572.62\n",
       "12415    123725.45\n",
       "           ...    \n",
       "12503     -1126.00\n",
       "17603     -1165.30\n",
       "14213     -1192.20\n",
       "15369     -1592.49\n",
       "17448     -4287.63\n",
       "Name: TotalPrice, Length: 4372, dtype: float64"
      ]
     },
     "execution_count": 57,
     "metadata": {},
     "output_type": "execute_result"
    }
   ],
   "source": [
    "groupedByCustomerIDandSumTotalPrice = data.groupby('CustomerID')['TotalPrice'].sum()\n",
    "groupedByCustomerIDandSumTotalPrice.sort_values(ascending=False)"
   ]
  },
  {
   "cell_type": "code",
   "execution_count": 58,
   "metadata": {},
   "outputs": [
    {
     "data": {
      "text/plain": [
       "Index([12415, 14646, 14911, 17450, 18102], dtype='Int32', name='CustomerID')"
      ]
     },
     "execution_count": 58,
     "metadata": {},
     "output_type": "execute_result"
    }
   ],
   "source": [
    "topFiveCustomers = groupedByCustomerIDandSumTotalPrice > 123725\n",
    "indicesOfTopFive = topFiveCustomers[topFiveCustomers == True].index\n",
    "indicesOfTopFive"
   ]
  },
  {
   "cell_type": "code",
   "execution_count": 59,
   "metadata": {},
   "outputs": [
    {
     "data": {
      "text/plain": [
       "CustomerID               [14911, 17450, 18102, 14646, 12415]\n",
       "Country       [EIRE, United Kingdom, Netherlands, Australia]\n",
       "dtype: object"
      ]
     },
     "execution_count": 59,
     "metadata": {},
     "output_type": "execute_result"
    }
   ],
   "source": [
    "informationAboutTopFiveCustomers = data[data['CustomerID'].isin(indicesOfTopFive)]\n",
    "informationAboutTopFiveCustomers[['CustomerID','Country']].apply(lambda s: s.unique())"
   ]
  },
  {
   "cell_type": "markdown",
   "metadata": {},
   "source": [
    "🟡 Możliwe uzupełnienia później (jeśli wrócisz do rozszerzeń)\n",
    "Element\tCo możesz dodać później\n",
    "Suma wydatków top 5 vs reszta\tpolicz udział % łącznych wydatków tych 5 klientów w całkowitej sprzedaży\n",
    "Liczba zamówień / średnia wartość\tnp. dla 14646 ile faktur miał, jaka była jego średnia wartość koszyka\n",
    "Czas trwania relacji\tsprawdź pierwszą i ostatnią fakturę tych klientów – czy są stali, czy jednorazowi „big spenders"
   ]
  },
  {
   "cell_type": "markdown",
   "metadata": {},
   "source": [
    "jaki jest procent udziału wydatkow top 5 w calkowitej sprzedazy\n",
    "ich udział wynosi 11%"
   ]
  },
  {
   "cell_type": "code",
   "execution_count": 85,
   "metadata": {},
   "outputs": [
    {
     "data": {
      "text/plain": [
       "np.float64(11.803614235775022)"
      ]
     },
     "execution_count": 85,
     "metadata": {},
     "output_type": "execute_result"
    }
   ],
   "source": [
    "percentageOfTop5inTotalPrice = (groupedByCustomerIDandSumTotalPrice[topFiveCustomers].sum() / groupedByCustomerIDandSumTotalPrice.sum()) * 100\n",
    "percentageOfTop5inTotalPrice"
   ]
  },
  {
   "cell_type": "markdown",
   "metadata": {},
   "source": [
    "jaka jest liczba zamowien top 5 customerow?\n",
    "customer kolejno 12415,14646,14911,17450,18102 zrobil 26,77,248,55,18102 zamowien, kolejno ich srednia wartosc jednego zamowienia to: 4758,3629,534,3408,4316\n",
    "wszyscy  to sa stali klienci powyzej 10 miesiecy."
   ]
  },
  {
   "cell_type": "code",
   "execution_count": 104,
   "metadata": {},
   "outputs": [
    {
     "data": {
      "text/html": [
       "<div>\n",
       "<style scoped>\n",
       "    .dataframe tbody tr th:only-of-type {\n",
       "        vertical-align: middle;\n",
       "    }\n",
       "\n",
       "    .dataframe tbody tr th {\n",
       "        vertical-align: top;\n",
       "    }\n",
       "\n",
       "    .dataframe thead th {\n",
       "        text-align: right;\n",
       "    }\n",
       "</style>\n",
       "<table border=\"1\" class=\"dataframe\">\n",
       "  <thead>\n",
       "    <tr style=\"text-align: right;\">\n",
       "      <th></th>\n",
       "      <th>orderCount</th>\n",
       "      <th>sumTotalPrice</th>\n",
       "      <th>firstDayOfOrder</th>\n",
       "      <th>lastDayOfOrder</th>\n",
       "      <th>meanOfOrder</th>\n",
       "    </tr>\n",
       "    <tr>\n",
       "      <th>CustomerID</th>\n",
       "      <th></th>\n",
       "      <th></th>\n",
       "      <th></th>\n",
       "      <th></th>\n",
       "      <th></th>\n",
       "    </tr>\n",
       "  </thead>\n",
       "  <tbody>\n",
       "    <tr>\n",
       "      <th>12415</th>\n",
       "      <td>26</td>\n",
       "      <td>123725.45</td>\n",
       "      <td>2011-01-06 11:12:00</td>\n",
       "      <td>2011-11-15 14:22:00</td>\n",
       "      <td>4758.671154</td>\n",
       "    </tr>\n",
       "    <tr>\n",
       "      <th>14646</th>\n",
       "      <td>77</td>\n",
       "      <td>279489.02</td>\n",
       "      <td>2010-12-20 10:09:00</td>\n",
       "      <td>2011-12-08 12:12:00</td>\n",
       "      <td>3629.727532</td>\n",
       "    </tr>\n",
       "    <tr>\n",
       "      <th>14911</th>\n",
       "      <td>248</td>\n",
       "      <td>132572.62</td>\n",
       "      <td>2010-12-01 14:05:00</td>\n",
       "      <td>2011-12-08 15:54:00</td>\n",
       "      <td>534.567016</td>\n",
       "    </tr>\n",
       "    <tr>\n",
       "      <th>17450</th>\n",
       "      <td>55</td>\n",
       "      <td>187482.17</td>\n",
       "      <td>2010-12-07 09:23:00</td>\n",
       "      <td>2011-12-01 13:29:00</td>\n",
       "      <td>3408.766727</td>\n",
       "    </tr>\n",
       "    <tr>\n",
       "      <th>18102</th>\n",
       "      <td>62</td>\n",
       "      <td>256438.49</td>\n",
       "      <td>2010-12-07 16:42:00</td>\n",
       "      <td>2011-12-09 11:50:00</td>\n",
       "      <td>4136.104677</td>\n",
       "    </tr>\n",
       "  </tbody>\n",
       "</table>\n",
       "</div>"
      ],
      "text/plain": [
       "            orderCount  sumTotalPrice     firstDayOfOrder      lastDayOfOrder  meanOfOrder\n",
       "CustomerID                                                                                \n",
       "12415               26      123725.45 2011-01-06 11:12:00 2011-11-15 14:22:00  4758.671154\n",
       "14646               77      279489.02 2010-12-20 10:09:00 2011-12-08 12:12:00  3629.727532\n",
       "14911              248      132572.62 2010-12-01 14:05:00 2011-12-08 15:54:00   534.567016\n",
       "17450               55      187482.17 2010-12-07 09:23:00 2011-12-01 13:29:00  3408.766727\n",
       "18102               62      256438.49 2010-12-07 16:42:00 2011-12-09 11:50:00  4136.104677"
      ]
     },
     "execution_count": 104,
     "metadata": {},
     "output_type": "execute_result"
    }
   ],
   "source": [
    "aggDataTopFiveCustomers = informationAboutTopFiveCustomers.groupby('CustomerID').agg(\n",
    "    orderCount = ('InvoiceNo', lambda s: len(s.unique())),\n",
    "    sumTotalPrice = ('TotalPrice', 'sum'),\n",
    "    firstDayOfOrder = ('InvoiceDate', lambda s: s.min()),\n",
    "    lastDayOfOrder = ('InvoiceDate',lambda s: s.max())\n",
    ")\n",
    "aggDataTopFiveCustomers['meanOfOrder'] = aggDataTopFiveCustomers['sumTotalPrice'] / aggDataTopFiveCustomers['orderCount']\n",
    "aggDataTopFiveCustomers"
   ]
  },
  {
   "cell_type": "markdown",
   "metadata": {},
   "source": [
    "Sprzedaż miesięczna, tygodniowa, dzienna"
   ]
  },
  {
   "cell_type": "code",
   "execution_count": 118,
   "metadata": {},
   "outputs": [
    {
     "data": {
      "text/html": [
       "<div>\n",
       "<style scoped>\n",
       "    .dataframe tbody tr th:only-of-type {\n",
       "        vertical-align: middle;\n",
       "    }\n",
       "\n",
       "    .dataframe tbody tr th {\n",
       "        vertical-align: top;\n",
       "    }\n",
       "\n",
       "    .dataframe thead th {\n",
       "        text-align: right;\n",
       "    }\n",
       "</style>\n",
       "<table border=\"1\" class=\"dataframe\">\n",
       "  <thead>\n",
       "    <tr style=\"text-align: right;\">\n",
       "      <th></th>\n",
       "      <th>InvoiceMonth</th>\n",
       "      <th>TotalPrice</th>\n",
       "      <th>percentageOfTotal</th>\n",
       "    </tr>\n",
       "  </thead>\n",
       "  <tbody>\n",
       "    <tr>\n",
       "      <th>0</th>\n",
       "      <td>1</td>\n",
       "      <td>475074.380</td>\n",
       "      <td>5.723742</td>\n",
       "    </tr>\n",
       "    <tr>\n",
       "      <th>1</th>\n",
       "      <td>2</td>\n",
       "      <td>436546.150</td>\n",
       "      <td>5.259550</td>\n",
       "    </tr>\n",
       "    <tr>\n",
       "      <th>2</th>\n",
       "      <td>3</td>\n",
       "      <td>579964.610</td>\n",
       "      <td>6.987470</td>\n",
       "    </tr>\n",
       "    <tr>\n",
       "      <th>3</th>\n",
       "      <td>4</td>\n",
       "      <td>426047.851</td>\n",
       "      <td>5.133066</td>\n",
       "    </tr>\n",
       "    <tr>\n",
       "      <th>4</th>\n",
       "      <td>5</td>\n",
       "      <td>648251.080</td>\n",
       "      <td>7.810192</td>\n",
       "    </tr>\n",
       "    <tr>\n",
       "      <th>5</th>\n",
       "      <td>6</td>\n",
       "      <td>608013.160</td>\n",
       "      <td>7.325402</td>\n",
       "    </tr>\n",
       "    <tr>\n",
       "      <th>6</th>\n",
       "      <td>7</td>\n",
       "      <td>574238.481</td>\n",
       "      <td>6.918481</td>\n",
       "    </tr>\n",
       "    <tr>\n",
       "      <th>7</th>\n",
       "      <td>8</td>\n",
       "      <td>616368.000</td>\n",
       "      <td>7.426062</td>\n",
       "    </tr>\n",
       "    <tr>\n",
       "      <th>8</th>\n",
       "      <td>9</td>\n",
       "      <td>931440.372</td>\n",
       "      <td>11.222084</td>\n",
       "    </tr>\n",
       "    <tr>\n",
       "      <th>9</th>\n",
       "      <td>10</td>\n",
       "      <td>974603.590</td>\n",
       "      <td>11.742119</td>\n",
       "    </tr>\n",
       "    <tr>\n",
       "      <th>10</th>\n",
       "      <td>11</td>\n",
       "      <td>1132407.740</td>\n",
       "      <td>13.643359</td>\n",
       "    </tr>\n",
       "    <tr>\n",
       "      <th>11</th>\n",
       "      <td>12</td>\n",
       "      <td>897110.400</td>\n",
       "      <td>10.808473</td>\n",
       "    </tr>\n",
       "  </tbody>\n",
       "</table>\n",
       "</div>"
      ],
      "text/plain": [
       "    InvoiceMonth   TotalPrice  percentageOfTotal\n",
       "0              1   475074.380           5.723742\n",
       "1              2   436546.150           5.259550\n",
       "2              3   579964.610           6.987470\n",
       "3              4   426047.851           5.133066\n",
       "4              5   648251.080           7.810192\n",
       "5              6   608013.160           7.325402\n",
       "6              7   574238.481           6.918481\n",
       "7              8   616368.000           7.426062\n",
       "8              9   931440.372          11.222084\n",
       "9             10   974603.590          11.742119\n",
       "10            11  1132407.740          13.643359\n",
       "11            12   897110.400          10.808473"
      ]
     },
     "execution_count": 118,
     "metadata": {},
     "output_type": "execute_result"
    }
   ],
   "source": [
    "groupedByMonthAndTotalPrice = data.groupby('InvoiceMonth')['TotalPrice'].sum()\n",
    "totalSumOfMonths = groupedByMonthAndTotalPrice.sum()\n",
    "groupedByMonthAndTotalPrice = groupedByMonthAndTotalPrice.reset_index()\n",
    "groupedByMonthAndTotalPrice['percentageOfTotal'] = (groupedByMonthAndTotalPrice['TotalPrice'] / totalSumOfMonths) * 100\n",
    "groupedByMonthAndTotalPrice"
   ]
  },
  {
   "cell_type": "code",
   "execution_count": 119,
   "metadata": {},
   "outputs": [
    {
     "data": {
      "text/html": [
       "<div>\n",
       "<style scoped>\n",
       "    .dataframe tbody tr th:only-of-type {\n",
       "        vertical-align: middle;\n",
       "    }\n",
       "\n",
       "    .dataframe tbody tr th {\n",
       "        vertical-align: top;\n",
       "    }\n",
       "\n",
       "    .dataframe thead th {\n",
       "        text-align: right;\n",
       "    }\n",
       "</style>\n",
       "<table border=\"1\" class=\"dataframe\">\n",
       "  <thead>\n",
       "    <tr style=\"text-align: right;\">\n",
       "      <th></th>\n",
       "      <th>InvoiceWeekday</th>\n",
       "      <th>TotalPrice</th>\n",
       "      <th>percentageOfTotal</th>\n",
       "    </tr>\n",
       "  </thead>\n",
       "  <tbody>\n",
       "    <tr>\n",
       "      <th>0</th>\n",
       "      <td>Friday</td>\n",
       "      <td>1241316.181</td>\n",
       "      <td>14.955498</td>\n",
       "    </tr>\n",
       "    <tr>\n",
       "      <th>1</th>\n",
       "      <td>Monday</td>\n",
       "      <td>1274551.511</td>\n",
       "      <td>15.355921</td>\n",
       "    </tr>\n",
       "    <tr>\n",
       "      <th>2</th>\n",
       "      <td>Sunday</td>\n",
       "      <td>784418.851</td>\n",
       "      <td>9.450755</td>\n",
       "    </tr>\n",
       "    <tr>\n",
       "      <th>3</th>\n",
       "      <td>Thursday</td>\n",
       "      <td>1906108.190</td>\n",
       "      <td>22.964977</td>\n",
       "    </tr>\n",
       "    <tr>\n",
       "      <th>4</th>\n",
       "      <td>Tuesday</td>\n",
       "      <td>1563193.591</td>\n",
       "      <td>18.833508</td>\n",
       "    </tr>\n",
       "    <tr>\n",
       "      <th>5</th>\n",
       "      <td>Wednesday</td>\n",
       "      <td>1530477.490</td>\n",
       "      <td>18.439342</td>\n",
       "    </tr>\n",
       "  </tbody>\n",
       "</table>\n",
       "</div>"
      ],
      "text/plain": [
       "  InvoiceWeekday   TotalPrice  percentageOfTotal\n",
       "0         Friday  1241316.181          14.955498\n",
       "1         Monday  1274551.511          15.355921\n",
       "2         Sunday   784418.851           9.450755\n",
       "3       Thursday  1906108.190          22.964977\n",
       "4        Tuesday  1563193.591          18.833508\n",
       "5      Wednesday  1530477.490          18.439342"
      ]
     },
     "execution_count": 119,
     "metadata": {},
     "output_type": "execute_result"
    }
   ],
   "source": [
    "groupedByWeekdayAndTotalPrice = data.groupby('InvoiceWeekday')['TotalPrice'].sum()\n",
    "totalSumOfDays = groupedByWeekdayAndTotalPrice.sum()\n",
    "groupedByWeekdayAndTotalPrice = groupedByWeekdayAndTotalPrice.reset_index()\n",
    "groupedByWeekdayAndTotalPrice['percentageOfTotal'] = (groupedByWeekdayAndTotalPrice['TotalPrice'] / totalSumOfDays) * 100\n",
    "groupedByWeekdayAndTotalPrice"
   ]
  },
  {
   "cell_type": "code",
   "execution_count": 114,
   "metadata": {},
   "outputs": [
    {
     "data": {
      "text/html": [
       "<div>\n",
       "<style scoped>\n",
       "    .dataframe tbody tr th:only-of-type {\n",
       "        vertical-align: middle;\n",
       "    }\n",
       "\n",
       "    .dataframe tbody tr th {\n",
       "        vertical-align: top;\n",
       "    }\n",
       "\n",
       "    .dataframe thead th {\n",
       "        text-align: right;\n",
       "    }\n",
       "</style>\n",
       "<table border=\"1\" class=\"dataframe\">\n",
       "  <thead>\n",
       "    <tr style=\"text-align: right;\">\n",
       "      <th></th>\n",
       "      <th>InvoiceWeekOfYear</th>\n",
       "      <th>TotalPrice</th>\n",
       "      <th>percentageOfTotal</th>\n",
       "    </tr>\n",
       "  </thead>\n",
       "  <tbody>\n",
       "    <tr>\n",
       "      <th>0</th>\n",
       "      <td>2010-48</td>\n",
       "      <td>114425.150</td>\n",
       "      <td>1.378605</td>\n",
       "    </tr>\n",
       "    <tr>\n",
       "      <th>1</th>\n",
       "      <td>2010-49</td>\n",
       "      <td>222203.550</td>\n",
       "      <td>2.677130</td>\n",
       "    </tr>\n",
       "    <tr>\n",
       "      <th>2</th>\n",
       "      <td>2010-50</td>\n",
       "      <td>167045.200</td>\n",
       "      <td>2.012577</td>\n",
       "    </tr>\n",
       "    <tr>\n",
       "      <th>3</th>\n",
       "      <td>2010-51</td>\n",
       "      <td>50930.120</td>\n",
       "      <td>0.613611</td>\n",
       "    </tr>\n",
       "    <tr>\n",
       "      <th>4</th>\n",
       "      <td>2011-01</td>\n",
       "      <td>93258.060</td>\n",
       "      <td>1.123582</td>\n",
       "    </tr>\n",
       "    <tr>\n",
       "      <th>5</th>\n",
       "      <td>2011-02</td>\n",
       "      <td>160969.800</td>\n",
       "      <td>1.939380</td>\n",
       "    </tr>\n",
       "    <tr>\n",
       "      <th>6</th>\n",
       "      <td>2011-03</td>\n",
       "      <td>93747.420</td>\n",
       "      <td>1.129478</td>\n",
       "    </tr>\n",
       "    <tr>\n",
       "      <th>7</th>\n",
       "      <td>2011-04</td>\n",
       "      <td>103100.290</td>\n",
       "      <td>1.242162</td>\n",
       "    </tr>\n",
       "    <tr>\n",
       "      <th>8</th>\n",
       "      <td>2011-05</td>\n",
       "      <td>106798.210</td>\n",
       "      <td>1.286715</td>\n",
       "    </tr>\n",
       "    <tr>\n",
       "      <th>9</th>\n",
       "      <td>2011-06</td>\n",
       "      <td>81161.310</td>\n",
       "      <td>0.977839</td>\n",
       "    </tr>\n",
       "    <tr>\n",
       "      <th>10</th>\n",
       "      <td>2011-07</td>\n",
       "      <td>120808.740</td>\n",
       "      <td>1.455515</td>\n",
       "    </tr>\n",
       "    <tr>\n",
       "      <th>11</th>\n",
       "      <td>2011-08</td>\n",
       "      <td>127180.580</td>\n",
       "      <td>1.532284</td>\n",
       "    </tr>\n",
       "    <tr>\n",
       "      <th>12</th>\n",
       "      <td>2011-09</td>\n",
       "      <td>115231.800</td>\n",
       "      <td>1.388324</td>\n",
       "    </tr>\n",
       "    <tr>\n",
       "      <th>13</th>\n",
       "      <td>2011-10</td>\n",
       "      <td>112836.190</td>\n",
       "      <td>1.359461</td>\n",
       "    </tr>\n",
       "    <tr>\n",
       "      <th>14</th>\n",
       "      <td>2011-11</td>\n",
       "      <td>119773.490</td>\n",
       "      <td>1.443043</td>\n",
       "    </tr>\n",
       "    <tr>\n",
       "      <th>15</th>\n",
       "      <td>2011-12</td>\n",
       "      <td>139747.030</td>\n",
       "      <td>1.683686</td>\n",
       "    </tr>\n",
       "    <tr>\n",
       "      <th>16</th>\n",
       "      <td>2011-13</td>\n",
       "      <td>140286.260</td>\n",
       "      <td>1.690183</td>\n",
       "    </tr>\n",
       "    <tr>\n",
       "      <th>17</th>\n",
       "      <td>2011-14</td>\n",
       "      <td>104565.830</td>\n",
       "      <td>1.259819</td>\n",
       "    </tr>\n",
       "    <tr>\n",
       "      <th>18</th>\n",
       "      <td>2011-15</td>\n",
       "      <td>129787.221</td>\n",
       "      <td>1.563689</td>\n",
       "    </tr>\n",
       "    <tr>\n",
       "      <th>19</th>\n",
       "      <td>2011-16</td>\n",
       "      <td>103953.280</td>\n",
       "      <td>1.252439</td>\n",
       "    </tr>\n",
       "    <tr>\n",
       "      <th>20</th>\n",
       "      <td>2011-17</td>\n",
       "      <td>64427.480</td>\n",
       "      <td>0.776229</td>\n",
       "    </tr>\n",
       "    <tr>\n",
       "      <th>21</th>\n",
       "      <td>2011-18</td>\n",
       "      <td>103087.070</td>\n",
       "      <td>1.242003</td>\n",
       "    </tr>\n",
       "    <tr>\n",
       "      <th>22</th>\n",
       "      <td>2011-19</td>\n",
       "      <td>183066.050</td>\n",
       "      <td>2.205598</td>\n",
       "    </tr>\n",
       "    <tr>\n",
       "      <th>23</th>\n",
       "      <td>2011-20</td>\n",
       "      <td>178878.500</td>\n",
       "      <td>2.155146</td>\n",
       "    </tr>\n",
       "    <tr>\n",
       "      <th>24</th>\n",
       "      <td>2011-21</td>\n",
       "      <td>158562.610</td>\n",
       "      <td>1.910378</td>\n",
       "    </tr>\n",
       "    <tr>\n",
       "      <th>25</th>\n",
       "      <td>2011-22</td>\n",
       "      <td>82303.690</td>\n",
       "      <td>0.991603</td>\n",
       "    </tr>\n",
       "    <tr>\n",
       "      <th>26</th>\n",
       "      <td>2011-23</td>\n",
       "      <td>164865.570</td>\n",
       "      <td>1.986316</td>\n",
       "    </tr>\n",
       "    <tr>\n",
       "      <th>27</th>\n",
       "      <td>2011-24</td>\n",
       "      <td>157483.590</td>\n",
       "      <td>1.897378</td>\n",
       "    </tr>\n",
       "    <tr>\n",
       "      <th>28</th>\n",
       "      <td>2011-25</td>\n",
       "      <td>125233.340</td>\n",
       "      <td>1.508823</td>\n",
       "    </tr>\n",
       "    <tr>\n",
       "      <th>29</th>\n",
       "      <td>2011-26</td>\n",
       "      <td>114469.870</td>\n",
       "      <td>1.379144</td>\n",
       "    </tr>\n",
       "    <tr>\n",
       "      <th>30</th>\n",
       "      <td>2011-27</td>\n",
       "      <td>129007.500</td>\n",
       "      <td>1.554295</td>\n",
       "    </tr>\n",
       "    <tr>\n",
       "      <th>31</th>\n",
       "      <td>2011-28</td>\n",
       "      <td>104958.780</td>\n",
       "      <td>1.264554</td>\n",
       "    </tr>\n",
       "    <tr>\n",
       "      <th>32</th>\n",
       "      <td>2011-29</td>\n",
       "      <td>139602.530</td>\n",
       "      <td>1.681945</td>\n",
       "    </tr>\n",
       "    <tr>\n",
       "      <th>33</th>\n",
       "      <td>2011-30</td>\n",
       "      <td>155594.581</td>\n",
       "      <td>1.874619</td>\n",
       "    </tr>\n",
       "    <tr>\n",
       "      <th>34</th>\n",
       "      <td>2011-31</td>\n",
       "      <td>175890.330</td>\n",
       "      <td>2.119144</td>\n",
       "    </tr>\n",
       "    <tr>\n",
       "      <th>35</th>\n",
       "      <td>2011-32</td>\n",
       "      <td>139282.100</td>\n",
       "      <td>1.678084</td>\n",
       "    </tr>\n",
       "    <tr>\n",
       "      <th>36</th>\n",
       "      <td>2011-33</td>\n",
       "      <td>155219.060</td>\n",
       "      <td>1.870094</td>\n",
       "    </tr>\n",
       "    <tr>\n",
       "      <th>37</th>\n",
       "      <td>2011-34</td>\n",
       "      <td>148693.800</td>\n",
       "      <td>1.791477</td>\n",
       "    </tr>\n",
       "    <tr>\n",
       "      <th>38</th>\n",
       "      <td>2011-35</td>\n",
       "      <td>97688.450</td>\n",
       "      <td>1.176960</td>\n",
       "    </tr>\n",
       "    <tr>\n",
       "      <th>39</th>\n",
       "      <td>2011-36</td>\n",
       "      <td>146369.010</td>\n",
       "      <td>1.763468</td>\n",
       "    </tr>\n",
       "    <tr>\n",
       "      <th>40</th>\n",
       "      <td>2011-37</td>\n",
       "      <td>224982.110</td>\n",
       "      <td>2.710606</td>\n",
       "    </tr>\n",
       "    <tr>\n",
       "      <th>41</th>\n",
       "      <td>2011-38</td>\n",
       "      <td>284367.770</td>\n",
       "      <td>3.426091</td>\n",
       "    </tr>\n",
       "    <tr>\n",
       "      <th>42</th>\n",
       "      <td>2011-39</td>\n",
       "      <td>208704.782</td>\n",
       "      <td>2.514496</td>\n",
       "    </tr>\n",
       "    <tr>\n",
       "      <th>43</th>\n",
       "      <td>2011-40</td>\n",
       "      <td>285256.930</td>\n",
       "      <td>3.436803</td>\n",
       "    </tr>\n",
       "    <tr>\n",
       "      <th>44</th>\n",
       "      <td>2011-41</td>\n",
       "      <td>173762.190</td>\n",
       "      <td>2.093504</td>\n",
       "    </tr>\n",
       "    <tr>\n",
       "      <th>45</th>\n",
       "      <td>2011-42</td>\n",
       "      <td>252023.600</td>\n",
       "      <td>3.036405</td>\n",
       "    </tr>\n",
       "    <tr>\n",
       "      <th>46</th>\n",
       "      <td>2011-43</td>\n",
       "      <td>196733.110</td>\n",
       "      <td>2.370260</td>\n",
       "    </tr>\n",
       "    <tr>\n",
       "      <th>47</th>\n",
       "      <td>2011-44</td>\n",
       "      <td>246777.950</td>\n",
       "      <td>2.973205</td>\n",
       "    </tr>\n",
       "    <tr>\n",
       "      <th>48</th>\n",
       "      <td>2011-45</td>\n",
       "      <td>270327.040</td>\n",
       "      <td>3.256926</td>\n",
       "    </tr>\n",
       "    <tr>\n",
       "      <th>49</th>\n",
       "      <td>2011-46</td>\n",
       "      <td>270190.270</td>\n",
       "      <td>3.255279</td>\n",
       "    </tr>\n",
       "    <tr>\n",
       "      <th>50</th>\n",
       "      <td>2011-47</td>\n",
       "      <td>255574.560</td>\n",
       "      <td>3.079187</td>\n",
       "    </tr>\n",
       "    <tr>\n",
       "      <th>51</th>\n",
       "      <td>2011-48</td>\n",
       "      <td>244264.350</td>\n",
       "      <td>2.942921</td>\n",
       "    </tr>\n",
       "    <tr>\n",
       "      <th>52</th>\n",
       "      <td>2011-49</td>\n",
       "      <td>254607.710</td>\n",
       "      <td>3.067538</td>\n",
       "    </tr>\n",
       "  </tbody>\n",
       "</table>\n",
       "</div>"
      ],
      "text/plain": [
       "   InvoiceWeekOfYear  TotalPrice  percentageOfTotal\n",
       "0            2010-48  114425.150           1.378605\n",
       "1            2010-49  222203.550           2.677130\n",
       "2            2010-50  167045.200           2.012577\n",
       "3            2010-51   50930.120           0.613611\n",
       "4            2011-01   93258.060           1.123582\n",
       "5            2011-02  160969.800           1.939380\n",
       "6            2011-03   93747.420           1.129478\n",
       "7            2011-04  103100.290           1.242162\n",
       "8            2011-05  106798.210           1.286715\n",
       "9            2011-06   81161.310           0.977839\n",
       "10           2011-07  120808.740           1.455515\n",
       "11           2011-08  127180.580           1.532284\n",
       "12           2011-09  115231.800           1.388324\n",
       "13           2011-10  112836.190           1.359461\n",
       "14           2011-11  119773.490           1.443043\n",
       "15           2011-12  139747.030           1.683686\n",
       "16           2011-13  140286.260           1.690183\n",
       "17           2011-14  104565.830           1.259819\n",
       "18           2011-15  129787.221           1.563689\n",
       "19           2011-16  103953.280           1.252439\n",
       "20           2011-17   64427.480           0.776229\n",
       "21           2011-18  103087.070           1.242003\n",
       "22           2011-19  183066.050           2.205598\n",
       "23           2011-20  178878.500           2.155146\n",
       "24           2011-21  158562.610           1.910378\n",
       "25           2011-22   82303.690           0.991603\n",
       "26           2011-23  164865.570           1.986316\n",
       "27           2011-24  157483.590           1.897378\n",
       "28           2011-25  125233.340           1.508823\n",
       "29           2011-26  114469.870           1.379144\n",
       "30           2011-27  129007.500           1.554295\n",
       "31           2011-28  104958.780           1.264554\n",
       "32           2011-29  139602.530           1.681945\n",
       "33           2011-30  155594.581           1.874619\n",
       "34           2011-31  175890.330           2.119144\n",
       "35           2011-32  139282.100           1.678084\n",
       "36           2011-33  155219.060           1.870094\n",
       "37           2011-34  148693.800           1.791477\n",
       "38           2011-35   97688.450           1.176960\n",
       "39           2011-36  146369.010           1.763468\n",
       "40           2011-37  224982.110           2.710606\n",
       "41           2011-38  284367.770           3.426091\n",
       "42           2011-39  208704.782           2.514496\n",
       "43           2011-40  285256.930           3.436803\n",
       "44           2011-41  173762.190           2.093504\n",
       "45           2011-42  252023.600           3.036405\n",
       "46           2011-43  196733.110           2.370260\n",
       "47           2011-44  246777.950           2.973205\n",
       "48           2011-45  270327.040           3.256926\n",
       "49           2011-46  270190.270           3.255279\n",
       "50           2011-47  255574.560           3.079187\n",
       "51           2011-48  244264.350           2.942921\n",
       "52           2011-49  254607.710           3.067538"
      ]
     },
     "execution_count": 114,
     "metadata": {},
     "output_type": "execute_result"
    }
   ],
   "source": [
    "groupedByWeekOfTheYear = data.groupby('InvoiceWeekOfYear')['TotalPrice'].sum()\n",
    "totalSumOfWeeks = groupedByWeekOfTheYear.sum()\n",
    "groupedByWeekOfTheYear = groupedByWeekOfTheYear.reset_index()\n",
    "groupedByWeekOfTheYear['percentageOfTotal'] = (groupedByWeekOfTheYear['TotalPrice'] / totalSumOfWeeks) * 100\n",
    "groupedByWeekOfTheYear"
   ]
  },
  {
   "cell_type": "markdown",
   "metadata": {},
   "source": [
    "🟡 Co możesz dodać później (opcjonalnie)\n",
    "Uzupełnienie\tCo da\n",
    "Linie trendu (rolling mean)\tWygładzenie tygodniowych skoków\n",
    "% udział danego miesiąca\tDaje kontekst, czy np. listopad to 10% czy 25% całości\n",
    "\n",
    "przeanalizowac w kazdym top 3 i wysnuc wnioski// pozniej"
   ]
  },
  {
   "cell_type": "markdown",
   "metadata": {},
   "source": [
    "Kiedy (dzień/godzina) sprzedaż jest największa?\n",
    "Dzien mam wyzej napisane - czwartek, a godzina najwiekszej sprzedazy to 12"
   ]
  },
  {
   "cell_type": "code",
   "execution_count": 116,
   "metadata": {},
   "outputs": [
    {
     "data": {
      "text/html": [
       "<div>\n",
       "<style scoped>\n",
       "    .dataframe tbody tr th:only-of-type {\n",
       "        vertical-align: middle;\n",
       "    }\n",
       "\n",
       "    .dataframe tbody tr th {\n",
       "        vertical-align: top;\n",
       "    }\n",
       "\n",
       "    .dataframe thead th {\n",
       "        text-align: right;\n",
       "    }\n",
       "</style>\n",
       "<table border=\"1\" class=\"dataframe\">\n",
       "  <thead>\n",
       "    <tr style=\"text-align: right;\">\n",
       "      <th></th>\n",
       "      <th>InvoiceHour</th>\n",
       "      <th>TotalPrice</th>\n",
       "      <th>percentageOfTotal</th>\n",
       "    </tr>\n",
       "  </thead>\n",
       "  <tbody>\n",
       "    <tr>\n",
       "      <th>0</th>\n",
       "      <td>6</td>\n",
       "      <td>-497.350</td>\n",
       "      <td>-0.005992</td>\n",
       "    </tr>\n",
       "    <tr>\n",
       "      <th>1</th>\n",
       "      <td>7</td>\n",
       "      <td>31009.320</td>\n",
       "      <td>0.373603</td>\n",
       "    </tr>\n",
       "    <tr>\n",
       "      <th>2</th>\n",
       "      <td>8</td>\n",
       "      <td>280103.270</td>\n",
       "      <td>3.374711</td>\n",
       "    </tr>\n",
       "    <tr>\n",
       "      <th>3</th>\n",
       "      <td>9</td>\n",
       "      <td>655114.831</td>\n",
       "      <td>7.892887</td>\n",
       "    </tr>\n",
       "    <tr>\n",
       "      <th>4</th>\n",
       "      <td>10</td>\n",
       "      <td>1150556.961</td>\n",
       "      <td>13.862022</td>\n",
       "    </tr>\n",
       "    <tr>\n",
       "      <th>5</th>\n",
       "      <td>11</td>\n",
       "      <td>1054638.910</td>\n",
       "      <td>12.706392</td>\n",
       "    </tr>\n",
       "    <tr>\n",
       "      <th>6</th>\n",
       "      <td>12</td>\n",
       "      <td>1337091.770</td>\n",
       "      <td>16.109412</td>\n",
       "    </tr>\n",
       "    <tr>\n",
       "      <th>7</th>\n",
       "      <td>13</td>\n",
       "      <td>1122675.430</td>\n",
       "      <td>13.526103</td>\n",
       "    </tr>\n",
       "    <tr>\n",
       "      <th>8</th>\n",
       "      <td>14</td>\n",
       "      <td>948603.821</td>\n",
       "      <td>11.428871</td>\n",
       "    </tr>\n",
       "    <tr>\n",
       "      <th>9</th>\n",
       "      <td>15</td>\n",
       "      <td>898958.860</td>\n",
       "      <td>10.830744</td>\n",
       "    </tr>\n",
       "    <tr>\n",
       "      <th>10</th>\n",
       "      <td>16</td>\n",
       "      <td>447390.890</td>\n",
       "      <td>5.390209</td>\n",
       "    </tr>\n",
       "    <tr>\n",
       "      <th>11</th>\n",
       "      <td>17</td>\n",
       "      <td>212975.731</td>\n",
       "      <td>2.565952</td>\n",
       "    </tr>\n",
       "    <tr>\n",
       "      <th>12</th>\n",
       "      <td>18</td>\n",
       "      <td>100734.560</td>\n",
       "      <td>1.213660</td>\n",
       "    </tr>\n",
       "    <tr>\n",
       "      <th>13</th>\n",
       "      <td>19</td>\n",
       "      <td>44688.440</td>\n",
       "      <td>0.538411</td>\n",
       "    </tr>\n",
       "    <tr>\n",
       "      <th>14</th>\n",
       "      <td>20</td>\n",
       "      <td>16020.370</td>\n",
       "      <td>0.193015</td>\n",
       "    </tr>\n",
       "  </tbody>\n",
       "</table>\n",
       "</div>"
      ],
      "text/plain": [
       "    InvoiceHour   TotalPrice  percentageOfTotal\n",
       "0             6     -497.350          -0.005992\n",
       "1             7    31009.320           0.373603\n",
       "2             8   280103.270           3.374711\n",
       "3             9   655114.831           7.892887\n",
       "4            10  1150556.961          13.862022\n",
       "5            11  1054638.910          12.706392\n",
       "6            12  1337091.770          16.109412\n",
       "7            13  1122675.430          13.526103\n",
       "8            14   948603.821          11.428871\n",
       "9            15   898958.860          10.830744\n",
       "10           16   447390.890           5.390209\n",
       "11           17   212975.731           2.565952\n",
       "12           18   100734.560           1.213660\n",
       "13           19    44688.440           0.538411\n",
       "14           20    16020.370           0.193015"
      ]
     },
     "execution_count": 116,
     "metadata": {},
     "output_type": "execute_result"
    }
   ],
   "source": [
    "groupedByHourAndTotalPrice = data.groupby('InvoiceHour')['TotalPrice'].sum()\n",
    "totalPriceAllHours = groupedByHourAndTotalPrice.sum()\n",
    "groupedByHourAndTotalPrice = groupedByHourAndTotalPrice.reset_index()\n",
    "\n",
    "groupedByHourAndTotalPrice['percentageOfTotal'] = (groupedByHourAndTotalPrice['TotalPrice'] / totalPriceAllHours) * 100\n",
    "groupedByHourAndTotalPrice"
   ]
  },
  {
   "cell_type": "markdown",
   "metadata": {},
   "source": [
    "Średnia wartość koszyka wynosi okolo 374$"
   ]
  },
  {
   "cell_type": "code",
   "execution_count": 64,
   "metadata": {},
   "outputs": [
    {
     "data": {
      "text/plain": [
       "np.float64(374.0453273546642)"
      ]
     },
     "execution_count": 64,
     "metadata": {},
     "output_type": "execute_result"
    }
   ],
   "source": [
    "groupedByInvoicesAndTotalPrice = data.groupby('InvoiceNo')['TotalPrice'].sum()\n",
    "meanOfInvoice = groupedByInvoicesAndTotalPrice.mean()\n",
    "meanOfInvoice"
   ]
  },
  {
   "cell_type": "markdown",
   "metadata": {},
   "source": [
    "Ilu klientów kupuje tylko raz? (churn) jest 79 takich klientow"
   ]
  },
  {
   "cell_type": "code",
   "execution_count": 65,
   "metadata": {},
   "outputs": [
    {
     "data": {
      "text/plain": [
       "np.int64(79)"
      ]
     },
     "execution_count": 65,
     "metadata": {},
     "output_type": "execute_result"
    }
   ],
   "source": [
    "groupedByCustomerAndCountInvoice = data.groupby('CustomerID')['InvoiceNo'].count()\n",
    "numberOfClientsWithOnePurchase = (groupedByCustomerAndCountInvoice == 1).sum()\n",
    "numberOfClientsWithOnePurchase"
   ]
  },
  {
   "cell_type": "markdown",
   "metadata": {},
   "source": [
    "jaki jest %chrunu\n",
    "jest to okolo 1.8%"
   ]
  },
  {
   "cell_type": "code",
   "execution_count": 66,
   "metadata": {},
   "outputs": [
    {
     "data": {
      "text/plain": [
       "np.float64(1.8069533394327537)"
      ]
     },
     "execution_count": 66,
     "metadata": {},
     "output_type": "execute_result"
    }
   ],
   "source": [
    "percentageOfChrun = (numberOfClientsWithOnePurchase / nuniqueClients) * 100\n",
    "percentageOfChrun"
   ]
  },
  {
   "cell_type": "markdown",
   "metadata": {},
   "source": [
    "🟡 Co możesz ewentualnie dodać (przy rozszerzeniu):\n",
    "Uzupełnienie\tDlaczego warto\n",
    "% churnu\t79 to liczba absolutna – możesz podać: „stanowi to X% wszystkich klientów”, np. 79 / 4372 = ~1.8%.\n",
    "Średnia wartość koszyka u churnów\tCzy ci klienci zostawiają więcej czy mniej niż typowi?\n",
    "Kiedy ci klienci kupili?\tMoże kupili dawno i nigdy nie wrócili – insight czasowy."
   ]
  },
  {
   "cell_type": "code",
   "execution_count": 123,
   "metadata": {},
   "outputs": [
    {
     "data": {
      "text/plain": [
       "np.float64(1898.4597012808783)"
      ]
     },
     "execution_count": 123,
     "metadata": {},
     "output_type": "execute_result"
    }
   ],
   "source": [
    "indicesOfChurn = (groupedByCustomerAndCountInvoice == 1).index\n",
    "dataChurn = data[data['CustomerID'].isin(indicesOfChurn)]\n",
    "meanOrderForChurn = dataChurn.groupby('CustomerID')['TotalPrice'].sum().mean()\n",
    "meanOrderForChurn\n"
   ]
  },
  {
   "cell_type": "code",
   "execution_count": null,
   "metadata": {},
   "outputs": [],
   "source": [
    "print(\"Najwcześniejszy zakup churnów:\", dataChurn['InvoiceDate'].min())\n",
    "print(\"Najpóźniejszy zakup churnów:\", dataChurn['InvoiceDate'].max())"
   ]
  }
 ],
 "metadata": {
  "kernelspec": {
   "display_name": "Python 3",
   "language": "python",
   "name": "python3"
  },
  "language_info": {
   "codemirror_mode": {
    "name": "ipython",
    "version": 3
   },
   "file_extension": ".py",
   "mimetype": "text/x-python",
   "name": "python",
   "nbconvert_exporter": "python",
   "pygments_lexer": "ipython3",
   "version": "3.10.12"
  }
 },
 "nbformat": 4,
 "nbformat_minor": 2
}
